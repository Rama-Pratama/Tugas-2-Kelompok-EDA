{
 "cells": [
  {
   "cell_type": "markdown",
   "metadata": {
    "id": "GuYM6t_As0uS"
   },
   "source": [
    "# Mengimport Library"
   ]
  },
  {
   "cell_type": "code",
   "execution_count": 1,
   "metadata": {
    "id": "UZd9myz0f221"
   },
   "outputs": [],
   "source": [
    "# Import library\n",
    "import pandas as pd\n",
    "import matplotlib.pyplot as plt\n",
    "import seaborn as sns\n",
    "from scipy.stats import pearsonr\n",
    "import numpy as np\n",
    "import statsmodels.formula.api as smf\n",
    "from scipy import stats\n",
    "import scipy.stats as stats\n",
    "import statsmodels.api as sm\n",
    "from statsmodels.compat import lzip\n",
    "import statsmodels.stats.api as sms\n",
    "from statsmodels.stats.stattools import durbin_watson"
   ]
  },
  {
   "cell_type": "code",
   "execution_count": 2,
   "metadata": {
    "colab": {
     "base_uri": "https://localhost:8080/",
     "height": 424
    },
    "id": "lkgl_H7UgJXR",
    "outputId": "9f3583d7-13fa-442e-be7f-579f8589b094",
    "tags": []
   },
   "outputs": [
    {
     "data": {
      "text/html": [
       "<div>\n",
       "<style scoped>\n",
       "    .dataframe tbody tr th:only-of-type {\n",
       "        vertical-align: middle;\n",
       "    }\n",
       "\n",
       "    .dataframe tbody tr th {\n",
       "        vertical-align: top;\n",
       "    }\n",
       "\n",
       "    .dataframe thead th {\n",
       "        text-align: right;\n",
       "    }\n",
       "</style>\n",
       "<table border=\"1\" class=\"dataframe\">\n",
       "  <thead>\n",
       "    <tr style=\"text-align: right;\">\n",
       "      <th></th>\n",
       "      <th>Student_ID</th>\n",
       "      <th>Study_Hours_Per_Day</th>\n",
       "      <th>Extracurricular_Hours_Per_Day</th>\n",
       "      <th>Sleep_Hours_Per_Day</th>\n",
       "      <th>Social_Hours_Per_Day</th>\n",
       "      <th>Physical_Activity_Hours_Per_Day</th>\n",
       "      <th>GPA</th>\n",
       "      <th>Stress_Level</th>\n",
       "    </tr>\n",
       "  </thead>\n",
       "  <tbody>\n",
       "    <tr>\n",
       "      <th>0</th>\n",
       "      <td>1</td>\n",
       "      <td>6.9</td>\n",
       "      <td>3.8</td>\n",
       "      <td>8.7</td>\n",
       "      <td>2.8</td>\n",
       "      <td>1.8</td>\n",
       "      <td>2.99</td>\n",
       "      <td>Moderate</td>\n",
       "    </tr>\n",
       "    <tr>\n",
       "      <th>1</th>\n",
       "      <td>2</td>\n",
       "      <td>5.3</td>\n",
       "      <td>3.5</td>\n",
       "      <td>8.0</td>\n",
       "      <td>4.2</td>\n",
       "      <td>3.0</td>\n",
       "      <td>2.75</td>\n",
       "      <td>Low</td>\n",
       "    </tr>\n",
       "    <tr>\n",
       "      <th>2</th>\n",
       "      <td>3</td>\n",
       "      <td>5.1</td>\n",
       "      <td>3.9</td>\n",
       "      <td>9.2</td>\n",
       "      <td>1.2</td>\n",
       "      <td>4.6</td>\n",
       "      <td>2.67</td>\n",
       "      <td>Low</td>\n",
       "    </tr>\n",
       "    <tr>\n",
       "      <th>3</th>\n",
       "      <td>4</td>\n",
       "      <td>6.5</td>\n",
       "      <td>2.1</td>\n",
       "      <td>7.2</td>\n",
       "      <td>1.7</td>\n",
       "      <td>6.5</td>\n",
       "      <td>2.88</td>\n",
       "      <td>Moderate</td>\n",
       "    </tr>\n",
       "    <tr>\n",
       "      <th>4</th>\n",
       "      <td>5</td>\n",
       "      <td>8.1</td>\n",
       "      <td>0.6</td>\n",
       "      <td>6.5</td>\n",
       "      <td>2.2</td>\n",
       "      <td>6.6</td>\n",
       "      <td>3.51</td>\n",
       "      <td>High</td>\n",
       "    </tr>\n",
       "    <tr>\n",
       "      <th>...</th>\n",
       "      <td>...</td>\n",
       "      <td>...</td>\n",
       "      <td>...</td>\n",
       "      <td>...</td>\n",
       "      <td>...</td>\n",
       "      <td>...</td>\n",
       "      <td>...</td>\n",
       "      <td>...</td>\n",
       "    </tr>\n",
       "    <tr>\n",
       "      <th>1995</th>\n",
       "      <td>1996</td>\n",
       "      <td>6.5</td>\n",
       "      <td>0.2</td>\n",
       "      <td>7.4</td>\n",
       "      <td>2.1</td>\n",
       "      <td>7.8</td>\n",
       "      <td>3.32</td>\n",
       "      <td>Moderate</td>\n",
       "    </tr>\n",
       "    <tr>\n",
       "      <th>1996</th>\n",
       "      <td>1997</td>\n",
       "      <td>6.3</td>\n",
       "      <td>2.8</td>\n",
       "      <td>8.8</td>\n",
       "      <td>1.5</td>\n",
       "      <td>4.6</td>\n",
       "      <td>2.65</td>\n",
       "      <td>Moderate</td>\n",
       "    </tr>\n",
       "    <tr>\n",
       "      <th>1997</th>\n",
       "      <td>1998</td>\n",
       "      <td>6.2</td>\n",
       "      <td>0.0</td>\n",
       "      <td>6.2</td>\n",
       "      <td>0.8</td>\n",
       "      <td>10.8</td>\n",
       "      <td>3.14</td>\n",
       "      <td>Moderate</td>\n",
       "    </tr>\n",
       "    <tr>\n",
       "      <th>1998</th>\n",
       "      <td>1999</td>\n",
       "      <td>8.1</td>\n",
       "      <td>0.7</td>\n",
       "      <td>7.6</td>\n",
       "      <td>3.5</td>\n",
       "      <td>4.1</td>\n",
       "      <td>3.04</td>\n",
       "      <td>High</td>\n",
       "    </tr>\n",
       "    <tr>\n",
       "      <th>1999</th>\n",
       "      <td>2000</td>\n",
       "      <td>9.0</td>\n",
       "      <td>1.7</td>\n",
       "      <td>7.3</td>\n",
       "      <td>3.1</td>\n",
       "      <td>2.9</td>\n",
       "      <td>3.58</td>\n",
       "      <td>High</td>\n",
       "    </tr>\n",
       "  </tbody>\n",
       "</table>\n",
       "<p>2000 rows × 8 columns</p>\n",
       "</div>"
      ],
      "text/plain": [
       "      Student_ID  Study_Hours_Per_Day  Extracurricular_Hours_Per_Day  \\\n",
       "0              1                  6.9                            3.8   \n",
       "1              2                  5.3                            3.5   \n",
       "2              3                  5.1                            3.9   \n",
       "3              4                  6.5                            2.1   \n",
       "4              5                  8.1                            0.6   \n",
       "...          ...                  ...                            ...   \n",
       "1995        1996                  6.5                            0.2   \n",
       "1996        1997                  6.3                            2.8   \n",
       "1997        1998                  6.2                            0.0   \n",
       "1998        1999                  8.1                            0.7   \n",
       "1999        2000                  9.0                            1.7   \n",
       "\n",
       "      Sleep_Hours_Per_Day  Social_Hours_Per_Day  \\\n",
       "0                     8.7                   2.8   \n",
       "1                     8.0                   4.2   \n",
       "2                     9.2                   1.2   \n",
       "3                     7.2                   1.7   \n",
       "4                     6.5                   2.2   \n",
       "...                   ...                   ...   \n",
       "1995                  7.4                   2.1   \n",
       "1996                  8.8                   1.5   \n",
       "1997                  6.2                   0.8   \n",
       "1998                  7.6                   3.5   \n",
       "1999                  7.3                   3.1   \n",
       "\n",
       "      Physical_Activity_Hours_Per_Day   GPA Stress_Level  \n",
       "0                                 1.8  2.99     Moderate  \n",
       "1                                 3.0  2.75          Low  \n",
       "2                                 4.6  2.67          Low  \n",
       "3                                 6.5  2.88     Moderate  \n",
       "4                                 6.6  3.51         High  \n",
       "...                               ...   ...          ...  \n",
       "1995                              7.8  3.32     Moderate  \n",
       "1996                              4.6  2.65     Moderate  \n",
       "1997                             10.8  3.14     Moderate  \n",
       "1998                              4.1  3.04         High  \n",
       "1999                              2.9  3.58         High  \n",
       "\n",
       "[2000 rows x 8 columns]"
      ]
     },
     "execution_count": 2,
     "metadata": {},
     "output_type": "execute_result"
    }
   ],
   "source": [
    "# Membaca dataset\n",
    "df = pd.read_csv('C:\\Python\\\\student_lifestyle_dataset.csv', sep=',')\n",
    "df"
   ]
  },
  {
   "cell_type": "markdown",
   "metadata": {
    "id": "pei0jNvBdsYP"
   },
   "source": [
    "# Analisis Regresi Sederhana"
   ]
  },
  {
   "cell_type": "code",
   "execution_count": 3,
   "metadata": {
    "colab": {
     "base_uri": "https://localhost:8080/",
     "height": 424
    },
    "id": "RaSCoB3ms-BK",
    "outputId": "e818fbc0-f58f-4cb7-ce11-2311d5e2878b"
   },
   "outputs": [
    {
     "data": {
      "text/html": [
       "<div>\n",
       "<style scoped>\n",
       "    .dataframe tbody tr th:only-of-type {\n",
       "        vertical-align: middle;\n",
       "    }\n",
       "\n",
       "    .dataframe tbody tr th {\n",
       "        vertical-align: top;\n",
       "    }\n",
       "\n",
       "    .dataframe thead th {\n",
       "        text-align: right;\n",
       "    }\n",
       "</style>\n",
       "<table border=\"1\" class=\"dataframe\">\n",
       "  <thead>\n",
       "    <tr style=\"text-align: right;\">\n",
       "      <th></th>\n",
       "      <th>Physical_Activity_Hours_Per_Day</th>\n",
       "      <th>GPA</th>\n",
       "    </tr>\n",
       "  </thead>\n",
       "  <tbody>\n",
       "    <tr>\n",
       "      <th>0</th>\n",
       "      <td>1.8</td>\n",
       "      <td>2.99</td>\n",
       "    </tr>\n",
       "    <tr>\n",
       "      <th>1</th>\n",
       "      <td>3.0</td>\n",
       "      <td>2.75</td>\n",
       "    </tr>\n",
       "    <tr>\n",
       "      <th>2</th>\n",
       "      <td>4.6</td>\n",
       "      <td>2.67</td>\n",
       "    </tr>\n",
       "    <tr>\n",
       "      <th>3</th>\n",
       "      <td>6.5</td>\n",
       "      <td>2.88</td>\n",
       "    </tr>\n",
       "    <tr>\n",
       "      <th>4</th>\n",
       "      <td>6.6</td>\n",
       "      <td>3.51</td>\n",
       "    </tr>\n",
       "    <tr>\n",
       "      <th>...</th>\n",
       "      <td>...</td>\n",
       "      <td>...</td>\n",
       "    </tr>\n",
       "    <tr>\n",
       "      <th>1995</th>\n",
       "      <td>7.8</td>\n",
       "      <td>3.32</td>\n",
       "    </tr>\n",
       "    <tr>\n",
       "      <th>1996</th>\n",
       "      <td>4.6</td>\n",
       "      <td>2.65</td>\n",
       "    </tr>\n",
       "    <tr>\n",
       "      <th>1997</th>\n",
       "      <td>10.8</td>\n",
       "      <td>3.14</td>\n",
       "    </tr>\n",
       "    <tr>\n",
       "      <th>1998</th>\n",
       "      <td>4.1</td>\n",
       "      <td>3.04</td>\n",
       "    </tr>\n",
       "    <tr>\n",
       "      <th>1999</th>\n",
       "      <td>2.9</td>\n",
       "      <td>3.58</td>\n",
       "    </tr>\n",
       "  </tbody>\n",
       "</table>\n",
       "<p>2000 rows × 2 columns</p>\n",
       "</div>"
      ],
      "text/plain": [
       "      Physical_Activity_Hours_Per_Day   GPA\n",
       "0                                 1.8  2.99\n",
       "1                                 3.0  2.75\n",
       "2                                 4.6  2.67\n",
       "3                                 6.5  2.88\n",
       "4                                 6.6  3.51\n",
       "...                               ...   ...\n",
       "1995                              7.8  3.32\n",
       "1996                              4.6  2.65\n",
       "1997                             10.8  3.14\n",
       "1998                              4.1  3.04\n",
       "1999                              2.9  3.58\n",
       "\n",
       "[2000 rows x 2 columns]"
      ]
     },
     "execution_count": 3,
     "metadata": {},
     "output_type": "execute_result"
    }
   ],
   "source": [
    "df_sederhana = df[['Physical_Activity_Hours_Per_Day', 'GPA']]\n",
    "df_sederhana"
   ]
  },
  {
   "cell_type": "markdown",
   "metadata": {
    "id": "J0Ts23CytpnH"
   },
   "source": [
    "## Menentukan Variabel Independen dan Dependen"
   ]
  },
  {
   "cell_type": "code",
   "execution_count": 4,
   "metadata": {
    "colab": {
     "base_uri": "https://localhost:8080/",
     "height": 35
    },
    "id": "Tq6J-2bsttXS",
    "outputId": "8b6c2740-8d7a-4f5b-9296-be29b79ffb32"
   },
   "outputs": [
    {
     "data": {
      "text/plain": [
       "' Dari dataset tersebut dapat diketahui bahwa variabel independen yang digunakan adalah Physical_Activity_Hours_Per_Day, Sedangkan variabel dependen yang digunakan adalah GPA. '"
      ]
     },
     "execution_count": 4,
     "metadata": {},
     "output_type": "execute_result"
    }
   ],
   "source": [
    "\"\"\" Dari dataset tersebut dapat diketahui bahwa variabel independen yang digunakan adalah Physical_Activity_Hours_Per_Day, Sedangkan variabel dependen yang digunakan adalah GPA. \"\"\""
   ]
  },
  {
   "cell_type": "markdown",
   "metadata": {
    "id": "bg5o8LmSuj2q"
   },
   "source": [
    "## Mengubah DataFrame"
   ]
  },
  {
   "cell_type": "code",
   "execution_count": 5,
   "metadata": {
    "colab": {
     "base_uri": "https://localhost:8080/",
     "height": 424
    },
    "id": "tyhUtusgun68",
    "outputId": "96802c49-8883-4bd8-fda2-e8ba931407e1"
   },
   "outputs": [
    {
     "name": "stderr",
     "output_type": "stream",
     "text": [
      "C:\\Users\\rr411\\AppData\\Local\\Temp\\ipykernel_58044\\4267879771.py:2: SettingWithCopyWarning: \n",
      "A value is trying to be set on a copy of a slice from a DataFrame\n",
      "\n",
      "See the caveats in the documentation: https://pandas.pydata.org/pandas-docs/stable/user_guide/indexing.html#returning-a-view-versus-a-copy\n",
      "  df_sederhana.rename(columns={'Physical_Activity_Hours_Per_Day' : 'x', 'GPA' : 'y'}, inplace=True)\n"
     ]
    },
    {
     "data": {
      "text/html": [
       "<div>\n",
       "<style scoped>\n",
       "    .dataframe tbody tr th:only-of-type {\n",
       "        vertical-align: middle;\n",
       "    }\n",
       "\n",
       "    .dataframe tbody tr th {\n",
       "        vertical-align: top;\n",
       "    }\n",
       "\n",
       "    .dataframe thead th {\n",
       "        text-align: right;\n",
       "    }\n",
       "</style>\n",
       "<table border=\"1\" class=\"dataframe\">\n",
       "  <thead>\n",
       "    <tr style=\"text-align: right;\">\n",
       "      <th></th>\n",
       "      <th>x</th>\n",
       "      <th>y</th>\n",
       "    </tr>\n",
       "  </thead>\n",
       "  <tbody>\n",
       "    <tr>\n",
       "      <th>0</th>\n",
       "      <td>1.8</td>\n",
       "      <td>2.99</td>\n",
       "    </tr>\n",
       "    <tr>\n",
       "      <th>1</th>\n",
       "      <td>3.0</td>\n",
       "      <td>2.75</td>\n",
       "    </tr>\n",
       "    <tr>\n",
       "      <th>2</th>\n",
       "      <td>4.6</td>\n",
       "      <td>2.67</td>\n",
       "    </tr>\n",
       "    <tr>\n",
       "      <th>3</th>\n",
       "      <td>6.5</td>\n",
       "      <td>2.88</td>\n",
       "    </tr>\n",
       "    <tr>\n",
       "      <th>4</th>\n",
       "      <td>6.6</td>\n",
       "      <td>3.51</td>\n",
       "    </tr>\n",
       "    <tr>\n",
       "      <th>...</th>\n",
       "      <td>...</td>\n",
       "      <td>...</td>\n",
       "    </tr>\n",
       "    <tr>\n",
       "      <th>1995</th>\n",
       "      <td>7.8</td>\n",
       "      <td>3.32</td>\n",
       "    </tr>\n",
       "    <tr>\n",
       "      <th>1996</th>\n",
       "      <td>4.6</td>\n",
       "      <td>2.65</td>\n",
       "    </tr>\n",
       "    <tr>\n",
       "      <th>1997</th>\n",
       "      <td>10.8</td>\n",
       "      <td>3.14</td>\n",
       "    </tr>\n",
       "    <tr>\n",
       "      <th>1998</th>\n",
       "      <td>4.1</td>\n",
       "      <td>3.04</td>\n",
       "    </tr>\n",
       "    <tr>\n",
       "      <th>1999</th>\n",
       "      <td>2.9</td>\n",
       "      <td>3.58</td>\n",
       "    </tr>\n",
       "  </tbody>\n",
       "</table>\n",
       "<p>2000 rows × 2 columns</p>\n",
       "</div>"
      ],
      "text/plain": [
       "         x     y\n",
       "0      1.8  2.99\n",
       "1      3.0  2.75\n",
       "2      4.6  2.67\n",
       "3      6.5  2.88\n",
       "4      6.6  3.51\n",
       "...    ...   ...\n",
       "1995   7.8  3.32\n",
       "1996   4.6  2.65\n",
       "1997  10.8  3.14\n",
       "1998   4.1  3.04\n",
       "1999   2.9  3.58\n",
       "\n",
       "[2000 rows x 2 columns]"
      ]
     },
     "execution_count": 5,
     "metadata": {},
     "output_type": "execute_result"
    }
   ],
   "source": [
    "# Mengganti Nama Variabel Menjadi X dan Y\n",
    "df_sederhana.rename(columns={'Physical_Activity_Hours_Per_Day' : 'x', 'GPA' : 'y'}, inplace=True)\n",
    "df_sederhana"
   ]
  },
  {
   "cell_type": "markdown",
   "metadata": {
    "id": "jEbT9dD7uEY5"
   },
   "source": [
    "## Mengetahui Seberapa Kuat Hubungan Variabel Dependen (Physical_Activity) dan Variabel Independen (GPA) Menggunakan Metode Analisis Korelasi Pearson"
   ]
  },
  {
   "cell_type": "code",
   "execution_count": 6,
   "metadata": {
    "id": "TGwwH4tlvAd1"
   },
   "outputs": [],
   "source": [
    "# Import Library yang dibutuhkan untuk membuat scatter plot\n",
    "import numpy as np\n",
    "import matplotlib.pyplot as plt\n",
    "import seaborn as sns\n",
    "import warnings\n",
    "\n",
    "plt.style.use('fivethirtyeight')\n",
    "warnings.filterwarnings('ignore')\n",
    "%matplotlib inline"
   ]
  },
  {
   "cell_type": "code",
   "execution_count": 7,
   "metadata": {
    "colab": {
     "base_uri": "https://localhost:8080/",
     "height": 508
    },
    "id": "x3JGFt7lvVaX",
    "outputId": "4d2c3a6c-a9ce-41b3-ef7a-b30166cc22c9"
   },
   "outputs": [
    {
     "data": {
      "image/png": "[encoded data removed]",
      "text/plain": [
       "<Figure size 640x480 with 1 Axes>"
      ]
     },
     "metadata": {},
     "output_type": "display_data"
    }
   ],
   "source": [
    "# Memunculkan Scatter Plot\n",
    "plt.scatter(df_sederhana['x'], df_sederhana['y'])\n",
    "plt.xlabel('x')\n",
    "plt.ylabel('y')\n",
    "plt.title('Scatter Plot Hubungan antara Physical_Activity_Hours_Per_Day dengan GPA')\n",
    "plt.show()"
   ]
  },
  {
   "cell_type": "code",
   "execution_count": 8,
   "metadata": {
    "colab": {
     "base_uri": "https://localhost:8080/",
     "height": 53
    },
    "id": "25mBfMFVvVNd",
    "outputId": "544720a1-36c3-466c-d001-93a9753c3ae6"
   },
   "outputs": [
    {
     "data": {
      "text/plain": [
       "' Berdasarkan gambar scatter plot di atas terlihat titik-titik data membentuk garis linier menurun sehingga dapat disimpulkan bahwa terdapat hubungan linier negatif yang jelas antara lama jam beraktivitas fisik per hari dengan GPA.'"
      ]
     },
     "execution_count": 8,
     "metadata": {},
     "output_type": "execute_result"
    }
   ],
   "source": [
    "\"\"\" Berdasarkan gambar scatter plot di atas terlihat titik-titik data membentuk garis linier menurun sehingga dapat disimpulkan bahwa terdapat hubungan linier negatif yang jelas antara lama jam beraktivitas fisik per hari dengan GPA.\"\"\""
   ]
  },
  {
   "cell_type": "markdown",
   "metadata": {
    "id": "LWm5z6zPKFLR"
   },
   "source": [
    "## Mengetahui Seberapa Kuat Hubungan Antara Physical_Activity_Hours_Per_Day dengan GPA Menggunakan Metode Analisis Korelasi Pearson"
   ]
  },
  {
   "cell_type": "code",
   "execution_count": 9,
   "metadata": {
    "colab": {
     "base_uri": "https://localhost:8080/"
    },
    "id": "LEc-PBpkKp0L",
    "outputId": "cb74fa00-6445-40b2-c29e-6135b7003bc2"
   },
   "outputs": [
    {
     "name": "stdout",
     "output_type": "stream",
     "text": [
      "Koefisien Pearson: -0.34115\n"
     ]
    }
   ],
   "source": [
    "# Import Library yang Digunakan\n",
    "from scipy.stats import pearsonr\n",
    "\n",
    "# Menghitung Korelasi Pearson\n",
    "list1 = df_sederhana['x']\n",
    "list2 = df_sederhana['y']\n",
    "corr, _ = pearsonr(list1, list2)\n",
    "print('Koefisien Pearson: %.5f' % corr)"
   ]
  },
  {
   "cell_type": "code",
   "execution_count": 10,
   "metadata": {
    "colab": {
     "base_uri": "https://localhost:8080/",
     "height": 53
    },
    "id": "u7gEniHpLXgu",
    "outputId": "9ad7ef35-b271-46fb-d00d-d4a5c78359d6"
   },
   "outputs": [
    {
     "data": {
      "text/plain": [
       "'Dari nilai koefisien Pearson di atas yang bernilai -0.34115 disimpulkan bahwa hubungan antara Physical_Activity_Hours_Per_Day dengan GPA yaitu hubungan korelasi negatif lemah karena lebih dari sama dengan -0.3 dan kurang dari sama dengan 0 sehingga apabila Social_Hours_Per_Day meningkat, maka GPA menurun dan sebaliknya.'"
      ]
     },
     "execution_count": 10,
     "metadata": {},
     "output_type": "execute_result"
    }
   ],
   "source": [
    "# Kesimpulan\n",
    "\"\"\"Dari nilai koefisien Pearson di atas yang bernilai -0.34115 disimpulkan bahwa hubungan antara Physical_Activity_Hours_Per_Day dengan GPA yaitu hubungan korelasi negatif lemah karena lebih dari sama dengan -0.3 dan kurang dari sama dengan 0 sehingga apabila Social_Hours_Per_Day meningkat, maka GPA menurun dan sebaliknya.\"\"\""
   ]
  },
  {
   "cell_type": "markdown",
   "metadata": {
    "id": "P_AmeceaLtW3"
   },
   "source": [
    "## Membentuk Model Regresi Linear Sederhana"
   ]
  },
  {
   "cell_type": "code",
   "execution_count": 11,
   "metadata": {
    "colab": {
     "base_uri": "https://localhost:8080/"
    },
    "id": "5oVQ_lboMaCu",
    "outputId": "20873ffb-cbe2-42da-e9a6-6fceb7dc3a60"
   },
   "outputs": [
    {
     "name": "stdout",
     "output_type": "stream",
     "text": [
      "                            OLS Regression Results                            \n",
      "==============================================================================\n",
      "Dep. Variable:                      y   R-squared:                       0.116\n",
      "Model:                            OLS   Adj. R-squared:                  0.116\n",
      "Method:                 Least Squares   F-statistic:                     263.2\n",
      "Date:                Sun, 24 Nov 2024   Prob (F-statistic):           1.08e-55\n",
      "Time:                        22:40:28   Log-Likelihood:                -296.83\n",
      "No. Observations:                2000   AIC:                             597.7\n",
      "Df Residuals:                    1998   BIC:                             608.9\n",
      "Df Model:                           1                                         \n",
      "Covariance Type:            nonrobust                                         \n",
      "==============================================================================\n",
      "                 coef    std err          t      P>|t|      [0.025      0.975]\n",
      "------------------------------------------------------------------------------\n",
      "const          3.2914      0.013    263.216      0.000       3.267       3.316\n",
      "x             -0.0405      0.002    -16.222      0.000      -0.045      -0.036\n",
      "==============================================================================\n",
      "Omnibus:                       10.013   Durbin-Watson:                   1.996\n",
      "Prob(Omnibus):                  0.007   Jarque-Bera (JB):                7.573\n",
      "Skew:                          -0.025   Prob(JB):                       0.0227\n",
      "Kurtosis:                       2.703   Cond. No.                         10.3\n",
      "==============================================================================\n",
      "\n",
      "Notes:\n",
      "[1] Standard Errors assume that the covariance matrix of the errors is correctly specified.\n"
     ]
    }
   ],
   "source": [
    "# Memodelkan dengan Regresi Linear Sederhana\n",
    "import numpy as np\n",
    "import statsmodels.api as sm\n",
    "\n",
    "x = df_sederhana[['x']]\n",
    "y = df_sederhana['y']\n",
    "x = sm.add_constant(x)\n",
    "model = sm.OLS(y, x).fit()\n",
    "print_model = model.summary()\n",
    "print(print_model)"
   ]
  },
  {
   "cell_type": "code",
   "execution_count": 12,
   "metadata": {
    "colab": {
     "base_uri": "https://localhost:8080/",
     "height": 35
    },
    "id": "VWmAP0IkOKQx",
    "outputId": "a9867b5b-06ba-43db-d794-1e77c77b70ad"
   },
   "outputs": [
    {
     "data": {
      "text/plain": [
       "'Berdasarkan gambar di atas didapatkan bahwa β₀ (intersep) = 3.2914, β₁ (koefisien parameter variabel dependen) = -0.0405 sehingga didapatkan Ytopi = (3.2914) + (-0.0405)x. '"
      ]
     },
     "execution_count": 12,
     "metadata": {},
     "output_type": "execute_result"
    }
   ],
   "source": [
    "\"\"\"Berdasarkan gambar di atas didapatkan bahwa β₀ (intersep) = 3.2914, β₁ (koefisien parameter variabel dependen) = -0.0405 sehingga didapatkan Ytopi = (3.2914) + (-0.0405)x. \"\"\""
   ]
  },
  {
   "cell_type": "code",
   "execution_count": 13,
   "metadata": {
    "colab": {
     "base_uri": "https://localhost:8080/",
     "height": 53
    },
    "id": "Si1Rq5Ritr1V",
    "outputId": "e90de98f-e52f-4b57-ec34-f80b592e0992"
   },
   "outputs": [
    {
     "data": {
      "text/plain": [
       "' untuk estimator β₀ tidak dapat diinterpretasikan karena tidak terdapat koefisien x seperti yang lain.\\nuntuk estimator β, apabila ada pertambahan satu satuan nilai physical_Activity_Hours_Per_Day, maka akan menurunkan GPA setiap mahasiswa sebesar 0.0405.'"
      ]
     },
     "execution_count": 13,
     "metadata": {},
     "output_type": "execute_result"
    }
   ],
   "source": [
    "# Interpretasi\n",
    "\"\"\" untuk estimator β₀ tidak dapat diinterpretasikan karena tidak terdapat koefisien x seperti yang lain.\n",
    "untuk estimator β, apabila ada pertambahan satu satuan nilai physical_Activity_Hours_Per_Day, maka akan menurunkan GPA setiap mahasiswa sebesar 0.0405.\"\"\""
   ]
  },
  {
   "cell_type": "code",
   "execution_count": 14,
   "metadata": {
    "colab": {
     "base_uri": "https://localhost:8080/"
    },
    "id": "jC8RkM_VOgdN",
    "outputId": "6aab9d19-a47d-4da3-b290-b2069fe68810"
   },
   "outputs": [
    {
     "name": "stdout",
     "output_type": "stream",
     "text": [
      "0       3.218428\n",
      "1       3.169794\n",
      "2       3.104948\n",
      "3       3.027944\n",
      "4       3.023891\n",
      "          ...   \n",
      "1995    2.975257\n",
      "1996    3.104948\n",
      "1997    2.853671\n",
      "1998    3.125213\n",
      "1999    3.173847\n",
      "Length: 2000, dtype: float64\n"
     ]
    }
   ],
   "source": [
    "# Menghasilkan Nilai Prediksi Dari x\n",
    "prediksi = model.predict(x)\n",
    "print(prediksi)"
   ]
  },
  {
   "cell_type": "code",
   "execution_count": 15,
   "metadata": {
    "colab": {
     "base_uri": "https://localhost:8080/"
    },
    "id": "D9xAvWJEPFfZ",
    "outputId": "f4531422-5528-4645-b3e6-5a47d16da85c"
   },
   "outputs": [
    {
     "name": "stdout",
     "output_type": "stream",
     "text": [
      "0      -0.228428\n",
      "1      -0.419794\n",
      "2      -0.434948\n",
      "3      -0.147944\n",
      "4       0.486109\n",
      "          ...   \n",
      "1995    0.344743\n",
      "1996   -0.454948\n",
      "1997    0.286329\n",
      "1998   -0.085213\n",
      "1999    0.406153\n",
      "Length: 2000, dtype: float64\n"
     ]
    }
   ],
   "source": [
    "# Menghasilkan Nilai Residual ei\n",
    "residual = model.resid\n",
    "print(residual)"
   ]
  },
  {
   "cell_type": "markdown",
   "metadata": {
    "id": "6fmhU3m-PMRm"
   },
   "source": [
    "## Melakukan Uji F"
   ]
  },
  {
   "cell_type": "code",
   "execution_count": 16,
   "metadata": {
    "colab": {
     "base_uri": "https://localhost:8080/"
    },
    "id": "wqcomTtMPTKh",
    "outputId": "81aa0e61-80ec-4e78-fb49-7c86e4eb326d"
   },
   "outputs": [
    {
     "name": "stdout",
     "output_type": "stream",
     "text": [
      "Hasil dari F hitung adalah 263.1658\n",
      "Hasil dari F tabel adalah 3.8461\n",
      "Sehingga H0 ditolak yang artinya model layak untuk digunakan\n"
     ]
    }
   ],
   "source": [
    "## Menentukan Hipotesis null(H0) dan Hipotesis Alternatif(H1)\n",
    "# H₀ : β₁ = 0 (model tidak layak)\n",
    "# H₁ : β₁ != 0 (model layak)\n",
    "\n",
    "## Menentukan Tingkat Signifikansi\n",
    "# α = 5%\n",
    "\n",
    "## Menentukan Uji Statistik F\n",
    "from scipy.stats import f\n",
    "F_hit = model.fvalue\n",
    "df_model = model.df_model\n",
    "df_resid = model.df_resid\n",
    "alpha = 0.05\n",
    "F_tabel = f.ppf(1 - alpha, df_model, df_resid)\n",
    "\n",
    "# Menampilkan hasil dari uji f\n",
    "print('Hasil dari F hitung adalah', round(F_hit,4))\n",
    "print('Hasil dari F tabel adalah', round(F_tabel,4))\n",
    "\n",
    "# Keputusan\n",
    "if F_hit > F_tabel:\n",
    "    print(\"Sehingga H0 ditolak yang artinya model layak untuk digunakan\")\n",
    "\n",
    "else:\n",
    "    print(\"Sehingga H0 gagal tolak yang artinya model tidak layak digunakan\")"
   ]
  },
  {
   "cell_type": "code",
   "execution_count": 17,
   "metadata": {
    "colab": {
     "base_uri": "https://localhost:8080/",
     "height": 35
    },
    "id": "YykInCTFQn1K",
    "outputId": "b78aea7e-787a-4c51-d833-dd30c0510d2d"
   },
   "outputs": [
    {
     "data": {
      "text/plain": [
       "'Disimpulkan bahwa F hitung didapatkan hasil 263.1658 dan F tabel didapatkan hasil 3.8461  sehingga F hitung lebih besar dari F tabel maka dapat disimpulkan bahwa H0 ditolak yang artinya model layak digunakan.'"
      ]
     },
     "execution_count": 17,
     "metadata": {},
     "output_type": "execute_result"
    }
   ],
   "source": [
    "# Kesimpulan\n",
    "f'''Disimpulkan bahwa F hitung didapatkan hasil {round(F_hit, 4)} dan F tabel didapatkan hasil {round(F_tabel, 4)}  sehingga F hitung lebih besar dari F tabel maka dapat disimpulkan bahwa H0 ditolak yang artinya model layak digunakan.'''"
   ]
  },
  {
   "cell_type": "markdown",
   "metadata": {
    "id": "yXGERrr3S8uG"
   },
   "source": [
    "## Mendapatkan Nilai R-Squared"
   ]
  },
  {
   "cell_type": "code",
   "execution_count": 18,
   "metadata": {
    "colab": {
     "base_uri": "https://localhost:8080/"
    },
    "id": "xAmMO83FTAWK",
    "outputId": "c62d386f-3306-445c-e87f-6c9ac1845ce3"
   },
   "outputs": [
    {
     "name": "stdout",
     "output_type": "stream",
     "text": [
      "\n",
      "Nilai R-Squared yang didapatkan dalam tabel model regresi linier sederhana di atas adalah 0.1164, sehingga dapat disimpulkan sebesar 11,6% variabel Physical_Activity_Hours_Per_Day memengaruhi variabel GPA. Sisanya 88,4% dipengaruhi oleh variabel lainnya yang tidak diketahui.\n",
      "\n"
     ]
    }
   ],
   "source": [
    "# Nilai R-Squared\n",
    "r_squared = f'''\n",
    "Nilai R-Squared yang didapatkan dalam tabel model regresi linier sederhana di atas adalah {round(model.rsquared, 4)}, sehingga dapat disimpulkan sebesar 11,6% variabel Physical_Activity_Hours_Per_Day memengaruhi variabel GPA. Sisanya 88,4% dipengaruhi oleh variabel lainnya yang tidak diketahui.\n",
    "'''\n",
    "print(r_squared)"
   ]
  },
  {
   "cell_type": "markdown",
   "metadata": {
    "id": "oR43MwVRWgGl"
   },
   "source": [
    "## Melakukan Uji T"
   ]
  },
  {
   "cell_type": "code",
   "execution_count": 19,
   "metadata": {
    "colab": {
     "base_uri": "https://localhost:8080/"
    },
    "id": "MUsRbK6SWinJ",
    "outputId": "91dce391-7bc9-4fcb-9a8c-1fcb80da20e1"
   },
   "outputs": [
    {
     "name": "stdout",
     "output_type": "stream",
     "text": [
      "Hasil dari T tabel adalah 1.9612\n",
      "Nilai dari T hitung Pyshical_Activity_Hours_Per_Day adalah -16.2224\n",
      "Sehingga H0 gagal tolak yang artinya variabel Pyshical_Activity_Hours_Per_Day tidak berpengaruh signifikan terhadap variabel GPA.\n"
     ]
    }
   ],
   "source": [
    "## Menentukan Hipotesis null(H0) dan Hipotesis Alternatif(H1)\n",
    "# H₀ : βj = 0, dimana j = 1,2,.. (tidak berpengaruh signifikan)\n",
    "# H₁ : βj != 0, dimana j = 1,2,.. (berpengaruh signifikan)\n",
    "\n",
    "## Menentukan Tingkat Signifikansi\n",
    "# α = 5%\n",
    "\n",
    "## Menentukan Uji Statistik T\n",
    "# Menggunakan scipy untuk menguji hipotesis Uji T\n",
    "alpha = 0.05\n",
    "DF = 2000-1 #Banyak sampel - Banyak variabel\n",
    "T_tabel = stats.t.ppf(1-alpha/2, DF)\n",
    "print('Hasil dari T tabel adalah', round(T_tabel,4))\n",
    "\n",
    "# Keputusan Pyshical_Activity_Hours_Per_Day\n",
    "T_hit = model.tvalues['x']\n",
    "if T_hit > T_tabel:\n",
    "    print(\"Nilai dari T hitung Pyshical_Activity_Hours_Per_Day adalah\", round(T_hit,4))\n",
    "    print(\"Sehingga H0 ditolak yang artinya variabel Pyshical_Activity_Hours_Per_Day berpengaruh signifikan terhadap variabel GPA.\")\n",
    "\n",
    "else:\n",
    "    print(\"Nilai dari T hitung Pyshical_Activity_Hours_Per_Day adalah\", round(T_hit,4))\n",
    "    print(\"Sehingga H0 gagal tolak yang artinya variabel Pyshical_Activity_Hours_Per_Day tidak berpengaruh signifikan terhadap variabel GPA.\")"
   ]
  },
  {
   "cell_type": "code",
   "execution_count": 20,
   "metadata": {
    "colab": {
     "base_uri": "https://localhost:8080/",
     "height": 53
    },
    "id": "Mjo_rX1pYLNr",
    "outputId": "09136d40-731a-42d9-b330-afeb75ee0b88"
   },
   "outputs": [
    {
     "data": {
      "text/plain": [
       "'Disimpulkan bahwa T hitung Pyshical_Activity_Hours_Per_Day didapatkan hasil yaitu -16.2224 dan T tabel didapatkan hasil yaitu 1.9612 sehingga T hitung lebih kecil dari T tabel maka dapat disimpulkan bahwa H0 gagal tolak yang artinya lama jam beraktivitas fisik per hari tidak berpengaruh secara signifikan terhadap GPA setiap mahasiswa.'"
      ]
     },
     "execution_count": 20,
     "metadata": {},
     "output_type": "execute_result"
    }
   ],
   "source": [
    "# Kesimpulan\n",
    "f'''Disimpulkan bahwa T hitung Pyshical_Activity_Hours_Per_Day didapatkan hasil yaitu {round(T_hit,4)} dan T tabel didapatkan hasil yaitu {round(T_tabel,4)} sehingga T hitung lebih kecil dari T tabel maka dapat disimpulkan bahwa H0 gagal tolak yang artinya lama jam beraktivitas fisik per hari tidak berpengaruh secara signifikan terhadap GPA setiap mahasiswa.'''"
   ]
  },
  {
   "cell_type": "markdown",
   "metadata": {
    "id": "ZtoNm8WMFtYR"
   },
   "source": [
    "# Analisis Regresi Linier Berganda"
   ]
  },
  {
   "cell_type": "code",
   "execution_count": 21,
   "metadata": {
    "colab": {
     "base_uri": "https://localhost:8080/",
     "height": 424
    },
    "id": "zAU8FAMAGIj_",
    "outputId": "b1278a45-8eda-46d3-9b98-cb3adf211f64"
   },
   "outputs": [
    {
     "data": {
      "text/html": [
       "<div>\n",
       "<style scoped>\n",
       "    .dataframe tbody tr th:only-of-type {\n",
       "        vertical-align: middle;\n",
       "    }\n",
       "\n",
       "    .dataframe tbody tr th {\n",
       "        vertical-align: top;\n",
       "    }\n",
       "\n",
       "    .dataframe thead th {\n",
       "        text-align: right;\n",
       "    }\n",
       "</style>\n",
       "<table border=\"1\" class=\"dataframe\">\n",
       "  <thead>\n",
       "    <tr style=\"text-align: right;\">\n",
       "      <th></th>\n",
       "      <th>Study_Hours_Per_Day</th>\n",
       "      <th>Extracurricular_Hours_Per_Day</th>\n",
       "      <th>Sleep_Hours_Per_Day</th>\n",
       "      <th>Social_Hours_Per_Day</th>\n",
       "      <th>Physical_Activity_Hours_Per_Day</th>\n",
       "      <th>GPA</th>\n",
       "    </tr>\n",
       "  </thead>\n",
       "  <tbody>\n",
       "    <tr>\n",
       "      <th>0</th>\n",
       "      <td>6.9</td>\n",
       "      <td>3.8</td>\n",
       "      <td>8.7</td>\n",
       "      <td>2.8</td>\n",
       "      <td>1.8</td>\n",
       "      <td>2.99</td>\n",
       "    </tr>\n",
       "    <tr>\n",
       "      <th>1</th>\n",
       "      <td>5.3</td>\n",
       "      <td>3.5</td>\n",
       "      <td>8.0</td>\n",
       "      <td>4.2</td>\n",
       "      <td>3.0</td>\n",
       "      <td>2.75</td>\n",
       "    </tr>\n",
       "    <tr>\n",
       "      <th>2</th>\n",
       "      <td>5.1</td>\n",
       "      <td>3.9</td>\n",
       "      <td>9.2</td>\n",
       "      <td>1.2</td>\n",
       "      <td>4.6</td>\n",
       "      <td>2.67</td>\n",
       "    </tr>\n",
       "    <tr>\n",
       "      <th>3</th>\n",
       "      <td>6.5</td>\n",
       "      <td>2.1</td>\n",
       "      <td>7.2</td>\n",
       "      <td>1.7</td>\n",
       "      <td>6.5</td>\n",
       "      <td>2.88</td>\n",
       "    </tr>\n",
       "    <tr>\n",
       "      <th>4</th>\n",
       "      <td>8.1</td>\n",
       "      <td>0.6</td>\n",
       "      <td>6.5</td>\n",
       "      <td>2.2</td>\n",
       "      <td>6.6</td>\n",
       "      <td>3.51</td>\n",
       "    </tr>\n",
       "    <tr>\n",
       "      <th>...</th>\n",
       "      <td>...</td>\n",
       "      <td>...</td>\n",
       "      <td>...</td>\n",
       "      <td>...</td>\n",
       "      <td>...</td>\n",
       "      <td>...</td>\n",
       "    </tr>\n",
       "    <tr>\n",
       "      <th>1995</th>\n",
       "      <td>6.5</td>\n",
       "      <td>0.2</td>\n",
       "      <td>7.4</td>\n",
       "      <td>2.1</td>\n",
       "      <td>7.8</td>\n",
       "      <td>3.32</td>\n",
       "    </tr>\n",
       "    <tr>\n",
       "      <th>1996</th>\n",
       "      <td>6.3</td>\n",
       "      <td>2.8</td>\n",
       "      <td>8.8</td>\n",
       "      <td>1.5</td>\n",
       "      <td>4.6</td>\n",
       "      <td>2.65</td>\n",
       "    </tr>\n",
       "    <tr>\n",
       "      <th>1997</th>\n",
       "      <td>6.2</td>\n",
       "      <td>0.0</td>\n",
       "      <td>6.2</td>\n",
       "      <td>0.8</td>\n",
       "      <td>10.8</td>\n",
       "      <td>3.14</td>\n",
       "    </tr>\n",
       "    <tr>\n",
       "      <th>1998</th>\n",
       "      <td>8.1</td>\n",
       "      <td>0.7</td>\n",
       "      <td>7.6</td>\n",
       "      <td>3.5</td>\n",
       "      <td>4.1</td>\n",
       "      <td>3.04</td>\n",
       "    </tr>\n",
       "    <tr>\n",
       "      <th>1999</th>\n",
       "      <td>9.0</td>\n",
       "      <td>1.7</td>\n",
       "      <td>7.3</td>\n",
       "      <td>3.1</td>\n",
       "      <td>2.9</td>\n",
       "      <td>3.58</td>\n",
       "    </tr>\n",
       "  </tbody>\n",
       "</table>\n",
       "<p>2000 rows × 6 columns</p>\n",
       "</div>"
      ],
      "text/plain": [
       "      Study_Hours_Per_Day  Extracurricular_Hours_Per_Day  Sleep_Hours_Per_Day  \\\n",
       "0                     6.9                            3.8                  8.7   \n",
       "1                     5.3                            3.5                  8.0   \n",
       "2                     5.1                            3.9                  9.2   \n",
       "3                     6.5                            2.1                  7.2   \n",
       "4                     8.1                            0.6                  6.5   \n",
       "...                   ...                            ...                  ...   \n",
       "1995                  6.5                            0.2                  7.4   \n",
       "1996                  6.3                            2.8                  8.8   \n",
       "1997                  6.2                            0.0                  6.2   \n",
       "1998                  8.1                            0.7                  7.6   \n",
       "1999                  9.0                            1.7                  7.3   \n",
       "\n",
       "      Social_Hours_Per_Day  Physical_Activity_Hours_Per_Day   GPA  \n",
       "0                      2.8                              1.8  2.99  \n",
       "1                      4.2                              3.0  2.75  \n",
       "2                      1.2                              4.6  2.67  \n",
       "3                      1.7                              6.5  2.88  \n",
       "4                      2.2                              6.6  3.51  \n",
       "...                    ...                              ...   ...  \n",
       "1995                   2.1                              7.8  3.32  \n",
       "1996                   1.5                              4.6  2.65  \n",
       "1997                   0.8                             10.8  3.14  \n",
       "1998                   3.5                              4.1  3.04  \n",
       "1999                   3.1                              2.9  3.58  \n",
       "\n",
       "[2000 rows x 6 columns]"
      ]
     },
     "execution_count": 21,
     "metadata": {},
     "output_type": "execute_result"
    }
   ],
   "source": [
    "df_berganda = df[['Study_Hours_Per_Day',\t'Extracurricular_Hours_Per_Day',\t'Sleep_Hours_Per_Day',\t'Social_Hours_Per_Day',\t'Physical_Activity_Hours_Per_Day',\t'GPA']]\n",
    "df_berganda"
   ]
  },
  {
   "cell_type": "markdown",
   "metadata": {
    "id": "UUzCHxCJITS5"
   },
   "source": [
    "## Menentukan Variabel Independen dan Dependen"
   ]
  },
  {
   "cell_type": "code",
   "execution_count": 22,
   "metadata": {
    "colab": {
     "base_uri": "https://localhost:8080/",
     "height": 53
    },
    "id": "fy0PCXCkIjGo",
    "outputId": "eb3249f3-4b86-4692-abd0-633a42e646f7"
   },
   "outputs": [
    {
     "data": {
      "text/plain": [
       "' Dari dataset tersebut dapat diketahui bahwa variabel independen yang digunakan adalah Study_Hours_Per_Day, Extracurricular_Hours_Per_Day, Sleep_Hours_Per_Day, Social_Hours_Per_Day, dan Physical_Activity_Hours_Per_Day. Sedangkan variabel dependen yang digunakan adalah GPA. '"
      ]
     },
     "execution_count": 22,
     "metadata": {},
     "output_type": "execute_result"
    }
   ],
   "source": [
    "\"\"\" Dari dataset tersebut dapat diketahui bahwa variabel independen yang digunakan adalah Study_Hours_Per_Day, Extracurricular_Hours_Per_Day, Sleep_Hours_Per_Day, Social_Hours_Per_Day, dan Physical_Activity_Hours_Per_Day. Sedangkan variabel dependen yang digunakan adalah GPA. \"\"\""
   ]
  },
  {
   "cell_type": "markdown",
   "metadata": {
    "id": "iWXbCr5zJXsS"
   },
   "source": [
    "# Mengubah DataFrame"
   ]
  },
  {
   "cell_type": "code",
   "execution_count": 23,
   "metadata": {
    "colab": {
     "base_uri": "https://localhost:8080/",
     "height": 206
    },
    "id": "deQdnPgMJewa",
    "outputId": "ff622c95-4f76-43da-9828-288e3115fbbc"
   },
   "outputs": [
    {
     "data": {
      "text/html": [
       "<div>\n",
       "<style scoped>\n",
       "    .dataframe tbody tr th:only-of-type {\n",
       "        vertical-align: middle;\n",
       "    }\n",
       "\n",
       "    .dataframe tbody tr th {\n",
       "        vertical-align: top;\n",
       "    }\n",
       "\n",
       "    .dataframe thead th {\n",
       "        text-align: right;\n",
       "    }\n",
       "</style>\n",
       "<table border=\"1\" class=\"dataframe\">\n",
       "  <thead>\n",
       "    <tr style=\"text-align: right;\">\n",
       "      <th></th>\n",
       "      <th>x1</th>\n",
       "      <th>x2</th>\n",
       "      <th>x3</th>\n",
       "      <th>x4</th>\n",
       "      <th>x5</th>\n",
       "      <th>y</th>\n",
       "    </tr>\n",
       "  </thead>\n",
       "  <tbody>\n",
       "    <tr>\n",
       "      <th>0</th>\n",
       "      <td>6.9</td>\n",
       "      <td>3.8</td>\n",
       "      <td>8.7</td>\n",
       "      <td>2.8</td>\n",
       "      <td>1.8</td>\n",
       "      <td>2.99</td>\n",
       "    </tr>\n",
       "    <tr>\n",
       "      <th>1</th>\n",
       "      <td>5.3</td>\n",
       "      <td>3.5</td>\n",
       "      <td>8.0</td>\n",
       "      <td>4.2</td>\n",
       "      <td>3.0</td>\n",
       "      <td>2.75</td>\n",
       "    </tr>\n",
       "    <tr>\n",
       "      <th>2</th>\n",
       "      <td>5.1</td>\n",
       "      <td>3.9</td>\n",
       "      <td>9.2</td>\n",
       "      <td>1.2</td>\n",
       "      <td>4.6</td>\n",
       "      <td>2.67</td>\n",
       "    </tr>\n",
       "    <tr>\n",
       "      <th>3</th>\n",
       "      <td>6.5</td>\n",
       "      <td>2.1</td>\n",
       "      <td>7.2</td>\n",
       "      <td>1.7</td>\n",
       "      <td>6.5</td>\n",
       "      <td>2.88</td>\n",
       "    </tr>\n",
       "    <tr>\n",
       "      <th>4</th>\n",
       "      <td>8.1</td>\n",
       "      <td>0.6</td>\n",
       "      <td>6.5</td>\n",
       "      <td>2.2</td>\n",
       "      <td>6.6</td>\n",
       "      <td>3.51</td>\n",
       "    </tr>\n",
       "  </tbody>\n",
       "</table>\n",
       "</div>"
      ],
      "text/plain": [
       "    x1   x2   x3   x4   x5     y\n",
       "0  6.9  3.8  8.7  2.8  1.8  2.99\n",
       "1  5.3  3.5  8.0  4.2  3.0  2.75\n",
       "2  5.1  3.9  9.2  1.2  4.6  2.67\n",
       "3  6.5  2.1  7.2  1.7  6.5  2.88\n",
       "4  8.1  0.6  6.5  2.2  6.6  3.51"
      ]
     },
     "execution_count": 23,
     "metadata": {},
     "output_type": "execute_result"
    }
   ],
   "source": [
    "# Mengganti Nama Variabel Menjadi X dan Y\n",
    "df_berganda.rename(columns={'Study_Hours_Per_Day':'x1', 'Extracurricular_Hours_Per_Day':'x2', 'Sleep_Hours_Per_Day':'x3',\n",
    "                   'Social_Hours_Per_Day':'x4', 'Physical_Activity_Hours_Per_Day':'x5', 'GPA':'y'}, inplace=True)\n",
    "df_berganda.head()"
   ]
  },
  {
   "cell_type": "markdown",
   "metadata": {
    "id": "xuRiu81JLMFU"
   },
   "source": [
    "# Mengetahui Seberapa Kuat Hubungan Variabel Dependen dan Variabel Independen Menggunakan Metode Analisis Korelasi Pearson"
   ]
  },
  {
   "cell_type": "code",
   "execution_count": 24,
   "metadata": {
    "colab": {
     "base_uri": "https://localhost:8080/"
    },
    "id": "so-pRZyRLjSA",
    "outputId": "8e0f0490-f560-4a72-d5ed-11ebbaab0121"
   },
   "outputs": [
    {
     "name": "stdout",
     "output_type": "stream",
     "text": [
      "Koefisien Pearson: 0.73447\n"
     ]
    }
   ],
   "source": [
    "## Hubungan Study_Hours_Per_Day dengan GPA\n",
    "# Import Library yang Digunakan\n",
    "from scipy.stats import pearsonr\n",
    "\n",
    "# Menghitung Korelasi Pearson\n",
    "list1 = df_berganda['x1']\n",
    "list2 = df_berganda['y']\n",
    "corr, _ = pearsonr(list1, list2)\n",
    "print('Koefisien Pearson: %.5f' % corr)"
   ]
  },
  {
   "cell_type": "code",
   "execution_count": 25,
   "metadata": {
    "colab": {
     "base_uri": "https://localhost:8080/",
     "height": 53
    },
    "id": "d06NMc0QLnDf",
    "outputId": "e6343b85-93a3-4701-c065-8ac9cb4d2ea3"
   },
   "outputs": [
    {
     "data": {
      "text/plain": [
       "'Dari nilai koefisien Pearson di atas yang bernilai 0.73447 disimpulkan bahwa hubungan antara Study_Hours_Per_Day dengan GPA yaitu hubungan korelasi positif kuat karena lebih dari sama dengan 0.7 dan kurang dari sama dengan 1 sehingga apabila Study_Hours_Per_Day meningkat, maka GPA juga meningkat dan sebaliknya.'"
      ]
     },
     "execution_count": 25,
     "metadata": {},
     "output_type": "execute_result"
    }
   ],
   "source": [
    "# Kesimpulan\n",
    "\"\"\"Dari nilai koefisien Pearson di atas yang bernilai 0.73447 disimpulkan bahwa hubungan antara Study_Hours_Per_Day dengan GPA yaitu hubungan korelasi positif kuat karena lebih dari sama dengan 0.7 dan kurang dari sama dengan 1 sehingga apabila Study_Hours_Per_Day meningkat, maka GPA juga meningkat dan sebaliknya.\"\"\""
   ]
  },
  {
   "cell_type": "code",
   "execution_count": 26,
   "metadata": {
    "colab": {
     "base_uri": "https://localhost:8080/"
    },
    "id": "39ueRfh7L5Lx",
    "outputId": "34085ff9-0ce7-4e29-d9ca-c458e2cc7f22"
   },
   "outputs": [
    {
     "name": "stdout",
     "output_type": "stream",
     "text": [
      "Koefisien Pearson: -0.03217\n"
     ]
    }
   ],
   "source": [
    "## Hubungan Extracurricular_Hours_Per_Day dengan GPA\n",
    "# Import Library yang Digunakan\n",
    "from scipy.stats import pearsonr\n",
    "\n",
    "# Menghitung Korelasi Pearson\n",
    "list1 = df_berganda['x2']\n",
    "list2 = df_berganda['y']\n",
    "corr, _ = pearsonr(list1, list2)\n",
    "print('Koefisien Pearson: %.5f' % corr)"
   ]
  },
  {
   "cell_type": "code",
   "execution_count": 27,
   "metadata": {
    "colab": {
     "base_uri": "https://localhost:8080/",
     "height": 53
    },
    "id": "8C0fCdtDMFd_",
    "outputId": "a10c9cd0-0479-4924-9aa6-5cdcc6738368"
   },
   "outputs": [
    {
     "data": {
      "text/plain": [
       "'Dari nilai koefisien Pearson di atas yang bernilai -0.03217 disimpulkan bahwa hubungan antara Extracurricular_Hours_Per_Day dengan GPA yaitu hubungan korelasi negatif lemah karena lebih dari sama dengan -0.3 dan kurang dari sama dengan 0 sehingga apabila Extracurricular_Hours_Per_Day meningkat, maka GPA menurun dan sebaliknya.'"
      ]
     },
     "execution_count": 27,
     "metadata": {},
     "output_type": "execute_result"
    }
   ],
   "source": [
    "# Kesimpulan\n",
    "\"\"\"Dari nilai koefisien Pearson di atas yang bernilai -0.03217 disimpulkan bahwa hubungan antara Extracurricular_Hours_Per_Day dengan GPA yaitu hubungan korelasi negatif lemah karena lebih dari sama dengan -0.3 dan kurang dari sama dengan 0 sehingga apabila Extracurricular_Hours_Per_Day meningkat, maka GPA menurun dan sebaliknya.\"\"\""
   ]
  },
  {
   "cell_type": "code",
   "execution_count": 28,
   "metadata": {
    "colab": {
     "base_uri": "https://localhost:8080/"
    },
    "id": "GEgAMpPPM6EA",
    "outputId": "03c39837-3e60-4985-b025-08276d78363e"
   },
   "outputs": [
    {
     "name": "stdout",
     "output_type": "stream",
     "text": [
      "Koefisien Pearson x3 dan y: -0.00428\n"
     ]
    }
   ],
   "source": [
    "## Hubungan Sleep_Hours_Per_Day dengan GPA\n",
    "# Convert dataframe into series\n",
    "list1 = df_berganda['x3']\n",
    "list2 = df_berganda['y']\n",
    "corr, _ = pearsonr(list1, list2)\n",
    "print('Koefisien Pearson x3 dan y: %.5f' % corr)"
   ]
  },
  {
   "cell_type": "code",
   "execution_count": 29,
   "metadata": {
    "colab": {
     "base_uri": "https://localhost:8080/",
     "height": 53
    },
    "id": "l-5snnZbRmoX",
    "outputId": "cb657e60-ef1e-481c-d7f5-a7115a6fba70"
   },
   "outputs": [
    {
     "data": {
      "text/plain": [
       "'Dari nilai koefisien Pearson di atas yang bernilai -0.00428 disimpulkan bahwa hubungan antara Sleep_Hours_Per_Day dengan GPA yaitu hubungan korelasi negatif lemah karena lebih dari sama dengan -0.3 dan kurang dari sama dengan 0 sehingga apabila Sleep_Hours_Per_Day meningkat, maka GPA menurun dan sebaliknya.'"
      ]
     },
     "execution_count": 29,
     "metadata": {},
     "output_type": "execute_result"
    }
   ],
   "source": [
    "# Kesimpulan\n",
    "\"\"\"Dari nilai koefisien Pearson di atas yang bernilai -0.00428 disimpulkan bahwa hubungan antara Sleep_Hours_Per_Day dengan GPA yaitu hubungan korelasi negatif lemah karena lebih dari sama dengan -0.3 dan kurang dari sama dengan 0 sehingga apabila Sleep_Hours_Per_Day meningkat, maka GPA menurun dan sebaliknya.\"\"\""
   ]
  },
  {
   "cell_type": "code",
   "execution_count": 30,
   "metadata": {
    "colab": {
     "base_uri": "https://localhost:8080/"
    },
    "id": "Dx5xl6CqRrYK",
    "outputId": "9b42e0cf-9efb-4366-aaab-8e1b8f705537"
   },
   "outputs": [
    {
     "name": "stdout",
     "output_type": "stream",
     "text": [
      "Koefisien Pearson x4 dan y: -0.08568\n"
     ]
    }
   ],
   "source": [
    "## Hubungan Social_Hours_Per_Day dengan GPA\n",
    "# Convert dataframe into series\n",
    "list1 = df_berganda['x4']\n",
    "list2 = df_berganda['y']\n",
    "corr, _ = pearsonr(list1, list2)\n",
    "print('Koefisien Pearson x4 dan y: %.5f' % corr)"
   ]
  },
  {
   "cell_type": "code",
   "execution_count": 31,
   "metadata": {
    "colab": {
     "base_uri": "https://localhost:8080/",
     "height": 53
    },
    "id": "kVez_bZKR5kB",
    "outputId": "7753e139-d3c9-4c70-b1ad-8c3d9314fc55"
   },
   "outputs": [
    {
     "data": {
      "text/plain": [
       "'Dari nilai koefisien Pearson di atas yang bernilai -0.08568 disimpulkan bahwa hubungan antara Social_Hours_Per_Day dengan GPA yaitu hubungan korelasi negatif kuat karena lebih dari sama dengan -1 dan kurang dari sama dengan -0.7 sehingga apabila Sleep_Hours_Per_Day meningkat, maka GPA menurun dan sebaliknya.'"
      ]
     },
     "execution_count": 31,
     "metadata": {},
     "output_type": "execute_result"
    }
   ],
   "source": [
    "# Kesimpulan\n",
    "\"\"\"Dari nilai koefisien Pearson di atas yang bernilai -0.08568 disimpulkan bahwa hubungan antara Social_Hours_Per_Day dengan GPA yaitu hubungan korelasi negatif kuat karena lebih dari sama dengan -1 dan kurang dari sama dengan -0.7 sehingga apabila Sleep_Hours_Per_Day meningkat, maka GPA menurun dan sebaliknya.\"\"\""
   ]
  },
  {
   "cell_type": "code",
   "execution_count": 32,
   "metadata": {
    "colab": {
     "base_uri": "https://localhost:8080/"
    },
    "id": "QlH_1ytnR-rM",
    "outputId": "6498e92e-476d-4df8-d6c1-ee3a75692661"
   },
   "outputs": [
    {
     "name": "stdout",
     "output_type": "stream",
     "text": [
      "Koefisien Pearson x5 dan y: -0.34115\n"
     ]
    }
   ],
   "source": [
    "## Hubungan Physical_Activity_Hours_Per_Day dengan GPA\n",
    "# Convert dataframe into series\n",
    "list1 = df_berganda['x5']\n",
    "list2 = df_berganda['y']\n",
    "corr, _ = pearsonr(list1, list2)\n",
    "print('Koefisien Pearson x5 dan y: %.5f' % corr)"
   ]
  },
  {
   "cell_type": "code",
   "execution_count": 33,
   "metadata": {
    "colab": {
     "base_uri": "https://localhost:8080/",
     "height": 53
    },
    "id": "FkCEEnKTSEYG",
    "outputId": "939335db-f558-42ce-d23c-d74b1d761067"
   },
   "outputs": [
    {
     "data": {
      "text/plain": [
       "'Dari nilai koefisien Pearson di atas yang bernilai -0.34115 disimpulkan bahwa hubungan antara Physical_Activity_Hours_Per_Day dengan GPA yaitu hubungan korelasi negatif lemah karena lebih dari sama dengan -0.3 dan kurang dari sama dengan 0 sehingga apabila Physical_Activity_Hours_Per_Day meningkat, maka GPA menurun dan sebaliknya.'"
      ]
     },
     "execution_count": 33,
     "metadata": {},
     "output_type": "execute_result"
    }
   ],
   "source": [
    "# Kesimpulan\n",
    "\"\"\"Dari nilai koefisien Pearson di atas yang bernilai -0.34115 disimpulkan bahwa hubungan antara Physical_Activity_Hours_Per_Day dengan GPA yaitu hubungan korelasi negatif lemah karena lebih dari sama dengan -0.3 dan kurang dari sama dengan 0 sehingga apabila Physical_Activity_Hours_Per_Day meningkat, maka GPA menurun dan sebaliknya.\"\"\""
   ]
  },
  {
   "cell_type": "markdown",
   "metadata": {
    "id": "zW43FkNMSviA"
   },
   "source": [
    "## Membentuk Model Regresi Berganda"
   ]
  },
  {
   "cell_type": "code",
   "execution_count": 34,
   "metadata": {
    "colab": {
     "base_uri": "https://localhost:8080/"
    },
    "id": "q3DJNZO-S7lq",
    "outputId": "715849d3-13d2-4c8e-9eca-8942c3964d02"
   },
   "outputs": [
    {
     "name": "stdout",
     "output_type": "stream",
     "text": [
      "                            OLS Regression Results                            \n",
      "==============================================================================\n",
      "Dep. Variable:                      y   R-squared:                       0.541\n",
      "Model:                            OLS   Adj. R-squared:                  0.540\n",
      "Method:                 Least Squares   F-statistic:                     587.8\n",
      "Date:                Sun, 24 Nov 2024   Prob (F-statistic):               0.00\n",
      "Time:                        22:40:29   Log-Likelihood:                 358.07\n",
      "No. Observations:                2000   AIC:                            -706.1\n",
      "Df Residuals:                    1995   BIC:                            -678.1\n",
      "Df Model:                           4                                         \n",
      "Covariance Type:            nonrobust                                         \n",
      "==============================================================================\n",
      "                 coef    std err          t      P>|t|      [0.025      0.975]\n",
      "------------------------------------------------------------------------------\n",
      "const          0.0232      0.000    154.922      0.000       0.023       0.024\n",
      "x1             0.2371      0.002     96.302      0.000       0.232       0.242\n",
      "x2             0.0752      0.004     19.510      0.000       0.068       0.083\n",
      "x3             0.0781      0.002     32.396      0.000       0.073       0.083\n",
      "x4             0.0840      0.003     33.187      0.000       0.079       0.089\n",
      "x5             0.0827      0.002     52.546      0.000       0.080       0.086\n",
      "==============================================================================\n",
      "Omnibus:                        0.939   Durbin-Watson:                   2.006\n",
      "Prob(Omnibus):                  0.625   Jarque-Bera (JB):                0.850\n",
      "Skew:                           0.028   Prob(JB):                        0.654\n",
      "Kurtosis:                       3.084   Cond. No.                     4.90e+16\n",
      "==============================================================================\n",
      "\n",
      "Notes:\n",
      "[1] Standard Errors assume that the covariance matrix of the errors is correctly specified.\n",
      "[2] The smallest eigenvalue is 1.2e-28. This might indicate that there are\n",
      "strong multicollinearity problems or that the design matrix is singular.\n"
     ]
    }
   ],
   "source": [
    "# Memodelkan dengan Regresi Linear Sederhana Berganda\n",
    "import numpy as np\n",
    "import statsmodels.api as sm\n",
    "\n",
    "x = df_berganda[['x1', 'x2', 'x3', 'x4', 'x5']]\n",
    "y = df_berganda['y']\n",
    "x = sm.add_constant(x)\n",
    "model = sm.OLS(y, x).fit()\n",
    "print_model = model.summary()\n",
    "print(print_model)"
   ]
  },
  {
   "cell_type": "code",
   "execution_count": 35,
   "metadata": {
    "colab": {
     "base_uri": "https://localhost:8080/",
     "height": 35
    },
    "id": "ryqAxFgjTpf9",
    "outputId": "e0aabfbe-a6cc-47f7-c029-92bebfd21e60"
   },
   "outputs": [
    {
     "data": {
      "text/plain": [
       "'Berdasarkan gambar di atas didapatkan bahwa β₀ = 0.0232, β₁ = 0.2371, β₂ = 0.0752, β3 = 0.0781, β4 = 0.0840, β5 = 0.0827, sehingga didapatkan Ytopi =  0.0232 + (0.2371)x1 + (0.0752)x2 + (0.0781)x3 + (0.0840)x4 + (0.0827)x5. '"
      ]
     },
     "execution_count": 35,
     "metadata": {},
     "output_type": "execute_result"
    }
   ],
   "source": [
    "\"\"\"Berdasarkan gambar di atas didapatkan bahwa β₀ = 0.0232, β₁ = 0.2371, β₂ = 0.0752, β3 = 0.0781, β4 = 0.0840, β5 = 0.0827, sehingga didapatkan Ytopi =  0.0232 + (0.2371)x1 + (0.0752)x2 + (0.0781)x3 + (0.0840)x4 + (0.0827)x5. \"\"\""
   ]
  },
  {
   "cell_type": "code",
   "execution_count": 36,
   "metadata": {
    "colab": {
     "base_uri": "https://localhost:8080/",
     "height": 105
    },
    "id": "CbETymFfuiS-",
    "outputId": "d92a70d2-be13-4260-aefb-ce77b56a671d"
   },
   "outputs": [
    {
     "data": {
      "text/plain": [
       "' untuk estimator β₀ tidak dapat diinterpretasikan karena tidak terdapat koefisien x seperti yang lain.\\nuntuk estimator β1, apabila ada pertambahan satu satuan nilai Study_Hours_Per_Day, maka akan meningkatkan GPA setiap mahasiswa sebesar 0.2371 (jika variabel lain bernilai konstan).\\nuntuk estimator β2, apabila ada pertambahan satu satuan nilai Extracurricular_Hours_Per_Day, maka akan meningkatkan GPA setiap mahasiswa sebesar 0.0752 (jika variabel lain bernilai konstan).\\nuntuk estimator β3, apabila ada pertambahan satu satuan nilai Sleep_Hours_Per_Day, maka akan meningkatkan GPA setiap mahasiswa sebesar 0.0781 (jika variabel lain bernilai konstan).\\nuntuk estimator β4, apabila ada pertambahan satu satuan nilai Social_Hours_Per_Day, maka akan meningkatkan GPA setiap mahasiswa sebesar 0.0840  (jika variabel lain bernilai konstan).\\nuntuk estimator β5, apabila ada pertambahan satu satuan nilai Physical_Activity_Hours_Per_Day, maka akan meningkatkan GPA setiap mahasiswa sebesar 0.0827  (jika variabel lain bernilai konstan).\\n'"
      ]
     },
     "execution_count": 36,
     "metadata": {},
     "output_type": "execute_result"
    }
   ],
   "source": [
    "# Interpretasi\n",
    "\"\"\" untuk estimator β₀ tidak dapat diinterpretasikan karena tidak terdapat koefisien x seperti yang lain.\n",
    "untuk estimator β1, apabila ada pertambahan satu satuan nilai Study_Hours_Per_Day, maka akan meningkatkan GPA setiap mahasiswa sebesar 0.2371 (jika variabel lain bernilai konstan).\n",
    "untuk estimator β2, apabila ada pertambahan satu satuan nilai Extracurricular_Hours_Per_Day, maka akan meningkatkan GPA setiap mahasiswa sebesar 0.0752 (jika variabel lain bernilai konstan).\n",
    "untuk estimator β3, apabila ada pertambahan satu satuan nilai Sleep_Hours_Per_Day, maka akan meningkatkan GPA setiap mahasiswa sebesar 0.0781 (jika variabel lain bernilai konstan).\n",
    "untuk estimator β4, apabila ada pertambahan satu satuan nilai Social_Hours_Per_Day, maka akan meningkatkan GPA setiap mahasiswa sebesar 0.0840  (jika variabel lain bernilai konstan).\n",
    "untuk estimator β5, apabila ada pertambahan satu satuan nilai Physical_Activity_Hours_Per_Day, maka akan meningkatkan GPA setiap mahasiswa sebesar 0.0827  (jika variabel lain bernilai konstan).\n",
    "\"\"\""
   ]
  },
  {
   "cell_type": "code",
   "execution_count": 37,
   "metadata": {
    "colab": {
     "base_uri": "https://localhost:8080/"
    },
    "id": "pC9S6vpdU4cz",
    "outputId": "e611d0b3-8021-4f01-cf26-2a953db94341"
   },
   "outputs": [
    {
     "name": "stdout",
     "output_type": "stream",
     "text": [
      "0    3.008170\n",
      "1    2.768425\n",
      "2    2.725155\n",
      "3    2.964540\n",
      "4    3.226640\n",
      "dtype: float64\n"
     ]
    }
   ],
   "source": [
    "# Menghasilkan Nilai Prediksi Dari x\n",
    "prediksi = model.predict(x)\n",
    "print(prediksi.head())"
   ]
  },
  {
   "cell_type": "code",
   "execution_count": 38,
   "metadata": {
    "colab": {
     "base_uri": "https://localhost:8080/"
    },
    "id": "V2ESxoE0VDLt",
    "outputId": "65245e6a-1bcf-4533-d7ac-7a72c3fcd4cb"
   },
   "outputs": [
    {
     "name": "stdout",
     "output_type": "stream",
     "text": [
      "0   -0.018170\n",
      "1   -0.018425\n",
      "2   -0.055155\n",
      "3   -0.084540\n",
      "4    0.283360\n",
      "dtype: float64\n"
     ]
    }
   ],
   "source": [
    "# Menghasilkan Nilai Residual ei\n",
    "residual = model.resid\n",
    "print(residual.head())"
   ]
  },
  {
   "cell_type": "markdown",
   "metadata": {
    "id": "g65PdrTzVN86"
   },
   "source": [
    "## Melakukan Uji F"
   ]
  },
  {
   "cell_type": "code",
   "execution_count": 39,
   "metadata": {
    "colab": {
     "base_uri": "https://localhost:8080/"
    },
    "id": "mqXeCjonVNH_",
    "outputId": "0a558a99-e7ef-47d6-b829-eef1c3713078"
   },
   "outputs": [
    {
     "name": "stdout",
     "output_type": "stream",
     "text": [
      "Hasil dari F hitung adalah 587.7749\n",
      "Hasil dari F tabel adalah 2.3764\n",
      "Sehingga H0 ditolak yang artinya minimal ada satu variabel independen yang berpengaruh terhadap variabel dependennya.\n"
     ]
    }
   ],
   "source": [
    "## Menentukan Hipotesis null(H0) dan Hipotesis Alternatif(H1)\n",
    "# H₀ : β₁ = β₂ = 0 (Tidak Berpengaruh)\n",
    "# H₁ : βj != 0, dimana j = 1,2,... (Minimal Ada Satu yang Berpengaruh)\n",
    "\n",
    "## Menentukan Tingkat Signifikansi\n",
    "# α = 5%\n",
    "\n",
    "## Menentukan Uji Statistik F\n",
    "from scipy.stats import f\n",
    "F_hit = model.fvalue\n",
    "df_model = model.df_model\n",
    "df_resid = model.df_resid\n",
    "alpha = 0.05\n",
    "F_tabel = f.ppf(1 - alpha, df_model, df_resid)\n",
    "\n",
    "# Menampilkan hasil dari uji f\n",
    "print('Hasil dari F hitung adalah', round(F_hit,4))\n",
    "print('Hasil dari F tabel adalah', round(F_tabel,4))\n",
    "\n",
    "# Keputusan\n",
    "if F_hit > F_tabel:\n",
    "    print(\"Sehingga H0 ditolak yang artinya minimal ada satu variabel independen yang berpengaruh terhadap variabel dependennya.\")\n",
    "\n",
    "else:\n",
    "    print(\"Sehingga H0 gagal tolak yang artinya tidak ada variabel independen yang berpengaruh terhadap variabel dependennya.\")"
   ]
  },
  {
   "cell_type": "code",
   "execution_count": 40,
   "metadata": {
    "colab": {
     "base_uri": "https://localhost:8080/",
     "height": 53
    },
    "id": "gEIi5YwVVqYl",
    "outputId": "e08c8b0c-b57a-4c99-db6f-95768b41f836"
   },
   "outputs": [
    {
     "data": {
      "text/plain": [
       "'Disimpulkan bahwa F hitung didapatkan hasil 587.7749 dan F tabel didapatkan hasil 2.3764  sehingga F hitung lebih besar dari F tabel maka dapat disimpulkan bahwa H0 ditolak yang artinya minimal ada satu variabel independen yang berpengaruh terhadap variabel dependennya.'"
      ]
     },
     "execution_count": 40,
     "metadata": {},
     "output_type": "execute_result"
    }
   ],
   "source": [
    "# Kesimpulan\n",
    "f'''Disimpulkan bahwa F hitung didapatkan hasil {round(F_hit, 4)} dan F tabel didapatkan hasil {round(F_tabel, 4)}  sehingga F hitung lebih besar dari F tabel maka dapat disimpulkan bahwa H0 ditolak yang artinya minimal ada satu variabel independen yang berpengaruh terhadap variabel dependennya.'''"
   ]
  },
  {
   "cell_type": "markdown",
   "metadata": {
    "id": "60Y8bjMzWfLV"
   },
   "source": [
    "## Mendapatkan Nilai R-Squared"
   ]
  },
  {
   "cell_type": "code",
   "execution_count": 41,
   "metadata": {
    "colab": {
     "base_uri": "https://localhost:8080/"
    },
    "id": "1WvX-uEHWkuV",
    "outputId": "dbb9fa98-488d-4c56-88dd-600818af3863"
   },
   "outputs": [
    {
     "name": "stdout",
     "output_type": "stream",
     "text": [
      "\n",
      "Nilai R-Squared Adjusted yang didapatkan dalam tabel model regresi dummy di atas adalah 0.54, sehingga dapat disimpulkan sebesar 54% variabel Study_Hours_Per_Day,\n",
      "Extracurricular_Hours_Per_Day, Sleep_Hours_Per_Day, Social_Hours_Per_Day, dan Physical_Activity_Hours_Per_Day memengaruhi variabel GPA. Sisanya 46% dipengaruhi oleh variabel lainnya yang tidak diketahui.\n",
      "\n"
     ]
    }
   ],
   "source": [
    "# Nilai R-Squared\n",
    "r_squared = f'''\n",
    "Nilai R-Squared Adjusted yang didapatkan dalam tabel model regresi dummy di atas adalah {round(model.rsquared_adj, 4)}, sehingga dapat disimpulkan sebesar 54% variabel Study_Hours_Per_Day,\n",
    "Extracurricular_Hours_Per_Day, Sleep_Hours_Per_Day, Social_Hours_Per_Day, dan Physical_Activity_Hours_Per_Day memengaruhi variabel GPA. Sisanya 46% dipengaruhi oleh variabel lainnya yang tidak diketahui.\n",
    "'''\n",
    "print(r_squared)"
   ]
  },
  {
   "cell_type": "markdown",
   "metadata": {
    "id": "EJ9vIPzKXVPl"
   },
   "source": [
    "## Melakukan Uji T"
   ]
  },
  {
   "cell_type": "code",
   "execution_count": 42,
   "metadata": {
    "colab": {
     "base_uri": "https://localhost:8080/"
    },
    "id": "palWxnbbWkrY",
    "outputId": "d5812b0b-f6b1-4a4d-f1f8-7b09647c64f3"
   },
   "outputs": [
    {
     "name": "stdout",
     "output_type": "stream",
     "text": [
      "Hasil dari T tabel adalah 1.9612\n",
      "Nilai dari T hitung Study_Hours_Per_Day adalah 96.3015\n",
      "Sehingga H0 ditolak yang artinya variabel Study_Hours_Per_Day berpengaruh signifikan terhadap variabel GPA.\n",
      "Nilai dari T hitung Extracurricular_Hours_Per_Day adalah 19.5096\n",
      "Sehingga H0 ditolak yang artinya variabel Extracurricular_Hours_Per_Day berpengaruh signifikan terhadap variabel GPA.\n",
      "Nilai dari T hitung Sleep_Hours_Per_Day adalah 32.3959\n",
      "Sehingga H0 ditolak yang artinya variabel Sleep_Hours_Per_Day berpengaruh signifikan terhadap variabel GPA.\n",
      "Nilai dari T hitung Social_Hours_Per_Day adalah 33.1865\n",
      "Sehingga H0 ditolak yang artinya variabel Sleep_Hours_Per_Day berpengaruh signifikan terhadap variabel GPA.\n",
      "Nilai dari T hitung Physical_Activity_Hours_Per_Day adalah 52.5458\n",
      "Sehingga H0 ditolak yang artinya variabel Physical_Activity_Hours_Per_Day berpengaruh signifikan terhadap variabel GPA.\n"
     ]
    }
   ],
   "source": [
    "## Menentukan Hipotesis null(H0) dan Hipotesis Alternatif(H1)\n",
    "# H₀ : βj = 0, dimana j = 1,2,.. (tidak berpengaruh signifikan)\n",
    "# H₁ : βj != 0, dimana j = 1,2,.. (berpengaruh signifikan)\n",
    "\n",
    "## Menentukan Tingkat Signifikansi\n",
    "# α = 5%\n",
    "\n",
    "## Menentukan Uji Statistik T\n",
    "# Menggunakan scipy untuk menguji hipotesis Uji T\n",
    "alpha = 0.05\n",
    "DF = 2000-6 #Banyak sampel - Banyak variabel\n",
    "T_tabel = stats.t.ppf(1-alpha/2, DF)\n",
    "print('Hasil dari T tabel adalah', round(T_tabel,4))\n",
    "\n",
    "# Keputusan Study_Hours_Per_Day\n",
    "T_hitung_x1 = model.tvalues['x1']\n",
    "if T_hitung_x1 > T_tabel:\n",
    "    print(\"Nilai dari T hitung Study_Hours_Per_Day adalah\", round(T_hitung_x1,4))\n",
    "    print(\"Sehingga H0 ditolak yang artinya variabel Study_Hours_Per_Day berpengaruh signifikan terhadap variabel GPA.\")\n",
    "else:\n",
    "    print(\"Nilai dari T hitung Study_Hours_Per_Day adalah\", round(T_hitung_x1,4))\n",
    "    print(\"Sehingga H0 gagal tolak yang artinya variabel Study_Hours_Per_Day tidak berpengaruh signifikan terhadap variabel GPA.\")\n",
    "\n",
    "# Keputusan Extracurricular_Hours_Per_Day\n",
    "T_hitung_x2 = model.tvalues['x2']\n",
    "if T_hitung_x2 > T_tabel:\n",
    "    print(\"Nilai dari T hitung Extracurricular_Hours_Per_Day adalah\", round(T_hitung_x2,4))\n",
    "    print(\"Sehingga H0 ditolak yang artinya variabel Extracurricular_Hours_Per_Day berpengaruh signifikan terhadap variabel GPA.\")\n",
    "else:\n",
    "    print(\"Nilai dari T hitung Extracurricular_Hours_Per_Day adalah\", round(T_hitung_x2,4))\n",
    "    print(\"Sehingga H0 gagal tolak yang artinya variabel Extracurricular_Hours_Per_Day tidak berpengaruh signifikan terhadap variabel GPA.\")\n",
    "\n",
    "# Keputusan Sleep_Hours_Per_Day\n",
    "T_hitung_x3 = model.tvalues['x3']\n",
    "if T_hitung_x3 > T_tabel:\n",
    "    print(\"Nilai dari T hitung Sleep_Hours_Per_Day adalah\", round(T_hitung_x3,4))\n",
    "    print(\"Sehingga H0 ditolak yang artinya variabel Sleep_Hours_Per_Day berpengaruh signifikan terhadap variabel GPA.\")\n",
    "else:\n",
    "    print(\"Nilai dari T hitung Sleep_Hours_Per_Day adalah\", round(T_hitung_x3,4))\n",
    "    print(\"Sehingga H0 gagal tolak yang artinya variabel Sleep_Hours_Per_Day tidak berpengaruh signifikan terhadap variabel GPA.\")\n",
    "\n",
    "# Keputusan Social_Hours_Per_Day\n",
    "T_hitung_x4 = model.tvalues['x4']\n",
    "if T_hitung_x4 > T_tabel:\n",
    "    print(\"Nilai dari T hitung Social_Hours_Per_Day adalah\", round(T_hitung_x4,4))\n",
    "    print(\"Sehingga H0 ditolak yang artinya variabel Sleep_Hours_Per_Day berpengaruh signifikan terhadap variabel GPA.\")\n",
    "else:\n",
    "    print(\"Nilai dari T hitung Social_Hours_Per_Day adalah\", round(T_hitung_x4,4))\n",
    "    print(\"Sehingga H0 gagal tolak yang artinya variabel Social_Hours_Per_Day tidak berpengaruh signifikan terhadap variabel GPA.\")\n",
    "\n",
    "# Keputusan Physical_Activity_Hours_Per_Day\n",
    "T_hitung_x5 = model.tvalues['x5']\n",
    "if T_hitung_x5 > T_tabel:\n",
    "    print(\"Nilai dari T hitung Physical_Activity_Hours_Per_Day adalah\", round(T_hitung_x5,4))\n",
    "    print(\"Sehingga H0 ditolak yang artinya variabel Physical_Activity_Hours_Per_Day berpengaruh signifikan terhadap variabel GPA.\")\n",
    "else:\n",
    "    print(\"Nilai dari T hitung Physical_Activity_Hours_Per_Day adalah\", round(T_hitung_x5,4))\n",
    "    print(\"Sehingga H0 gagal tolak yang artinya variabel Physical_Activity_Hours_Per_Day tidak berpengaruh signifikan terhadap variabel GPA.\")"
   ]
  },
  {
   "cell_type": "code",
   "execution_count": 43,
   "metadata": {
    "colab": {
     "base_uri": "https://localhost:8080/",
     "height": 105
    },
    "id": "HTGpze0FWkjW",
    "outputId": "72800388-57c8-40e9-a43c-8a2109ed00d6"
   },
   "outputs": [
    {
     "data": {
      "text/plain": [
       "'Disimpulkan bahwa T hitung Study_Hours_Per_Day didapatkan hasil yaitu 96.3015 dan T tabel didapatkan hasil yaitu 1.9612 sehingga T hitung lebih besar dari T tabel maka dapat disimpulkan bahwa H0 ditolak yang artinya lama jam belajar per hari berpengaruh secara signifikan terhadap GPA setiap mahasiswa.\\nDisimpulkan bahwa T hitung Extracurricular_Hours_Per_Day didapatkan hasil yaitu 19.5096 dan T tabel didapatkan hasil yaitu 1.9612 sehingga T hitung lebih besar dari T tabel maka dapat disimpulkan bahwa H0 ditolak yang artinya lama jam ekstrakulikuler per hari berpengaruh secara signifikan terhadap GPA setiap mahasiswa.\\nDisimpulkan bahwa T hitung Sleep_Hours_Per_Day didapatkan hasil yaitu 32.3959 dan T tabel didapatkan hasil yaitu 1.9612 sehingga T hitung lebih besar dari T tabel maka dapat disimpulkan bahwa H0 ditolak yang artinya lama jam tidur per hari berpengaruh secara signifikan terhadap GPA setiap mahasiswa.\\nDisimpulkan bahwa T hitung Social_Hours_Per_Day didapatkan hasil yaitu 33.1865 dan T tabel didapatkan hasil yaitu 1.9612 sehingga T hitung lebih besar dari T tabel maka dapat disimpulkan bahwa H0 ditolak yang artinya lama jam bersosialisasi per hari berpengaruh secara signifikan terhadap GPA setiap mahasiswa.\\nDisimpulkan bahwa T hitung Physical_Activity_Hours_Per_Day didapatkan hasil yaitu 52.5458 dan T tabel didapatkan hasil yaitu 1.9612 sehingga T hitung lebih besar dari T tabel maka dapat disimpulkan bahwa H0 ditolak yang artinya lama jam beraktivitas fisik per hari berpengaruh secara signifikan terhadap GPA setiap mahasiswa.\\n'"
      ]
     },
     "execution_count": 43,
     "metadata": {},
     "output_type": "execute_result"
    }
   ],
   "source": [
    "# Kesimpulan\n",
    "f'''Disimpulkan bahwa T hitung Study_Hours_Per_Day didapatkan hasil yaitu {round(T_hitung_x1,4)} dan T tabel didapatkan hasil yaitu {round(T_tabel,4)} sehingga T hitung lebih besar dari T tabel maka dapat disimpulkan bahwa H0 ditolak yang artinya lama jam belajar per hari berpengaruh secara signifikan terhadap GPA setiap mahasiswa.\n",
    "Disimpulkan bahwa T hitung Extracurricular_Hours_Per_Day didapatkan hasil yaitu {round(T_hitung_x2,4)} dan T tabel didapatkan hasil yaitu {round(T_tabel,4)} sehingga T hitung lebih besar dari T tabel maka dapat disimpulkan bahwa H0 ditolak yang artinya lama jam ekstrakulikuler per hari berpengaruh secara signifikan terhadap GPA setiap mahasiswa.\n",
    "Disimpulkan bahwa T hitung Sleep_Hours_Per_Day didapatkan hasil yaitu {round(T_hitung_x3,4)} dan T tabel didapatkan hasil yaitu {round(T_tabel,4)} sehingga T hitung lebih besar dari T tabel maka dapat disimpulkan bahwa H0 ditolak yang artinya lama jam tidur per hari berpengaruh secara signifikan terhadap GPA setiap mahasiswa.\n",
    "Disimpulkan bahwa T hitung Social_Hours_Per_Day didapatkan hasil yaitu {round(T_hitung_x4,4)} dan T tabel didapatkan hasil yaitu {round(T_tabel,4)} sehingga T hitung lebih besar dari T tabel maka dapat disimpulkan bahwa H0 ditolak yang artinya lama jam bersosialisasi per hari berpengaruh secara signifikan terhadap GPA setiap mahasiswa.\n",
    "Disimpulkan bahwa T hitung Physical_Activity_Hours_Per_Day didapatkan hasil yaitu {round(T_hitung_x5,4)} dan T tabel didapatkan hasil yaitu {round(T_tabel,4)} sehingga T hitung lebih besar dari T tabel maka dapat disimpulkan bahwa H0 ditolak yang artinya lama jam beraktivitas fisik per hari berpengaruh secara signifikan terhadap GPA setiap mahasiswa.\n",
    "'''"
   ]
  },
  {
   "cell_type": "markdown",
   "metadata": {
    "id": "39vObbwHlDl1"
   },
   "source": [
    "## Uji Asumsi Regresi"
   ]
  },
  {
   "cell_type": "markdown",
   "metadata": {
    "id": "_KklgXG5lQQq"
   },
   "source": [
    "### Memeriksa Asumsi Residual Berdistribusi Normal"
   ]
  },
  {
   "cell_type": "markdown",
   "metadata": {
    "id": "XWoWqrZdlTA9"
   },
   "source": [
    "#### Menggunakan Visualisasi"
   ]
  },
  {
   "cell_type": "code",
   "execution_count": 44,
   "metadata": {
    "colab": {
     "base_uri": "https://localhost:8080/",
     "height": 478
    },
    "id": "9UbU1WkNk1wu",
    "outputId": "be5e57aa-8299-4e5e-8b43-ce63444e00b3"
   },
   "outputs": [
    {
     "data": {
      "image/png": "[encoded data removed]",
      "text/plain": [
       "<Figure size 640x480 with 1 Axes>"
      ]
     },
     "metadata": {},
     "output_type": "display_data"
    }
   ],
   "source": [
    "# Menggambar Plot QQ menggunakan package statmodels\n",
    "fig = sm.qqplot(residual, stats.t, fit=True, line=\"45\")\n",
    "plt.show()"
   ]
  },
  {
   "cell_type": "code",
   "execution_count": 45,
   "metadata": {
    "colab": {
     "base_uri": "https://localhost:8080/"
    },
    "id": "hjevSyPHm3TT",
    "outputId": "960d5165-bfc9-4582-ce77-476bf63c44cd"
   },
   "outputs": [
    {
     "name": "stdout",
     "output_type": "stream",
     "text": [
      "Pada gambar di atas dapat disimpulkan bahwa distribusi data residual mendekati garis linier sehingga data tersebut memenuhi asumsi berdistribusi normal\n"
     ]
    }
   ],
   "source": [
    "# Kesimpulan\n",
    "print(\"Pada gambar di atas dapat disimpulkan bahwa distribusi data residual mendekati garis linier sehingga data tersebut memenuhi asumsi berdistribusi normal\")"
   ]
  },
  {
   "cell_type": "markdown",
   "metadata": {
    "id": "W9R_Ku7Wm97L"
   },
   "source": [
    "## Menggunakan Pengujian Statistika\n"
   ]
  },
  {
   "cell_type": "code",
   "execution_count": 46,
   "metadata": {
    "colab": {
     "base_uri": "https://localhost:8080/"
    },
    "id": "WZfbv-eCnIXD",
    "outputId": "4befcb6e-d69e-483a-d48f-4f6339094b45"
   },
   "outputs": [
    {
     "data": {
      "text/plain": [
       "[('Jarque-Bera', 0.8496098559996532),\n",
       " ('Chi^2 two-tail prob.', 0.653897329749273),\n",
       " ('Skew', 0.0278930238339939),\n",
       " ('Kurtosis', 3.0841619579001156)]"
      ]
     },
     "execution_count": 46,
     "metadata": {},
     "output_type": "execute_result"
    }
   ],
   "source": [
    "# Pengujian Jarque\n",
    "from statsmodels.compat import lzip\n",
    "import statsmodels.formula.api as smf\n",
    "import statsmodels.stats.api as sms\n",
    "\n",
    "name = ['Jarque-Bera', 'Chi^2 two-tail prob.', 'Skew', 'Kurtosis']\n",
    "test = sms.jarque_bera(model.resid)\n",
    "lzip(name, test)"
   ]
  },
  {
   "cell_type": "code",
   "execution_count": 47,
   "metadata": {
    "colab": {
     "base_uri": "https://localhost:8080/"
    },
    "id": "cy0MppdxnL4A",
    "outputId": "819956da-5801-4cd6-b100-e41cf9e3a4b8"
   },
   "outputs": [
    {
     "name": "stdout",
     "output_type": "stream",
     "text": [
      "Hasil dari Tabel Chi-Square adalah 11.0705\n",
      "Hasil dari Jarque-Bera adalah 0.6348\n",
      "Sehingga H0 gagal tolak yang artinya residual memenuhi asumsi berdistribusi normal.\n"
     ]
    }
   ],
   "source": [
    "## Menentukan Hipotesis null(H0) dan Hipotesis Alternatif(H1)\n",
    "# H₀ : β₁ = 0 (Populasi Berdistribusi Normal)\n",
    "# H₁ : β₁ != 0 (Populasi Tidak Berdistribusi Normal)\n",
    "\n",
    "## Menentukan Tingkat Signifikansi\n",
    "# α = 5%\n",
    "\n",
    "## Menentukan Uji Statistik\n",
    "alpha = 0.05\n",
    "DF = 5\n",
    "chi2_tabel = stats.chi2.ppf(1 - alpha, DF)\n",
    "print(\"Hasil dari Tabel Chi-Square adalah\", round(chi2_tabel,4))\n",
    "\n",
    "## Keputusan\n",
    "JB = 0.6348465282292955 # Didapatkan dari Pengujian Jarque\n",
    "if JB > chi2_tabel:\n",
    "    print(\"Hasil dari Jarque-Bera adalah\", round(JB,4))\n",
    "    print(\"Sehingga H0 ditolak yang artinya tidak memenuhi asumsi berdistribusi normal.\")\n",
    "\n",
    "else:\n",
    "    print(\"Hasil dari Jarque-Bera adalah\", round(JB,4))\n",
    "    print(\"Sehingga H0 gagal tolak yang artinya residual memenuhi asumsi berdistribusi normal.\")\n"
   ]
  },
  {
   "cell_type": "code",
   "execution_count": 48,
   "metadata": {
    "colab": {
     "base_uri": "https://localhost:8080/",
     "height": 53
    },
    "id": "9q1FsKDNnWJ8",
    "outputId": "eb885e2a-6485-4c35-9a10-6a4388666359"
   },
   "outputs": [
    {
     "data": {
      "text/plain": [
       "'Disimpulkan bahwa nilai Jarque-Bera didapatkan hasil yaitu 0.6348 dan T tabel didapatkan hasil yaitu 11.0705 sehingga nilai Jarque-Bera lebih kecil dari chi2 tabel maka dapat disimpulkan bahwa H0 gagal tolak yang artinya residual memenuhi asumsi berdistribusi normal.'"
      ]
     },
     "execution_count": 48,
     "metadata": {},
     "output_type": "execute_result"
    }
   ],
   "source": [
    "f'''Disimpulkan bahwa nilai Jarque-Bera didapatkan hasil yaitu {round(JB,4)} dan T tabel didapatkan hasil yaitu {round(chi2_tabel,4)} sehingga nilai Jarque-Bera lebih kecil dari chi2 tabel maka dapat disimpulkan bahwa H0 gagal tolak yang artinya residual memenuhi asumsi berdistribusi normal.'''\n"
   ]
  },
  {
   "cell_type": "markdown",
   "metadata": {
    "id": "aDpDtS4dnans"
   },
   "source": [
    "### Memeriksa Asumsi Residual Tidak Terjadi Autokorelasi\n"
   ]
  },
  {
   "cell_type": "markdown",
   "metadata": {
    "id": "YF_6sHjQngz4"
   },
   "source": [
    "#### Menggunakan Visualisasi\n"
   ]
  },
  {
   "cell_type": "code",
   "execution_count": 49,
   "metadata": {
    "colab": {
     "base_uri": "https://localhost:8080/",
     "height": 478
    },
    "id": "Iw30T0RlnkVe",
    "outputId": "895241d2-ab02-4348-89d4-8735ac7d2222"
   },
   "outputs": [
    {
     "data": {
      "image/png": "[encoded data removed]",
      "text/plain": [
       "<Figure size 640x480 with 1 Axes>"
      ]
     },
     "metadata": {},
     "output_type": "display_data"
    }
   ],
   "source": [
    "# Plot memeriksa asumsi residual tidak terjadi autokorelasi\n",
    "urutan_pengamatan = pd.Series(range(1,2001))\n",
    "plt.scatter(urutan_pengamatan, residual);\n",
    "plt.axhline(0, color='red')\n",
    "plt.xlabel('data urutan');\n",
    "plt.ylabel('Residual');\n",
    "plt.xlim([1,21]);"
   ]
  },
  {
   "cell_type": "code",
   "execution_count": 50,
   "metadata": {
    "colab": {
     "base_uri": "https://localhost:8080/"
    },
    "id": "8NVfjuYsnoMZ",
    "outputId": "5c8898d5-9ff6-4dc4-9b11-3b117e93400d"
   },
   "outputs": [
    {
     "name": "stdout",
     "output_type": "stream",
     "text": [
      "Pada gambar di atas dapat disimpulkan bahwa distribusi data residual terhadap plot membentuk pola yang acak di sekitar garis nol sehingga dapat disimpulkan bahwa data residual tidak terjadi autokorelasi yang artinya residual ini memenuhi asumsi.\n"
     ]
    }
   ],
   "source": [
    "# Kesimpulan\n",
    "print(\"Pada gambar di atas dapat disimpulkan bahwa distribusi data residual terhadap plot membentuk pola yang acak di sekitar garis nol sehingga dapat disimpulkan bahwa data residual tidak terjadi autokorelasi yang artinya residual ini memenuhi asumsi.\")"
   ]
  },
  {
   "cell_type": "markdown",
   "metadata": {
    "id": "ejmEmHE1nt6n"
   },
   "source": [
    "#### Menggunakan Pengujian Statistika\n"
   ]
  },
  {
   "cell_type": "code",
   "execution_count": 51,
   "metadata": {
    "colab": {
     "base_uri": "https://localhost:8080/"
    },
    "id": "1sUq3nMqn0nl",
    "outputId": "40b08dab-b91e-48c2-e403-b5d8a613d0c4"
   },
   "outputs": [
    {
     "name": "stdout",
     "output_type": "stream",
     "text": [
      "Durbin-Watson: 2.0059109868008242\n"
     ]
    }
   ],
   "source": [
    "# Pengujian Durbin-Watson\n",
    "from statsmodels.stats.stattools import durbin_watson\n",
    "dw = durbin_watson(model.resid)\n",
    "print(f\"Durbin-Watson: {dw}\")"
   ]
  },
  {
   "cell_type": "code",
   "execution_count": 52,
   "metadata": {
    "colab": {
     "base_uri": "https://localhost:8080/"
    },
    "id": "V1mbGlhan7FO",
    "outputId": "ba923716-9ccb-425b-8cad-8d0e074c88bf"
   },
   "outputs": [
    {
     "name": "stdout",
     "output_type": "stream",
     "text": [
      "Hasil dari dl adalah 1.9205\n",
      "Hasil dari du adalah 1.9325\n",
      "Hasil dari Durbin-Watson adalah 2.0034\n",
      "H0 gagal tolak yang artinya residual terjadi autokorelasi.\n"
     ]
    }
   ],
   "source": [
    "## Menentukan Hipotesis null(H0) dan Hipotesis Alternatif(H1)\n",
    "# H₀ : β₁ = 0 (Terjadi Autokorelasi)\n",
    "# H₁ : β₁ != 0 (Tidak Terjadi Autokorelasi)\n",
    "\n",
    "## Menentukan Tingkat Signifikansi\n",
    "# α = 5%\n",
    "\n",
    "## Menentukan Uji Statistik\n",
    "dw = 2.0033696707617374\n",
    "n = 2000\n",
    "k = 6\n",
    "\n",
    "# Nilai batas bawah (dl) dan batas atas (du) untuk sampel sebanyak 2000 dan variabel sebanyak 6 dapat dilihat pada tabel Durbin Watson sehingga didapatkan nilai dl = 1.92046 dan du = 1.93249.\n",
    "dl = 1.92046\n",
    "du = 1.93249\n",
    "print(\"Hasil dari dl adalah\", round(dl,4))\n",
    "print(\"Hasil dari du adalah\", round(du,4))\n",
    "\n",
    "## Keputusan\n",
    "if dw < dl:\n",
    "    print(\"Hasil dari Durbin-Watson adalah\", round(dw,4))\n",
    "    print(\"sehingga H0 ditolak yang artinya residual tidak terjadi autokorelasi.\")\n",
    "elif dw > du:\n",
    "    print(\"Hasil dari Durbin-Watson adalah\", round(dw,4))\n",
    "    print(\"H0 gagal tolak yang artinya residual terjadi autokorelasi.\")\n",
    "elif dl <= dw <= du:\n",
    "    print(\"Hasil dari Durbin-Watson adalah\", round(dw,4))\n",
    "    print(\"Tidak dapat menarik kesimpulan dengan metode Durbin-Watson bahwa residual terjadi autokorelasi atau tidak\")\n",
    "else:\n",
    "    print(\"Hasil uji tidak konklusif.\")\n"
   ]
  },
  {
   "cell_type": "code",
   "execution_count": 53,
   "metadata": {
    "colab": {
     "base_uri": "https://localhost:8080/",
     "height": 53
    },
    "id": "bANuEUxMoOcd",
    "outputId": "21c19f33-f36a-4946-e2b2-62eb24c84afd"
   },
   "outputs": [
    {
     "data": {
      "text/plain": [
       "'Disimpulkan bahwa nilai Durbin-Watson didapatkan hasil yaitu 2.0034, dl didapatkan hasil yaitu 1.9205, dan du didapatkan hasil yaitu 1.9325 sehingga nilai Durbin-Watson lebih besar dari du maka dapat disimpulkan bahwa H0 gagal tolak yang artinya residual terjadi autokorelasi.'"
      ]
     },
     "execution_count": 53,
     "metadata": {},
     "output_type": "execute_result"
    }
   ],
   "source": [
    "f'''Disimpulkan bahwa nilai Durbin-Watson didapatkan hasil yaitu {round(dw,4)}, dl didapatkan hasil yaitu {round(dl,4)}, dan du didapatkan hasil yaitu {round(du,4)} sehingga nilai Durbin-Watson lebih besar dari du maka dapat disimpulkan bahwa H0 gagal tolak yang artinya residual terjadi autokorelasi.'''"
   ]
  },
  {
   "cell_type": "markdown",
   "metadata": {
    "id": "FZ52Wx8DoQ8Y"
   },
   "source": [
    "### Memeriksa Asumsi Residual Tidak Terjadi Heteroskedastisitas\n"
   ]
  },
  {
   "cell_type": "markdown",
   "metadata": {
    "id": "JiSmqpeqoW3y"
   },
   "source": [
    "#### Menggunakan Visualisasi"
   ]
  },
  {
   "cell_type": "code",
   "execution_count": 54,
   "metadata": {
    "colab": {
     "base_uri": "https://localhost:8080/",
     "height": 478
    },
    "id": "c4XdHpavodqz",
    "outputId": "4f615cfc-ccd4-45ec-9437-78dd65484d8b"
   },
   "outputs": [
    {
     "data": {
      "image/png": "[encoded data removed]",
      "text/plain": [
       "<Figure size 640x480 with 1 Axes>"
      ]
     },
     "metadata": {},
     "output_type": "display_data"
    }
   ],
   "source": [
    "# Plot memeriksa asumsi residual tidak terjadi heteroskedastisitas\n",
    "influence = model.get_influence()\n",
    "\n",
    "# Menentukan standardized residualnya\n",
    "std_residual = influence.resid_studentized_internal\n",
    "plt.scatter(prediksi, std_residual);\n",
    "plt.axhline(0, color='red')\n",
    "plt.xlabel('prediksi');\n",
    "plt.ylabel('standardized residual');\n",
    "plt.xlim([2,5]);"
   ]
  },
  {
   "cell_type": "code",
   "execution_count": 55,
   "metadata": {
    "colab": {
     "base_uri": "https://localhost:8080/"
    },
    "id": "4DFRasoaohkd",
    "outputId": "83c04986-5c7b-4a9d-acbb-66d47d108880"
   },
   "outputs": [
    {
     "name": "stdout",
     "output_type": "stream",
     "text": [
      "Pada gambar di atas dapat disimpulkan bahwa data varians residual yang diwakili oleh standardized residualnya tidak membesar dan mengecil atau tersebar secara random sehingga dapat diartikan residual memenuhi asumsi tidak terjadi heteroskedastisitas.\n"
     ]
    }
   ],
   "source": [
    "\n",
    "# Kesimpulan\n",
    "print(\"Pada gambar di atas dapat disimpulkan bahwa data varians residual yang diwakili oleh standardized residualnya tidak membesar dan mengecil atau tersebar secara random sehingga dapat diartikan residual memenuhi asumsi tidak terjadi heteroskedastisitas.\")"
   ]
  },
  {
   "cell_type": "markdown",
   "metadata": {
    "id": "PGdCBrH8omCl"
   },
   "source": [
    "#### Menggunakan Pengujian Statistika\n"
   ]
  },
  {
   "cell_type": "code",
   "execution_count": 56,
   "metadata": {
    "colab": {
     "base_uri": "https://localhost:8080/"
    },
    "id": "ix48OL4motQR",
    "outputId": "6ecb1879-f70f-40dc-ca79-78639c455177"
   },
   "outputs": [
    {
     "data": {
      "text/plain": [
       "[('Lagrange multiplier statistic', 2.047889262986269),\n",
       " ('p-value', 0.8424797602119181),\n",
       " ('f-value', 0.5112158416738306),\n",
       " ('f p-value', 0.7275116679320403)]"
      ]
     },
     "execution_count": 56,
     "metadata": {},
     "output_type": "execute_result"
    }
   ],
   "source": [
    "# Pengujian Breush-Pagan\n",
    "from statsmodels.compat import lzip\n",
    "import statsmodels.formula.api as smf\n",
    "\n",
    "names = ['Lagrange multiplier statistic', 'p-value', 'f-value', 'f p-value']\n",
    "test = sms.het_breuschpagan(model.resid, model.model.exog)\n",
    "lzip(names, test)"
   ]
  },
  {
   "cell_type": "code",
   "execution_count": 57,
   "metadata": {
    "colab": {
     "base_uri": "https://localhost:8080/"
    },
    "id": "7VFbzBPYpIjr",
    "outputId": "cc44fe87-f128-4fcd-df58-0c80f7bd1304"
   },
   "outputs": [
    {
     "name": "stdout",
     "output_type": "stream",
     "text": [
      "Hasil dari Tabel Chi-Square adalah 11.070497693516351\n",
      "Hasil dari Breush-Pagan adalah 3.1224\n",
      "Sehingga H0 gagal tolak yang artinya asumsi residual tidak terjadi heteroskedastisitas.\n"
     ]
    }
   ],
   "source": [
    "## Menentukan Hipotesis null(H0) dan Hipotesis Alternatif(H1)\n",
    "# H₀ : β₁ = 0 (Terjadi Heteroskedastisitas)\n",
    "# H₁ : β₁ != 0 (Tidak Terjadi Heteroskedastisitas)\n",
    "\n",
    "## Menentukan Tingkat Signifikansi\n",
    "# α = 5%\n",
    "\n",
    "## Menentukan Uji Statistik\n",
    "BP = 3.1224261819329246\n",
    "alpha = 0.05\n",
    "DF = 5\n",
    "chi2_tabel = stats.chi2.ppf(1 - alpha, DF)\n",
    "print(\"Hasil dari Tabel Chi-Square adalah\", chi2_tabel)\n",
    "\n",
    "## Keputusan\n",
    "if BP > chi2_tabel:\n",
    "    print(\"Hasil dari Breush-Pagan adalah\", round(BP,4))\n",
    "    print(\"Sehingga  H0 ditolak yang artinya asumsi residual terjadi heteroskedastisitas.\")\n",
    "else:\n",
    "    print(\"Hasil dari Breush-Pagan adalah\", round(BP,4))\n",
    "    print(\"Sehingga H0 gagal tolak yang artinya asumsi residual tidak terjadi heteroskedastisitas.\")"
   ]
  },
  {
   "cell_type": "code",
   "execution_count": 58,
   "metadata": {
    "colab": {
     "base_uri": "https://localhost:8080/",
     "height": 53
    },
    "id": "EBkHuFmjpt-i",
    "outputId": "56d00bb7-bd24-42f8-eebf-33cef6a66e9a"
   },
   "outputs": [
    {
     "data": {
      "text/plain": [
       "'Disimpulkan bahwa nilai Breush-Pagan didapatkan hasil yaitu 3.1224 dan chi2 tabel didapatkan hasil yaitu 3.1224 sehingga nilai Breush-Pagan lebih kecil dari chi2 tabel maka dapat disimpulkan bahwa H0 gagal tolak yang artinya residual tidak terjadi heteroskedastisitas.'"
      ]
     },
     "execution_count": 58,
     "metadata": {},
     "output_type": "execute_result"
    }
   ],
   "source": [
    "# Kesimpulan\n",
    "f'''Disimpulkan bahwa nilai Breush-Pagan didapatkan hasil yaitu {round(BP,4)} dan chi2 tabel didapatkan hasil yaitu {round(BP,4)} sehingga nilai Breush-Pagan lebih kecil dari chi2 tabel maka dapat disimpulkan bahwa H0 gagal tolak yang artinya residual tidak terjadi heteroskedastisitas.'''"
   ]
  },
  {
   "cell_type": "markdown",
   "metadata": {
    "id": "cJGLHvIXpTCc"
   },
   "source": [
    "## Memeriksa Apakah Variabel Independen Memenuhi Asumsi Multikolinieritas\n"
   ]
  },
  {
   "cell_type": "code",
   "execution_count": 59,
   "metadata": {
    "colab": {
     "base_uri": "https://localhost:8080/"
    },
    "id": "ZV_AoJZqpau1",
    "outputId": "d4a8b532-3680-4546-aace-c231742b9dbb"
   },
   "outputs": [
    {
     "name": "stdout",
     "output_type": "stream",
     "text": [
      "  feature        VIF\n",
      "0      x1  17.077219\n",
      "1      x2   3.843071\n",
      "2      x3  16.528840\n",
      "3      x4   3.181087\n",
      "4      x5   3.031613\n"
     ]
    }
   ],
   "source": [
    "from statsmodels.stats.outliers_influence import variance_inflation_factor\n",
    "\n",
    "# Himpunan variabel Independen\n",
    "X = df_berganda[['x1', 'x2', 'x3', 'x4', 'x5']]\n",
    "\n",
    "# VIF DataFrame\n",
    "vif_data = pd.DataFrame()\n",
    "vif_data[\"feature\"] = X.columns\n",
    "\n",
    "# Menghitung VIF untuk setiap variabel\n",
    "vif_data[\"VIF\"] = [variance_inflation_factor(X.values, i) for i in range(len(X.columns))]\n",
    "print(vif_data)"
   ]
  },
  {
   "cell_type": "code",
   "execution_count": 60,
   "metadata": {
    "colab": {
     "base_uri": "https://localhost:8080/",
     "height": 35
    },
    "id": "SclLGE65qjyn",
    "outputId": "14afe386-8a92-49ab-dde2-6c45f7d9960c"
   },
   "outputs": [
    {
     "data": {
      "text/plain": [
       "' Dapat disimpulkan bahwa variabel independen memenuhi asumsi multikolinieritas karena terdapat hasil VIF yang lebih dari 10 yaitu pada variabel x1(Study_Hours_Per_Day) dan x3(Sleep_Hours_Per_Day).'"
      ]
     },
     "execution_count": 60,
     "metadata": {},
     "output_type": "execute_result"
    }
   ],
   "source": [
    "# Kesimpulan\n",
    "\"\"\" Dapat disimpulkan bahwa variabel independen memenuhi asumsi multikolinieritas karena terdapat hasil VIF yang lebih dari 10 yaitu pada variabel x1(Study_Hours_Per_Day) dan x3(Sleep_Hours_Per_Day).\"\"\""
   ]
  },
  {
   "cell_type": "markdown",
   "metadata": {
    "id": "e2OkyzUHsn7W"
   },
   "source": [
    "# Analisis Regresi Dummy"
   ]
  },
  {
   "cell_type": "markdown",
   "metadata": {
    "id": "KA-Ro_3jr_oc"
   },
   "source": [
    "## Menentukan Variabel Independen dan Dependen"
   ]
  },
  {
   "cell_type": "code",
   "execution_count": 61,
   "metadata": {
    "colab": {
     "base_uri": "https://localhost:8080/",
     "height": 53
    },
    "id": "uylyIKy8sDaw",
    "outputId": "dca61f21-bb55-4cc6-b6df-d2ab66ff3be6"
   },
   "outputs": [
    {
     "data": {
      "text/plain": [
       "' Dari dataset tersebut dapat diketahui bahwa variabel independen yang digunakan adalah Study_Hours_Per_Day, Extracurricular_Hours_Per_Day, Sleep_Hours_Per_Day, Social_Hours_Per_Day, Physical_Activity_Hours_Per_Day, dan Stress_Level. Sedangkan variabel dependen yang digunakan adalah GPA. '"
      ]
     },
     "execution_count": 61,
     "metadata": {},
     "output_type": "execute_result"
    }
   ],
   "source": [
    "\"\"\" Dari dataset tersebut dapat diketahui bahwa variabel independen yang digunakan adalah Study_Hours_Per_Day, Extracurricular_Hours_Per_Day, Sleep_Hours_Per_Day, Social_Hours_Per_Day, Physical_Activity_Hours_Per_Day, dan Stress_Level. Sedangkan variabel dependen yang digunakan adalah GPA. \"\"\""
   ]
  },
  {
   "cell_type": "code",
   "execution_count": 62,
   "metadata": {
    "colab": {
     "base_uri": "https://localhost:8080/",
     "height": 424
    },
    "id": "KLVn_MfyAzcI",
    "outputId": "51ae70c0-b04a-4d92-e117-662b2256e93a"
   },
   "outputs": [
    {
     "data": {
      "text/html": [
       "<div>\n",
       "<style scoped>\n",
       "    .dataframe tbody tr th:only-of-type {\n",
       "        vertical-align: middle;\n",
       "    }\n",
       "\n",
       "    .dataframe tbody tr th {\n",
       "        vertical-align: top;\n",
       "    }\n",
       "\n",
       "    .dataframe thead th {\n",
       "        text-align: right;\n",
       "    }\n",
       "</style>\n",
       "<table border=\"1\" class=\"dataframe\">\n",
       "  <thead>\n",
       "    <tr style=\"text-align: right;\">\n",
       "      <th></th>\n",
       "      <th>Study_Hours_Per_Day</th>\n",
       "      <th>Extracurricular_Hours_Per_Day</th>\n",
       "      <th>Sleep_Hours_Per_Day</th>\n",
       "      <th>Social_Hours_Per_Day</th>\n",
       "      <th>Physical_Activity_Hours_Per_Day</th>\n",
       "      <th>Stress_Level</th>\n",
       "      <th>GPA</th>\n",
       "    </tr>\n",
       "  </thead>\n",
       "  <tbody>\n",
       "    <tr>\n",
       "      <th>0</th>\n",
       "      <td>6.9</td>\n",
       "      <td>3.8</td>\n",
       "      <td>8.7</td>\n",
       "      <td>2.8</td>\n",
       "      <td>1.8</td>\n",
       "      <td>Moderate</td>\n",
       "      <td>2.99</td>\n",
       "    </tr>\n",
       "    <tr>\n",
       "      <th>1</th>\n",
       "      <td>5.3</td>\n",
       "      <td>3.5</td>\n",
       "      <td>8.0</td>\n",
       "      <td>4.2</td>\n",
       "      <td>3.0</td>\n",
       "      <td>Low</td>\n",
       "      <td>2.75</td>\n",
       "    </tr>\n",
       "    <tr>\n",
       "      <th>2</th>\n",
       "      <td>5.1</td>\n",
       "      <td>3.9</td>\n",
       "      <td>9.2</td>\n",
       "      <td>1.2</td>\n",
       "      <td>4.6</td>\n",
       "      <td>Low</td>\n",
       "      <td>2.67</td>\n",
       "    </tr>\n",
       "    <tr>\n",
       "      <th>3</th>\n",
       "      <td>6.5</td>\n",
       "      <td>2.1</td>\n",
       "      <td>7.2</td>\n",
       "      <td>1.7</td>\n",
       "      <td>6.5</td>\n",
       "      <td>Moderate</td>\n",
       "      <td>2.88</td>\n",
       "    </tr>\n",
       "    <tr>\n",
       "      <th>4</th>\n",
       "      <td>8.1</td>\n",
       "      <td>0.6</td>\n",
       "      <td>6.5</td>\n",
       "      <td>2.2</td>\n",
       "      <td>6.6</td>\n",
       "      <td>High</td>\n",
       "      <td>3.51</td>\n",
       "    </tr>\n",
       "    <tr>\n",
       "      <th>...</th>\n",
       "      <td>...</td>\n",
       "      <td>...</td>\n",
       "      <td>...</td>\n",
       "      <td>...</td>\n",
       "      <td>...</td>\n",
       "      <td>...</td>\n",
       "      <td>...</td>\n",
       "    </tr>\n",
       "    <tr>\n",
       "      <th>1995</th>\n",
       "      <td>6.5</td>\n",
       "      <td>0.2</td>\n",
       "      <td>7.4</td>\n",
       "      <td>2.1</td>\n",
       "      <td>7.8</td>\n",
       "      <td>Moderate</td>\n",
       "      <td>3.32</td>\n",
       "    </tr>\n",
       "    <tr>\n",
       "      <th>1996</th>\n",
       "      <td>6.3</td>\n",
       "      <td>2.8</td>\n",
       "      <td>8.8</td>\n",
       "      <td>1.5</td>\n",
       "      <td>4.6</td>\n",
       "      <td>Moderate</td>\n",
       "      <td>2.65</td>\n",
       "    </tr>\n",
       "    <tr>\n",
       "      <th>1997</th>\n",
       "      <td>6.2</td>\n",
       "      <td>0.0</td>\n",
       "      <td>6.2</td>\n",
       "      <td>0.8</td>\n",
       "      <td>10.8</td>\n",
       "      <td>Moderate</td>\n",
       "      <td>3.14</td>\n",
       "    </tr>\n",
       "    <tr>\n",
       "      <th>1998</th>\n",
       "      <td>8.1</td>\n",
       "      <td>0.7</td>\n",
       "      <td>7.6</td>\n",
       "      <td>3.5</td>\n",
       "      <td>4.1</td>\n",
       "      <td>High</td>\n",
       "      <td>3.04</td>\n",
       "    </tr>\n",
       "    <tr>\n",
       "      <th>1999</th>\n",
       "      <td>9.0</td>\n",
       "      <td>1.7</td>\n",
       "      <td>7.3</td>\n",
       "      <td>3.1</td>\n",
       "      <td>2.9</td>\n",
       "      <td>High</td>\n",
       "      <td>3.58</td>\n",
       "    </tr>\n",
       "  </tbody>\n",
       "</table>\n",
       "<p>2000 rows × 7 columns</p>\n",
       "</div>"
      ],
      "text/plain": [
       "      Study_Hours_Per_Day  Extracurricular_Hours_Per_Day  Sleep_Hours_Per_Day  \\\n",
       "0                     6.9                            3.8                  8.7   \n",
       "1                     5.3                            3.5                  8.0   \n",
       "2                     5.1                            3.9                  9.2   \n",
       "3                     6.5                            2.1                  7.2   \n",
       "4                     8.1                            0.6                  6.5   \n",
       "...                   ...                            ...                  ...   \n",
       "1995                  6.5                            0.2                  7.4   \n",
       "1996                  6.3                            2.8                  8.8   \n",
       "1997                  6.2                            0.0                  6.2   \n",
       "1998                  8.1                            0.7                  7.6   \n",
       "1999                  9.0                            1.7                  7.3   \n",
       "\n",
       "      Social_Hours_Per_Day  Physical_Activity_Hours_Per_Day Stress_Level   GPA  \n",
       "0                      2.8                              1.8     Moderate  2.99  \n",
       "1                      4.2                              3.0          Low  2.75  \n",
       "2                      1.2                              4.6          Low  2.67  \n",
       "3                      1.7                              6.5     Moderate  2.88  \n",
       "4                      2.2                              6.6         High  3.51  \n",
       "...                    ...                              ...          ...   ...  \n",
       "1995                   2.1                              7.8     Moderate  3.32  \n",
       "1996                   1.5                              4.6     Moderate  2.65  \n",
       "1997                   0.8                             10.8     Moderate  3.14  \n",
       "1998                   3.5                              4.1         High  3.04  \n",
       "1999                   3.1                              2.9         High  3.58  \n",
       "\n",
       "[2000 rows x 7 columns]"
      ]
     },
     "execution_count": 62,
     "metadata": {},
     "output_type": "execute_result"
    }
   ],
   "source": [
    "df_dummy = df[['Study_Hours_Per_Day', 'Extracurricular_Hours_Per_Day', 'Sleep_Hours_Per_Day', 'Social_Hours_Per_Day', 'Physical_Activity_Hours_Per_Day', 'Stress_Level', 'GPA']]\n",
    "df_dummy"
   ]
  },
  {
   "cell_type": "markdown",
   "metadata": {
    "id": "VqlZLePdt6B1"
   },
   "source": [
    "## Mengubah DataFrame\n",
    "\n",
    "---\n",
    "\n"
   ]
  },
  {
   "cell_type": "code",
   "execution_count": 63,
   "metadata": {
    "colab": {
     "base_uri": "https://localhost:8080/",
     "height": 424
    },
    "id": "f5J5ipYhgO9H",
    "outputId": "4f7fa32e-3f52-489a-e370-0a2bc43f0165"
   },
   "outputs": [
    {
     "data": {
      "text/html": [
       "<div>\n",
       "<style scoped>\n",
       "    .dataframe tbody tr th:only-of-type {\n",
       "        vertical-align: middle;\n",
       "    }\n",
       "\n",
       "    .dataframe tbody tr th {\n",
       "        vertical-align: top;\n",
       "    }\n",
       "\n",
       "    .dataframe thead th {\n",
       "        text-align: right;\n",
       "    }\n",
       "</style>\n",
       "<table border=\"1\" class=\"dataframe\">\n",
       "  <thead>\n",
       "    <tr style=\"text-align: right;\">\n",
       "      <th></th>\n",
       "      <th>Study_Hours_Per_Day</th>\n",
       "      <th>Extracurricular_Hours_Per_Day</th>\n",
       "      <th>Sleep_Hours_Per_Day</th>\n",
       "      <th>Social_Hours_Per_Day</th>\n",
       "      <th>Physical_Activity_Hours_Per_Day</th>\n",
       "      <th>Stress_Level</th>\n",
       "      <th>GPA</th>\n",
       "    </tr>\n",
       "  </thead>\n",
       "  <tbody>\n",
       "    <tr>\n",
       "      <th>0</th>\n",
       "      <td>6.9</td>\n",
       "      <td>3.8</td>\n",
       "      <td>8.7</td>\n",
       "      <td>2.8</td>\n",
       "      <td>1.8</td>\n",
       "      <td>1</td>\n",
       "      <td>2.99</td>\n",
       "    </tr>\n",
       "    <tr>\n",
       "      <th>1</th>\n",
       "      <td>5.3</td>\n",
       "      <td>3.5</td>\n",
       "      <td>8.0</td>\n",
       "      <td>4.2</td>\n",
       "      <td>3.0</td>\n",
       "      <td>0</td>\n",
       "      <td>2.75</td>\n",
       "    </tr>\n",
       "    <tr>\n",
       "      <th>2</th>\n",
       "      <td>5.1</td>\n",
       "      <td>3.9</td>\n",
       "      <td>9.2</td>\n",
       "      <td>1.2</td>\n",
       "      <td>4.6</td>\n",
       "      <td>0</td>\n",
       "      <td>2.67</td>\n",
       "    </tr>\n",
       "    <tr>\n",
       "      <th>3</th>\n",
       "      <td>6.5</td>\n",
       "      <td>2.1</td>\n",
       "      <td>7.2</td>\n",
       "      <td>1.7</td>\n",
       "      <td>6.5</td>\n",
       "      <td>1</td>\n",
       "      <td>2.88</td>\n",
       "    </tr>\n",
       "    <tr>\n",
       "      <th>4</th>\n",
       "      <td>8.1</td>\n",
       "      <td>0.6</td>\n",
       "      <td>6.5</td>\n",
       "      <td>2.2</td>\n",
       "      <td>6.6</td>\n",
       "      <td>2</td>\n",
       "      <td>3.51</td>\n",
       "    </tr>\n",
       "    <tr>\n",
       "      <th>...</th>\n",
       "      <td>...</td>\n",
       "      <td>...</td>\n",
       "      <td>...</td>\n",
       "      <td>...</td>\n",
       "      <td>...</td>\n",
       "      <td>...</td>\n",
       "      <td>...</td>\n",
       "    </tr>\n",
       "    <tr>\n",
       "      <th>1995</th>\n",
       "      <td>6.5</td>\n",
       "      <td>0.2</td>\n",
       "      <td>7.4</td>\n",
       "      <td>2.1</td>\n",
       "      <td>7.8</td>\n",
       "      <td>1</td>\n",
       "      <td>3.32</td>\n",
       "    </tr>\n",
       "    <tr>\n",
       "      <th>1996</th>\n",
       "      <td>6.3</td>\n",
       "      <td>2.8</td>\n",
       "      <td>8.8</td>\n",
       "      <td>1.5</td>\n",
       "      <td>4.6</td>\n",
       "      <td>1</td>\n",
       "      <td>2.65</td>\n",
       "    </tr>\n",
       "    <tr>\n",
       "      <th>1997</th>\n",
       "      <td>6.2</td>\n",
       "      <td>0.0</td>\n",
       "      <td>6.2</td>\n",
       "      <td>0.8</td>\n",
       "      <td>10.8</td>\n",
       "      <td>1</td>\n",
       "      <td>3.14</td>\n",
       "    </tr>\n",
       "    <tr>\n",
       "      <th>1998</th>\n",
       "      <td>8.1</td>\n",
       "      <td>0.7</td>\n",
       "      <td>7.6</td>\n",
       "      <td>3.5</td>\n",
       "      <td>4.1</td>\n",
       "      <td>2</td>\n",
       "      <td>3.04</td>\n",
       "    </tr>\n",
       "    <tr>\n",
       "      <th>1999</th>\n",
       "      <td>9.0</td>\n",
       "      <td>1.7</td>\n",
       "      <td>7.3</td>\n",
       "      <td>3.1</td>\n",
       "      <td>2.9</td>\n",
       "      <td>2</td>\n",
       "      <td>3.58</td>\n",
       "    </tr>\n",
       "  </tbody>\n",
       "</table>\n",
       "<p>2000 rows × 7 columns</p>\n",
       "</div>"
      ],
      "text/plain": [
       "      Study_Hours_Per_Day  Extracurricular_Hours_Per_Day  Sleep_Hours_Per_Day  \\\n",
       "0                     6.9                            3.8                  8.7   \n",
       "1                     5.3                            3.5                  8.0   \n",
       "2                     5.1                            3.9                  9.2   \n",
       "3                     6.5                            2.1                  7.2   \n",
       "4                     8.1                            0.6                  6.5   \n",
       "...                   ...                            ...                  ...   \n",
       "1995                  6.5                            0.2                  7.4   \n",
       "1996                  6.3                            2.8                  8.8   \n",
       "1997                  6.2                            0.0                  6.2   \n",
       "1998                  8.1                            0.7                  7.6   \n",
       "1999                  9.0                            1.7                  7.3   \n",
       "\n",
       "      Social_Hours_Per_Day  Physical_Activity_Hours_Per_Day  Stress_Level  \\\n",
       "0                      2.8                              1.8             1   \n",
       "1                      4.2                              3.0             0   \n",
       "2                      1.2                              4.6             0   \n",
       "3                      1.7                              6.5             1   \n",
       "4                      2.2                              6.6             2   \n",
       "...                    ...                              ...           ...   \n",
       "1995                   2.1                              7.8             1   \n",
       "1996                   1.5                              4.6             1   \n",
       "1997                   0.8                             10.8             1   \n",
       "1998                   3.5                              4.1             2   \n",
       "1999                   3.1                              2.9             2   \n",
       "\n",
       "       GPA  \n",
       "0     2.99  \n",
       "1     2.75  \n",
       "2     2.67  \n",
       "3     2.88  \n",
       "4     3.51  \n",
       "...    ...  \n",
       "1995  3.32  \n",
       "1996  2.65  \n",
       "1997  3.14  \n",
       "1998  3.04  \n",
       "1999  3.58  \n",
       "\n",
       "[2000 rows x 7 columns]"
      ]
     },
     "execution_count": 63,
     "metadata": {},
     "output_type": "execute_result"
    }
   ],
   "source": [
    "# Mengganti nilai kategori stress level menjadi numerik\n",
    "def ganti_nilai_stress(x):\n",
    "    if x == 'Low':\n",
    "        return 0\n",
    "    elif x == 'Moderate':\n",
    "        return 1\n",
    "    elif x == 'High':\n",
    "        return 2\n",
    "    else:\n",
    "        return None\n",
    "\n",
    "df_dummy['Stress_Level'] = df_dummy['Stress_Level'].apply(ganti_nilai_stress)\n",
    "df_dummy"
   ]
  },
  {
   "cell_type": "markdown",
   "metadata": {
    "id": "WzcFF3MtoZT4"
   },
   "source": [
    "# Mengetahui Seberapa Kuat Hubungan Variabel Dependen dan Variabel Independen Menggunakan Metode Analisis Korelasi Pearson"
   ]
  },
  {
   "cell_type": "code",
   "execution_count": 64,
   "metadata": {
    "colab": {
     "base_uri": "https://localhost:8080/",
     "height": 269
    },
    "id": "Fe3jtdtdgXt5",
    "outputId": "f2f92fcb-4538-4b35-9a98-1866dd77c465"
   },
   "outputs": [
    {
     "data": {
      "text/html": [
       "<div>\n",
       "<style scoped>\n",
       "    .dataframe tbody tr th:only-of-type {\n",
       "        vertical-align: middle;\n",
       "    }\n",
       "\n",
       "    .dataframe tbody tr th {\n",
       "        vertical-align: top;\n",
       "    }\n",
       "\n",
       "    .dataframe thead th {\n",
       "        text-align: right;\n",
       "    }\n",
       "</style>\n",
       "<table border=\"1\" class=\"dataframe\">\n",
       "  <thead>\n",
       "    <tr style=\"text-align: right;\">\n",
       "      <th></th>\n",
       "      <th>Study_Hours_Per_Day</th>\n",
       "      <th>Extracurricular_Hours_Per_Day</th>\n",
       "      <th>Sleep_Hours_Per_Day</th>\n",
       "      <th>Social_Hours_Per_Day</th>\n",
       "      <th>Physical_Activity_Hours_Per_Day</th>\n",
       "      <th>Stress_Level</th>\n",
       "      <th>GPA</th>\n",
       "    </tr>\n",
       "  </thead>\n",
       "  <tbody>\n",
       "    <tr>\n",
       "      <th>Study_Hours_Per_Day</th>\n",
       "      <td>1.000000</td>\n",
       "      <td>-0.002629</td>\n",
       "      <td>0.026717</td>\n",
       "      <td>-0.137820</td>\n",
       "      <td>-0.488113</td>\n",
       "      <td>0.738843</td>\n",
       "      <td>0.734468</td>\n",
       "    </tr>\n",
       "    <tr>\n",
       "      <th>Extracurricular_Hours_Per_Day</th>\n",
       "      <td>-0.002629</td>\n",
       "      <td>1.000000</td>\n",
       "      <td>0.008844</td>\n",
       "      <td>-0.139081</td>\n",
       "      <td>-0.369989</td>\n",
       "      <td>-0.006099</td>\n",
       "      <td>-0.032174</td>\n",
       "    </tr>\n",
       "    <tr>\n",
       "      <th>Sleep_Hours_Per_Day</th>\n",
       "      <td>0.026717</td>\n",
       "      <td>0.008844</td>\n",
       "      <td>1.000000</td>\n",
       "      <td>-0.193556</td>\n",
       "      <td>-0.470302</td>\n",
       "      <td>-0.298917</td>\n",
       "      <td>-0.004278</td>\n",
       "    </tr>\n",
       "    <tr>\n",
       "      <th>Social_Hours_Per_Day</th>\n",
       "      <td>-0.137820</td>\n",
       "      <td>-0.139081</td>\n",
       "      <td>-0.193556</td>\n",
       "      <td>1.000000</td>\n",
       "      <td>-0.417142</td>\n",
       "      <td>-0.054702</td>\n",
       "      <td>-0.085677</td>\n",
       "    </tr>\n",
       "    <tr>\n",
       "      <th>Physical_Activity_Hours_Per_Day</th>\n",
       "      <td>-0.488113</td>\n",
       "      <td>-0.369989</td>\n",
       "      <td>-0.470302</td>\n",
       "      <td>-0.417142</td>\n",
       "      <td>1.000000</td>\n",
       "      <td>-0.205207</td>\n",
       "      <td>-0.341152</td>\n",
       "    </tr>\n",
       "    <tr>\n",
       "      <th>Stress_Level</th>\n",
       "      <td>0.738843</td>\n",
       "      <td>-0.006099</td>\n",
       "      <td>-0.298917</td>\n",
       "      <td>-0.054702</td>\n",
       "      <td>-0.205207</td>\n",
       "      <td>1.000000</td>\n",
       "      <td>0.550395</td>\n",
       "    </tr>\n",
       "    <tr>\n",
       "      <th>GPA</th>\n",
       "      <td>0.734468</td>\n",
       "      <td>-0.032174</td>\n",
       "      <td>-0.004278</td>\n",
       "      <td>-0.085677</td>\n",
       "      <td>-0.341152</td>\n",
       "      <td>0.550395</td>\n",
       "      <td>1.000000</td>\n",
       "    </tr>\n",
       "  </tbody>\n",
       "</table>\n",
       "</div>"
      ],
      "text/plain": [
       "                                 Study_Hours_Per_Day  \\\n",
       "Study_Hours_Per_Day                         1.000000   \n",
       "Extracurricular_Hours_Per_Day              -0.002629   \n",
       "Sleep_Hours_Per_Day                         0.026717   \n",
       "Social_Hours_Per_Day                       -0.137820   \n",
       "Physical_Activity_Hours_Per_Day            -0.488113   \n",
       "Stress_Level                                0.738843   \n",
       "GPA                                         0.734468   \n",
       "\n",
       "                                 Extracurricular_Hours_Per_Day  \\\n",
       "Study_Hours_Per_Day                                  -0.002629   \n",
       "Extracurricular_Hours_Per_Day                         1.000000   \n",
       "Sleep_Hours_Per_Day                                   0.008844   \n",
       "Social_Hours_Per_Day                                 -0.139081   \n",
       "Physical_Activity_Hours_Per_Day                      -0.369989   \n",
       "Stress_Level                                         -0.006099   \n",
       "GPA                                                  -0.032174   \n",
       "\n",
       "                                 Sleep_Hours_Per_Day  Social_Hours_Per_Day  \\\n",
       "Study_Hours_Per_Day                         0.026717             -0.137820   \n",
       "Extracurricular_Hours_Per_Day               0.008844             -0.139081   \n",
       "Sleep_Hours_Per_Day                         1.000000             -0.193556   \n",
       "Social_Hours_Per_Day                       -0.193556              1.000000   \n",
       "Physical_Activity_Hours_Per_Day            -0.470302             -0.417142   \n",
       "Stress_Level                               -0.298917             -0.054702   \n",
       "GPA                                        -0.004278             -0.085677   \n",
       "\n",
       "                                 Physical_Activity_Hours_Per_Day  \\\n",
       "Study_Hours_Per_Day                                    -0.488113   \n",
       "Extracurricular_Hours_Per_Day                          -0.369989   \n",
       "Sleep_Hours_Per_Day                                    -0.470302   \n",
       "Social_Hours_Per_Day                                   -0.417142   \n",
       "Physical_Activity_Hours_Per_Day                         1.000000   \n",
       "Stress_Level                                           -0.205207   \n",
       "GPA                                                    -0.341152   \n",
       "\n",
       "                                 Stress_Level       GPA  \n",
       "Study_Hours_Per_Day                  0.738843  0.734468  \n",
       "Extracurricular_Hours_Per_Day       -0.006099 -0.032174  \n",
       "Sleep_Hours_Per_Day                 -0.298917 -0.004278  \n",
       "Social_Hours_Per_Day                -0.054702 -0.085677  \n",
       "Physical_Activity_Hours_Per_Day     -0.205207 -0.341152  \n",
       "Stress_Level                         1.000000  0.550395  \n",
       "GPA                                  0.550395  1.000000  "
      ]
     },
     "execution_count": 64,
     "metadata": {},
     "output_type": "execute_result"
    }
   ],
   "source": [
    "# Melakukan uji korelasi pearson\n",
    "Tcorrelation = df_dummy.corr(method='pearson')\n",
    "Tcorrelation"
   ]
  },
  {
   "cell_type": "code",
   "execution_count": 65,
   "metadata": {
    "colab": {
     "base_uri": "https://localhost:8080/",
     "height": 1000
    },
    "id": "Nv5f7zFVgcmd",
    "outputId": "86e34e6c-4baf-461e-8e76-f2c4bed0043f"
   },
   "outputs": [
    {
     "data": {
      "text/plain": [
       "<Axes: >"
      ]
     },
     "execution_count": 65,
     "metadata": {},
     "output_type": "execute_result"
    },
    {
     "data": {
      "image/png": "[encoded data removed]",
      "text/plain": [
       "<Figure size 2500x1200 with 2 Axes>"
      ]
     },
     "metadata": {},
     "output_type": "display_data"
    }
   ],
   "source": [
    "# Memvisualisasikan heatmap\n",
    "corr= df_dummy.corr()\n",
    "plt.figure(figsize=(25,12))\n",
    "sns.heatmap(corr,annot=True)"
   ]
  },
  {
   "cell_type": "code",
   "execution_count": 66,
   "metadata": {
    "colab": {
     "base_uri": "https://localhost:8080/",
     "height": 206
    },
    "id": "wZkvTQZigf5Q",
    "outputId": "2b5d34c5-a2fd-414f-97ca-cbd32aca9cca"
   },
   "outputs": [
    {
     "data": {
      "text/html": [
       "<div>\n",
       "<style scoped>\n",
       "    .dataframe tbody tr th:only-of-type {\n",
       "        vertical-align: middle;\n",
       "    }\n",
       "\n",
       "    .dataframe tbody tr th {\n",
       "        vertical-align: top;\n",
       "    }\n",
       "\n",
       "    .dataframe thead th {\n",
       "        text-align: right;\n",
       "    }\n",
       "</style>\n",
       "<table border=\"1\" class=\"dataframe\">\n",
       "  <thead>\n",
       "    <tr style=\"text-align: right;\">\n",
       "      <th></th>\n",
       "      <th>x1</th>\n",
       "      <th>x2</th>\n",
       "      <th>x3</th>\n",
       "      <th>x4</th>\n",
       "      <th>x5</th>\n",
       "      <th>x6</th>\n",
       "      <th>y</th>\n",
       "    </tr>\n",
       "  </thead>\n",
       "  <tbody>\n",
       "    <tr>\n",
       "      <th>0</th>\n",
       "      <td>6.9</td>\n",
       "      <td>3.8</td>\n",
       "      <td>8.7</td>\n",
       "      <td>2.8</td>\n",
       "      <td>1.8</td>\n",
       "      <td>1</td>\n",
       "      <td>2.99</td>\n",
       "    </tr>\n",
       "    <tr>\n",
       "      <th>1</th>\n",
       "      <td>5.3</td>\n",
       "      <td>3.5</td>\n",
       "      <td>8.0</td>\n",
       "      <td>4.2</td>\n",
       "      <td>3.0</td>\n",
       "      <td>0</td>\n",
       "      <td>2.75</td>\n",
       "    </tr>\n",
       "    <tr>\n",
       "      <th>2</th>\n",
       "      <td>5.1</td>\n",
       "      <td>3.9</td>\n",
       "      <td>9.2</td>\n",
       "      <td>1.2</td>\n",
       "      <td>4.6</td>\n",
       "      <td>0</td>\n",
       "      <td>2.67</td>\n",
       "    </tr>\n",
       "    <tr>\n",
       "      <th>3</th>\n",
       "      <td>6.5</td>\n",
       "      <td>2.1</td>\n",
       "      <td>7.2</td>\n",
       "      <td>1.7</td>\n",
       "      <td>6.5</td>\n",
       "      <td>1</td>\n",
       "      <td>2.88</td>\n",
       "    </tr>\n",
       "    <tr>\n",
       "      <th>4</th>\n",
       "      <td>8.1</td>\n",
       "      <td>0.6</td>\n",
       "      <td>6.5</td>\n",
       "      <td>2.2</td>\n",
       "      <td>6.6</td>\n",
       "      <td>2</td>\n",
       "      <td>3.51</td>\n",
       "    </tr>\n",
       "  </tbody>\n",
       "</table>\n",
       "</div>"
      ],
      "text/plain": [
       "    x1   x2   x3   x4   x5  x6     y\n",
       "0  6.9  3.8  8.7  2.8  1.8   1  2.99\n",
       "1  5.3  3.5  8.0  4.2  3.0   0  2.75\n",
       "2  5.1  3.9  9.2  1.2  4.6   0  2.67\n",
       "3  6.5  2.1  7.2  1.7  6.5   1  2.88\n",
       "4  8.1  0.6  6.5  2.2  6.6   2  3.51"
      ]
     },
     "execution_count": 66,
     "metadata": {},
     "output_type": "execute_result"
    }
   ],
   "source": [
    "# Mengganti nama kolom variabel dependen dan independen\n",
    "df_dummy.rename(columns={'Study_Hours_Per_Day':'x1', 'Extracurricular_Hours_Per_Day':'x2', 'Sleep_Hours_Per_Day':'x3',\n",
    "                   'Social_Hours_Per_Day':'x4', 'Physical_Activity_Hours_Per_Day':'x5', 'Stress_Level':'x6', 'GPA':'y'}, inplace=True)\n",
    "df_dummy.head()"
   ]
  },
  {
   "cell_type": "code",
   "execution_count": 67,
   "metadata": {
    "colab": {
     "base_uri": "https://localhost:8080/"
    },
    "id": "b4ISHG5fHRgL",
    "outputId": "a525979d-3ba3-4bd3-f31c-50cc91c7dc3f"
   },
   "outputs": [
    {
     "name": "stdout",
     "output_type": "stream",
     "text": [
      "Koefisien Pearson: 0.73447\n"
     ]
    }
   ],
   "source": [
    "## Hubungan Study_Hours_Per_Day dengan GPA\n",
    "# Import Library yang Digunakan\n",
    "from scipy.stats import pearsonr\n",
    "\n",
    "# Menghitung Korelasi Pearson\n",
    "list1 = df_dummy['x1']\n",
    "list2 = df_dummy['y']\n",
    "corr, _ = pearsonr(list1, list2)\n",
    "print('Koefisien Pearson: %.5f' % corr)"
   ]
  },
  {
   "cell_type": "code",
   "execution_count": 68,
   "metadata": {
    "colab": {
     "base_uri": "https://localhost:8080/",
     "height": 53
    },
    "id": "m4HnKvvfpgYd",
    "outputId": "2443c293-42c7-40f5-8de7-a4ddbf78cc1b"
   },
   "outputs": [
    {
     "data": {
      "text/plain": [
       "'Dari nilai koefisien Pearson di atas yang bernilai 0.73447 disimpulkan bahwa hubungan antara Study_Hours_Per_Day dengan GPA yaitu hubungan korelasi positif kuat karena lebih dari sama dengan 0.7 dan kurang dari sama dengan 1 sehingga apabila Study_Hours_Per_Day meningkat, maka GPA juga meningkat dan sebaliknya.'"
      ]
     },
     "execution_count": 68,
     "metadata": {},
     "output_type": "execute_result"
    }
   ],
   "source": [
    "# Kesimpulan\n",
    "\"\"\"Dari nilai koefisien Pearson di atas yang bernilai 0.73447 disimpulkan bahwa hubungan antara Study_Hours_Per_Day dengan GPA yaitu hubungan korelasi positif kuat karena lebih dari sama dengan 0.7 dan kurang dari sama dengan 1 sehingga apabila Study_Hours_Per_Day meningkat, maka GPA juga meningkat dan sebaliknya.\"\"\""
   ]
  },
  {
   "cell_type": "code",
   "execution_count": 69,
   "metadata": {
    "colab": {
     "base_uri": "https://localhost:8080/"
    },
    "id": "gU8-u7Q1H12e",
    "outputId": "148e620a-2c65-4d91-da14-a09a0e22ed1d"
   },
   "outputs": [
    {
     "name": "stdout",
     "output_type": "stream",
     "text": [
      "Koefisien Pearson: -0.03217\n"
     ]
    }
   ],
   "source": [
    "## Hubungan Extracurricular_Hours_Per_Day dengan GPA\n",
    "# Import Library yang Digunakan\n",
    "from scipy.stats import pearsonr\n",
    "\n",
    "# Menghitung Korelasi Pearson\n",
    "list1 = df_dummy['x2']\n",
    "list2 = df_dummy['y']\n",
    "corr, _ = pearsonr(list1, list2)\n",
    "print('Koefisien Pearson: %.5f' % corr)"
   ]
  },
  {
   "cell_type": "code",
   "execution_count": 70,
   "metadata": {
    "colab": {
     "base_uri": "https://localhost:8080/",
     "height": 53
    },
    "id": "uJAMgG_up8RZ",
    "outputId": "1dd10763-0197-4bac-f507-b6dfc5db8847"
   },
   "outputs": [
    {
     "data": {
      "text/plain": [
       "'Dari nilai koefisien Pearson di atas yang bernilai -0.03217 disimpulkan bahwa hubungan antara Extracurricular_Hours_Per_Day dengan GPA yaitu hubungan korelasi negatif lemah karena lebih dari sama dengan -0.3 dan kurang dari sama dengan 0 sehingga apabila Extracurricular_Hours_Per_Day meningkat, maka GPA menurun dan sebaliknya.'"
      ]
     },
     "execution_count": 70,
     "metadata": {},
     "output_type": "execute_result"
    }
   ],
   "source": [
    "# Kesimpulan\n",
    "\"\"\"Dari nilai koefisien Pearson di atas yang bernilai -0.03217 disimpulkan bahwa hubungan antara Extracurricular_Hours_Per_Day dengan GPA yaitu hubungan korelasi negatif lemah karena lebih dari sama dengan -0.3 dan kurang dari sama dengan 0 sehingga apabila Extracurricular_Hours_Per_Day meningkat, maka GPA menurun dan sebaliknya.\"\"\""
   ]
  },
  {
   "cell_type": "code",
   "execution_count": 71,
   "metadata": {
    "colab": {
     "base_uri": "https://localhost:8080/"
    },
    "id": "6Q42InyhIAoA",
    "outputId": "692e58a5-8e8a-4cf9-f7ba-458d848ce18e"
   },
   "outputs": [
    {
     "name": "stdout",
     "output_type": "stream",
     "text": [
      "Koefisien Pearson x3 dan y: -0.00428\n"
     ]
    }
   ],
   "source": [
    "## Hubungan Sleep_Hours_Per_Day dengan GPA\n",
    "# Convert dataframe into series\n",
    "list1 = df_dummy['x3']\n",
    "list2 = df_dummy['y']\n",
    "corr, _ = pearsonr(list1, list2)\n",
    "print('Koefisien Pearson x3 dan y: %.5f' % corr)"
   ]
  },
  {
   "cell_type": "code",
   "execution_count": 72,
   "metadata": {
    "colab": {
     "base_uri": "https://localhost:8080/",
     "height": 53
    },
    "id": "J_9zI1v8L-kA",
    "outputId": "4a831ac3-1b4e-4cd2-c688-0d5c3206a309"
   },
   "outputs": [
    {
     "data": {
      "text/plain": [
       "'Dari nilai koefisien Pearson di atas yang bernilai -0.00428 disimpulkan bahwa hubungan antara Sleep_Hours_Per_Day dengan GPA yaitu hubungan korelasi negatif lemah karena lebih dari sama dengan -0.3 dan kurang dari sama dengan 0 sehingga apabila Sleep_Hours_Per_Day meningkat, maka GPA menurun dan sebaliknya.'"
      ]
     },
     "execution_count": 72,
     "metadata": {},
     "output_type": "execute_result"
    }
   ],
   "source": [
    "# Kesimpulan\n",
    "\"\"\"Dari nilai koefisien Pearson di atas yang bernilai -0.00428 disimpulkan bahwa hubungan antara Sleep_Hours_Per_Day dengan GPA yaitu hubungan korelasi negatif lemah karena lebih dari sama dengan -0.3 dan kurang dari sama dengan 0 sehingga apabila Sleep_Hours_Per_Day meningkat, maka GPA menurun dan sebaliknya.\"\"\""
   ]
  },
  {
   "cell_type": "code",
   "execution_count": 73,
   "metadata": {
    "colab": {
     "base_uri": "https://localhost:8080/"
    },
    "id": "4FhMhqTjIDbL",
    "outputId": "cea633f2-a6a7-4740-f36d-7c8317596b90"
   },
   "outputs": [
    {
     "name": "stdout",
     "output_type": "stream",
     "text": [
      "Koefisien Pearson x4 dan y: -0.08568\n"
     ]
    }
   ],
   "source": [
    "## Hubungan Social_Hours_Per_Day dengan GPA\n",
    "# Convert dataframe into series\n",
    "list1 = df_dummy['x4']\n",
    "list2 = df_dummy['y']\n",
    "corr, _ = pearsonr(list1, list2)\n",
    "print('Koefisien Pearson x4 dan y: %.5f' % corr)"
   ]
  },
  {
   "cell_type": "code",
   "execution_count": 74,
   "metadata": {
    "colab": {
     "base_uri": "https://localhost:8080/",
     "height": 53
    },
    "id": "HXzj3EmtN6UG",
    "outputId": "b7261fca-d60b-4574-c9df-d538f4b79d5f"
   },
   "outputs": [
    {
     "data": {
      "text/plain": [
       "'Dari nilai koefisien Pearson di atas yang bernilai -0.08568 disimpulkan bahwa hubungan antara Social_Hours_Per_Day dengan GPA yaitu hubungan korelasi negatif kuat karena lebih dari sama dengan -1 dan kurang dari sama dengan -0.7 sehingga apabila Sleep_Hours_Per_Day meningkat, maka GPA menurun dan sebaliknya.'"
      ]
     },
     "execution_count": 74,
     "metadata": {},
     "output_type": "execute_result"
    }
   ],
   "source": [
    "# Kesimpulan\n",
    "\"\"\"Dari nilai koefisien Pearson di atas yang bernilai -0.08568 disimpulkan bahwa hubungan antara Social_Hours_Per_Day dengan GPA yaitu hubungan korelasi negatif kuat karena lebih dari sama dengan -1 dan kurang dari sama dengan -0.7 sehingga apabila Sleep_Hours_Per_Day meningkat, maka GPA menurun dan sebaliknya.\"\"\""
   ]
  },
  {
   "cell_type": "code",
   "execution_count": 75,
   "metadata": {
    "colab": {
     "base_uri": "https://localhost:8080/"
    },
    "id": "PIiwvhSfIK3v",
    "outputId": "f969e3dc-3dd2-4313-8bf7-eb229b859374"
   },
   "outputs": [
    {
     "name": "stdout",
     "output_type": "stream",
     "text": [
      "Koefisien Pearson x5 dan y: -0.34115\n"
     ]
    }
   ],
   "source": [
    "## Hubungan Physical_Activity_Hours_Per_Day dengan GPA\n",
    "# Convert dataframe into series\n",
    "list1 = df_dummy['x5']\n",
    "list2 = df_dummy['y']\n",
    "corr, _ = pearsonr(list1, list2)\n",
    "print('Koefisien Pearson x5 dan y: %.5f' % corr)"
   ]
  },
  {
   "cell_type": "code",
   "execution_count": 76,
   "metadata": {
    "colab": {
     "base_uri": "https://localhost:8080/",
     "height": 53
    },
    "id": "DX8uohThOOJl",
    "outputId": "76919225-fa24-4a82-9704-2f958bbe6588"
   },
   "outputs": [
    {
     "data": {
      "text/plain": [
       "'Dari nilai koefisien Pearson di atas yang bernilai -0.34115 disimpulkan bahwa hubungan antara Physical_Activity_Hours_Per_Day dengan GPA yaitu hubungan korelasi negatif lemah karena lebih dari sama dengan -0.3 dan kurang dari sama dengan 0 sehingga apabila Physical_Activity_Hours_Per_Day meningkat, maka GPA menurun dan sebaliknya.'"
      ]
     },
     "execution_count": 76,
     "metadata": {},
     "output_type": "execute_result"
    }
   ],
   "source": [
    "# Kesimpulan\n",
    "\"\"\"Dari nilai koefisien Pearson di atas yang bernilai -0.34115 disimpulkan bahwa hubungan antara Physical_Activity_Hours_Per_Day dengan GPA yaitu hubungan korelasi negatif lemah karena lebih dari sama dengan -0.3 dan kurang dari sama dengan 0 sehingga apabila Physical_Activity_Hours_Per_Day meningkat, maka GPA menurun dan sebaliknya.\"\"\""
   ]
  },
  {
   "cell_type": "code",
   "execution_count": 77,
   "metadata": {
    "colab": {
     "base_uri": "https://localhost:8080/"
    },
    "id": "mdZY49mfINyG",
    "outputId": "a94ee366-c450-42a6-b0e7-88157318753e"
   },
   "outputs": [
    {
     "name": "stdout",
     "output_type": "stream",
     "text": [
      "Koefisien Pearson x6 dan y: 0.55039\n"
     ]
    }
   ],
   "source": [
    "## Hubungan Stress_Level dengan GPA\n",
    "# Convert dataframe into series\n",
    "list1 = df_dummy['x6']\n",
    "list2 = df_dummy['y']\n",
    "corr, _ = pearsonr(list1, list2)\n",
    "print('Koefisien Pearson x6 dan y: %.5f' % corr)"
   ]
  },
  {
   "cell_type": "code",
   "execution_count": 78,
   "metadata": {
    "colab": {
     "base_uri": "https://localhost:8080/",
     "height": 53
    },
    "id": "8CYRBtwVOhZl",
    "outputId": "4612162d-6562-4e9c-dccf-ddff258ae119"
   },
   "outputs": [
    {
     "data": {
      "text/plain": [
       "'Dari nilai koefisien Pearson di atas yang bernilai 0.55039 disimpulkan bahwa hubungan antara Stress_Level dengan GPA yaitu hubungan korelasi positif cukup kuat karena lebih dari sama dengan 0.3 dan kurang dari sama dengan 0.7 sehingga apabila Stress_Level meningkat, maka GPA juga meningkat dan sebaliknya.'"
      ]
     },
     "execution_count": 78,
     "metadata": {},
     "output_type": "execute_result"
    }
   ],
   "source": [
    "# Kesimpulan\n",
    "\"\"\"Dari nilai koefisien Pearson di atas yang bernilai 0.55039 disimpulkan bahwa hubungan antara Stress_Level dengan GPA yaitu hubungan korelasi positif cukup kuat karena lebih dari sama dengan 0.3 dan kurang dari sama dengan 0.7 sehingga apabila Stress_Level meningkat, maka GPA juga meningkat dan sebaliknya.\"\"\""
   ]
  },
  {
   "cell_type": "markdown",
   "metadata": {
    "id": "Wsd5H6Qpo4aR"
   },
   "source": [
    "# Membentuk Model Regresi Dummy"
   ]
  },
  {
   "cell_type": "code",
   "execution_count": 79,
   "metadata": {
    "colab": {
     "base_uri": "https://localhost:8080/"
    },
    "id": "CTv7E96GIpw9",
    "outputId": "098f0885-e01f-40dc-cdcd-35200fab4889"
   },
   "outputs": [
    {
     "name": "stdout",
     "output_type": "stream",
     "text": [
      "                            OLS Regression Results                            \n",
      "==============================================================================\n",
      "Dep. Variable:                      y   R-squared:                       0.542\n",
      "Model:                            OLS   Adj. R-squared:                  0.540\n",
      "Method:                 Least Squares   F-statistic:                     392.7\n",
      "Date:                Sun, 24 Nov 2024   Prob (F-statistic):               0.00\n",
      "Time:                        22:40:31   Log-Likelihood:                 359.77\n",
      "No. Observations:                2000   AIC:                            -705.5\n",
      "Df Residuals:                    1993   BIC:                            -666.3\n",
      "Df Model:                           6                                         \n",
      "Covariance Type:            nonrobust                                         \n",
      "==============================================================================\n",
      "                 coef    std err          t      P>|t|      [0.025      0.975]\n",
      "------------------------------------------------------------------------------\n",
      "Intercept      0.0232      0.000    123.932      0.000       0.023       0.024\n",
      "x1             0.2367      0.004     60.794      0.000       0.229       0.244\n",
      "x2             0.0752      0.004     18.903      0.000       0.067       0.083\n",
      "x3             0.0790      0.004     21.827      0.000       0.072       0.086\n",
      "x4             0.0841      0.003     30.704      0.000       0.079       0.089\n",
      "x5             0.0827      0.002     44.581      0.000       0.079       0.086\n",
      "x6_0           0.0066      0.021      0.309      0.757      -0.035       0.048\n",
      "x6_1          -0.0158      0.013     -1.173      0.241      -0.042       0.011\n",
      "==============================================================================\n",
      "Omnibus:                        0.722   Durbin-Watson:                   2.003\n",
      "Prob(Omnibus):                  0.697   Jarque-Bera (JB):                0.635\n",
      "Skew:                           0.025   Prob(JB):                        0.728\n",
      "Kurtosis:                       3.071   Cond. No.                     4.93e+16\n",
      "==============================================================================\n",
      "\n",
      "Notes:\n",
      "[1] Standard Errors assume that the covariance matrix of the errors is correctly specified.\n",
      "[2] The smallest eigenvalue is 1.18e-28. This might indicate that there are\n",
      "strong multicollinearity problems or that the design matrix is singular.\n"
     ]
    }
   ],
   "source": [
    "# Memodelkan dengan Regresi Dummy\n",
    "df_with_dummies = pd.get_dummies(data=df_dummy, columns=['x6'])\n",
    "x = df_with_dummies[['x1', 'x2', 'x3', 'x4', 'x5', 'x6_0', 'x6_1']]\n",
    "y = df_with_dummies['y']\n",
    "reg_mod = 'y ~ x1+x2+x3+x4+x5+x6_0+x6_1'\n",
    "model = smf.ols(formula=reg_mod, data=df_with_dummies).fit()\n",
    "print_model = model.summary()\n",
    "print(print_model)"
   ]
  },
  {
   "cell_type": "code",
   "execution_count": 80,
   "metadata": {
    "colab": {
     "base_uri": "https://localhost:8080/",
     "height": 53
    },
    "id": "edB-ezP6cB0R",
    "outputId": "aeda4667-edbd-4156-ec7f-34a0c4d61ab0"
   },
   "outputs": [
    {
     "data": {
      "text/plain": [
       "'Berdasarkan gambar di atas didapatkan bahwa β₀ = 0.0232, β₁ = 0.2367, β₂ = 0.0752, β3 = 0.0790, β4 = 0.0841, β5 = 0.0827, β6_0 = 0.0066, β6_1 = -0.0158, sehingga didapatkan Ytopi =  0.0232 + (0.2367)x1 + (0.0752)x2 + (0.0790)x3 + (0.0841)x4 + (0.0827)x5 + (0.0066)x6_0 - (0.0158)x6_1. '"
      ]
     },
     "execution_count": 80,
     "metadata": {},
     "output_type": "execute_result"
    }
   ],
   "source": [
    "\"\"\"Berdasarkan gambar di atas didapatkan bahwa β₀ = 0.0232, β₁ = 0.2367, β₂ = 0.0752, β3 = 0.0790, β4 = 0.0841, β5 = 0.0827, β6_0 = 0.0066, β6_1 = -0.0158, sehingga didapatkan Ytopi =  0.0232 + (0.2367)x1 + (0.0752)x2 + (0.0790)x3 + (0.0841)x4 + (0.0827)x5 + (0.0066)x6_0 - (0.0158)x6_1. \"\"\""
   ]
  },
  {
   "cell_type": "code",
   "execution_count": 81,
   "metadata": {
    "colab": {
     "base_uri": "https://localhost:8080/",
     "height": 105
    },
    "id": "ex5nuHNK7k2N",
    "outputId": "edec69ea-fc79-485c-9409-79f6ec42ec23"
   },
   "outputs": [
    {
     "data": {
      "text/plain": [
       "' untuk estimator β₀ tidak dapat diinterpretasikan karena tidak terdapat koefisien x seperti yang lain.\\nuntuk estimator β1, apabila ada pertambahan satu satuan nilai Study_Hours_Per_Day, maka akan meningkatkan GPA setiap mahasiswa sebesar 0.2367  (jika variabel lain bernilai konstan).\\nuntuk estimator β2, apabila ada pertambahan satu satuan nilai Extracurricular_Hours_Per_Day, maka akan meningkatkan GPA setiap mahasiswa sebesar 0.0752 (jika variabel lain bernilai konstan).\\nuntuk estimator β3, apabila ada pertambahan satu satuan nilai Sleep_Hours_Per_Day, maka akan meningkatkan GPA setiap mahasiswa sebesar 0.0790 (jika variabel lain bernilai konstan).\\nuntuk estimator β4, apabila ada pertambahan satu satuan nilai Social_Hours_Per_Day, maka akan meningkatkan GPA setiap mahasiswa sebesar 0.0841  (jika variabel lain bernilai konstan).\\nuntuk estimator β5, apabila ada pertambahan satu satuan nilai Physical_Activity_Hours_Per_Day, maka akan meningkatkan GPA setiap mahasiswa sebesar 0.0827  (jika variabel lain bernilai konstan).\\nuntuk estimator β6_0, apabila ada pertambahan satu satuan nilai Stress_Level Low, maka akan meningkatkan GPA setiap mahasiswa sebesar 0.0066  (jika variabel lain bernilai konstan).\\nuntuk estimator β6_0, apabila ada pertambahan satu satuan nilai Stress_Level Medium, maka akan menurunkan GPA setiap mahasiswa sebesar 0.0158  (jika variabel lain bernilai konstan).\\n'"
      ]
     },
     "execution_count": 81,
     "metadata": {},
     "output_type": "execute_result"
    }
   ],
   "source": [
    "# Interpretasi\n",
    "\"\"\" untuk estimator β₀ tidak dapat diinterpretasikan karena tidak terdapat koefisien x seperti yang lain.\n",
    "untuk estimator β1, apabila ada pertambahan satu satuan nilai Study_Hours_Per_Day, maka akan meningkatkan GPA setiap mahasiswa sebesar 0.2367  (jika variabel lain bernilai konstan).\n",
    "untuk estimator β2, apabila ada pertambahan satu satuan nilai Extracurricular_Hours_Per_Day, maka akan meningkatkan GPA setiap mahasiswa sebesar 0.0752 (jika variabel lain bernilai konstan).\n",
    "untuk estimator β3, apabila ada pertambahan satu satuan nilai Sleep_Hours_Per_Day, maka akan meningkatkan GPA setiap mahasiswa sebesar 0.0790 (jika variabel lain bernilai konstan).\n",
    "untuk estimator β4, apabila ada pertambahan satu satuan nilai Social_Hours_Per_Day, maka akan meningkatkan GPA setiap mahasiswa sebesar 0.0841  (jika variabel lain bernilai konstan).\n",
    "untuk estimator β5, apabila ada pertambahan satu satuan nilai Physical_Activity_Hours_Per_Day, maka akan meningkatkan GPA setiap mahasiswa sebesar 0.0827  (jika variabel lain bernilai konstan).\n",
    "untuk estimator β6_0, apabila ada pertambahan satu satuan nilai Stress_Level Low, maka akan meningkatkan GPA setiap mahasiswa sebesar 0.0066  (jika variabel lain bernilai konstan).\n",
    "untuk estimator β6_0, apabila ada pertambahan satu satuan nilai Stress_Level Medium, maka akan menurunkan GPA setiap mahasiswa sebesar 0.0158  (jika variabel lain bernilai konstan).\n",
    "\"\"\""
   ]
  },
  {
   "cell_type": "code",
   "execution_count": 82,
   "metadata": {
    "colab": {
     "base_uri": "https://localhost:8080/"
    },
    "id": "BX8p7aLTSYOa",
    "outputId": "63ee0e7d-4e03-45f5-ad30-18fe68fcbff1"
   },
   "outputs": [
    {
     "name": "stdout",
     "output_type": "stream",
     "text": [
      "0    2.998148\n",
      "1    2.780900\n",
      "2    2.738457\n",
      "3    2.953070\n",
      "4    3.229697\n",
      "dtype: float64\n"
     ]
    }
   ],
   "source": [
    "# Menghasilkan Nilai Prediksi Dari x\n",
    "prediksi = model.predict(x)\n",
    "print(prediksi.head())"
   ]
  },
  {
   "cell_type": "code",
   "execution_count": 83,
   "metadata": {
    "colab": {
     "base_uri": "https://localhost:8080/"
    },
    "id": "EcrxnYwgbUOF",
    "outputId": "9ae1c2fa-de08-482c-de5c-b456c92d6b14"
   },
   "outputs": [
    {
     "name": "stdout",
     "output_type": "stream",
     "text": [
      "0   -0.008148\n",
      "1   -0.030900\n",
      "2   -0.068457\n",
      "3   -0.073070\n",
      "4    0.280303\n",
      "dtype: float64\n"
     ]
    }
   ],
   "source": [
    "# Menghasilkan Nilai Residual ei\n",
    "residual = model.resid\n",
    "print(residual.head())"
   ]
  },
  {
   "cell_type": "markdown",
   "metadata": {
    "id": "6eRp3vsQbc6q"
   },
   "source": [
    "# Melakukan Uji F"
   ]
  },
  {
   "cell_type": "code",
   "execution_count": 84,
   "metadata": {
    "colab": {
     "base_uri": "https://localhost:8080/"
    },
    "id": "bAB8Z5scbXOG",
    "outputId": "4dcd0053-e569-4623-ffed-750afc385b92"
   },
   "outputs": [
    {
     "name": "stdout",
     "output_type": "stream",
     "text": [
      "Hasil dari F hitung adalah 392.6932\n",
      "Hasil dari F tabel adalah 2.1031\n",
      "Sehingga H0 ditolak yang artinya minimal ada satu variabel independen yang berpengaruh terhadap variabel dependennya.\n"
     ]
    }
   ],
   "source": [
    "## Menentukan Hipotesis null(H0) dan Hipotesis Alternatif(H1)\n",
    "# H₀ : β₁ = β₂ = 0 (Tidak Berpengaruh)\n",
    "# H₁ : βj != 0, dimana j = 1,2,... (Minimal Ada Satu yang Berpengaruh)\n",
    "\n",
    "## Menentukan Tingkat Signifikansi\n",
    "# α = 5%\n",
    "\n",
    "## Menentukan Uji Statistik F\n",
    "from scipy.stats import f\n",
    "F_hit = model.fvalue\n",
    "df_model = model.df_model\n",
    "df_resid = model.df_resid\n",
    "alpha = 0.05\n",
    "F_tabel = f.ppf(1 - alpha, df_model, df_resid)\n",
    "\n",
    "# Menampilkan hasil dari uji f\n",
    "print('Hasil dari F hitung adalah', round(F_hit,4))\n",
    "print('Hasil dari F tabel adalah', round(F_tabel,4))\n",
    "\n",
    "# Keputusan\n",
    "if F_hit > F_tabel:\n",
    "    print(\"Sehingga H0 ditolak yang artinya minimal ada satu variabel independen yang berpengaruh terhadap variabel dependennya.\")\n",
    "\n",
    "else:\n",
    "    print(\"Sehingga H0 gagal tolak yang artinya tidak ada variabel independen yang berpengaruh terhadap variabel dependennya.\")"
   ]
  },
  {
   "cell_type": "code",
   "execution_count": 85,
   "metadata": {
    "colab": {
     "base_uri": "https://localhost:8080/",
     "height": 53
    },
    "id": "8SEVaiMg5ZUs",
    "outputId": "d22774ac-44e9-467c-80d4-6b0e23842317"
   },
   "outputs": [
    {
     "data": {
      "text/plain": [
       "'Disimpulkan bahwa F hitung didapatkan hasil 392.6932 dan F tabel didapatkan hasil 2.1031  sehingga F hitung lebih besar dari F tabel maka dapat disimpulkan bahwa H0 ditolak yang artinya minimal ada satu variabel independen yang berpengaruh terhadap variabel dependennya.'"
      ]
     },
     "execution_count": 85,
     "metadata": {},
     "output_type": "execute_result"
    }
   ],
   "source": [
    "# Kesimpulan\n",
    "f'''Disimpulkan bahwa F hitung didapatkan hasil {round(F_hit, 4)} dan F tabel didapatkan hasil {round(F_tabel, 4)}  sehingga F hitung lebih besar dari F tabel maka dapat disimpulkan bahwa H0 ditolak yang artinya minimal ada satu variabel independen yang berpengaruh terhadap variabel dependennya.'''"
   ]
  },
  {
   "cell_type": "markdown",
   "metadata": {
    "id": "mx5TK4Sv8z-p"
   },
   "source": [
    "# Mendapatkan Nilai R-Squared"
   ]
  },
  {
   "cell_type": "code",
   "execution_count": 86,
   "metadata": {
    "colab": {
     "base_uri": "https://localhost:8080/"
    },
    "id": "cEXGkzeRb6XD",
    "outputId": "5c8d360b-db28-4a31-dcb4-dca61bfc52fb"
   },
   "outputs": [
    {
     "name": "stdout",
     "output_type": "stream",
     "text": [
      "\n",
      "Nilai R-Squared Adjusted yang didapatkan dalam tabel model regresi dummy di atas adalah 0.5404, sehingga dapat disimpulkan sebesar 54% variabel Study_Hours_Per_Day,\n",
      "Extracurricular_Hours_Per_Day, Sleep_Hours_Per_Day, Social_Hours_Per_Day, Physical_Activity_Hours_Per_Day, dan Stress_Level memengaruhi variabel GPA. Sisanya 46% dipengaruhi oleh variabel lainnya yang tidak diketahui.\n",
      "\n"
     ]
    }
   ],
   "source": [
    "# Nilai R-Squared\n",
    "r_squared = f'''\n",
    "Nilai R-Squared Adjusted yang didapatkan dalam tabel model regresi dummy di atas adalah {round(model.rsquared_adj, 4)}, sehingga dapat disimpulkan sebesar 54% variabel Study_Hours_Per_Day,\n",
    "Extracurricular_Hours_Per_Day, Sleep_Hours_Per_Day, Social_Hours_Per_Day, Physical_Activity_Hours_Per_Day, dan Stress_Level memengaruhi variabel GPA. Sisanya 46% dipengaruhi oleh variabel lainnya yang tidak diketahui.\n",
    "'''\n",
    "print(r_squared)"
   ]
  },
  {
   "cell_type": "markdown",
   "metadata": {
    "id": "QhXi2wJy9sHl"
   },
   "source": [
    "# Melakukan Uji T"
   ]
  },
  {
   "cell_type": "code",
   "execution_count": 87,
   "metadata": {
    "colab": {
     "base_uri": "https://localhost:8080/"
    },
    "id": "40uxsk-Icryl",
    "outputId": "239a7bf5-974f-4a7d-d15e-618847417ec2"
   },
   "outputs": [
    {
     "name": "stdout",
     "output_type": "stream",
     "text": [
      "Hasil dari T tabel adalah 1.9612\n",
      "Nilai dari T hitung Study_Hours_Per_Day adalah 60.7938\n",
      "Sehingga H0 ditolak yang artinya variabel Study_Hours_Per_Day berpengaruh signifikan terhadap variabel GPA.\n",
      "Nilai dari T hitung Extracurricular_Hours_Per_Day adalah 18.9034\n",
      "Sehingga H0 ditolak yang artinya variabel Extracurricular_Hours_Per_Day berpengaruh signifikan terhadap variabel GPA.\n",
      "Nilai dari T hitung Sleep_Hours_Per_Day adalah 21.8269\n",
      "Sehingga H0 ditolak yang artinya variabel Sleep_Hours_Per_Day berpengaruh signifikan terhadap variabel GPA.\n",
      "Nilai dari T hitung Social_Hours_Per_Day adalah 30.7036\n",
      "Sehingga H0 ditolak yang artinya variabel Sleep_Hours_Per_Day berpengaruh signifikan terhadap variabel GPA.\n",
      "Nilai dari T hitung Physical_Activity_Hours_Per_Day adalah 44.5808\n",
      "Sehingga H0 ditolak yang artinya variabel Physical_Activity_Hours_Per_Day berpengaruh signifikan terhadap variabel GPA.\n",
      "Nilai dari T hitung Stress_Level Low adalah 0.3092\n",
      "Sehingga H0 gagal tolak yang artinya variabel Stress_Level Low tidak berpengaruh signifikan terhadap variabel GPA.\n",
      "Nilai dari T hitung Stress_Level Medium adalah -1.1731\n",
      "Sehingga H0 gagal tolak yang artinya variabel Stress_Level Medium tidak berpengaruh signifikan terhadap variabel GPA.\n"
     ]
    }
   ],
   "source": [
    "## Menentukan Hipotesis null(H0) dan Hipotesis Alternatif(H1)\n",
    "# H₀ : βj = 0, dimana j = 1,2,.. (tidak berpengaruh signifikan)\n",
    "# H₁ : βj != 0, dimana j = 1,2,.. (berpengaruh signifikan)\n",
    "\n",
    "## Menentukan Tingkat Signifikansi\n",
    "# α = 5%\n",
    "\n",
    "## Menentukan Uji Statistik T\n",
    "# Menggunakan scipy untuk menguji hipotesis Uji T\n",
    "alpha = 0.05\n",
    "DF = 2000-7 #Banyak sampel - Banyak variabel\n",
    "T_tabel = stats.t.ppf(1-alpha/2, DF)\n",
    "print('Hasil dari T tabel adalah', round(T_tabel,4))\n",
    "\n",
    "# Keputusan Study_Hours_Per_Day\n",
    "T_hitung_x1 = model.tvalues['x1']\n",
    "if T_hitung_x1 > T_tabel:\n",
    "    print(\"Nilai dari T hitung Study_Hours_Per_Day adalah\", round(T_hitung_x1,4))\n",
    "    print(\"Sehingga H0 ditolak yang artinya variabel Study_Hours_Per_Day berpengaruh signifikan terhadap variabel GPA.\")\n",
    "else:\n",
    "    print(\"Nilai dari T hitung Study_Hours_Per_Day adalah\", round(T_hitung_x1,4))\n",
    "    print(\"Sehingga H0 gagal tolak yang artinya variabel Study_Hours_Per_Day tidak berpengaruh signifikan terhadap variabel GPA.\")\n",
    "\n",
    "# Keputusan Extracurricular_Hours_Per_Day\n",
    "T_hitung_x2 = model.tvalues['x2']\n",
    "if T_hitung_x2 > T_tabel:\n",
    "    print(\"Nilai dari T hitung Extracurricular_Hours_Per_Day adalah\", round(T_hitung_x2,4))\n",
    "    print(\"Sehingga H0 ditolak yang artinya variabel Extracurricular_Hours_Per_Day berpengaruh signifikan terhadap variabel GPA.\")\n",
    "else:\n",
    "    print(\"Nilai dari T hitung Extracurricular_Hours_Per_Day adalah\", round(T_hitung_x2,4))\n",
    "    print(\"Sehingga H0 gagal tolak yang artinya variabel Extracurricular_Hours_Per_Day tidak berpengaruh signifikan terhadap variabel GPA.\")\n",
    "\n",
    "# Keputusan Sleep_Hours_Per_Day\n",
    "T_hitung_x3 = model.tvalues['x3']\n",
    "if T_hitung_x3 > T_tabel:\n",
    "    print(\"Nilai dari T hitung Sleep_Hours_Per_Day adalah\", round(T_hitung_x3,4))\n",
    "    print(\"Sehingga H0 ditolak yang artinya variabel Sleep_Hours_Per_Day berpengaruh signifikan terhadap variabel GPA.\")\n",
    "else:\n",
    "    print(\"Nilai dari T hitung Sleep_Hours_Per_Day adalah\", round(T_hitung_x3,4))\n",
    "    print(\"Sehingga H0 gagal tolak yang artinya variabel Sleep_Hours_Per_Day tidak berpengaruh signifikan terhadap variabel GPA.\")\n",
    "\n",
    "# Keputusan Social_Hours_Per_Day\n",
    "T_hitung_x4 = model.tvalues['x4']\n",
    "if T_hitung_x4 > T_tabel:\n",
    "    print(\"Nilai dari T hitung Social_Hours_Per_Day adalah\", round(T_hitung_x4,4))\n",
    "    print(\"Sehingga H0 ditolak yang artinya variabel Sleep_Hours_Per_Day berpengaruh signifikan terhadap variabel GPA.\")\n",
    "else:\n",
    "    print(\"Nilai dari T hitung Social_Hours_Per_Day adalah\", round(T_hitung_x4,4))\n",
    "    print(\"Sehingga H0 gagal tolak yang artinya variabel Social_Hours_Per_Day tidak berpengaruh signifikan terhadap variabel GPA.\")\n",
    "\n",
    "# Keputusan Physical_Activity_Hours_Per_Day\n",
    "T_hitung_x5 = model.tvalues['x5']\n",
    "if T_hitung_x5 > T_tabel:\n",
    "    print(\"Nilai dari T hitung Physical_Activity_Hours_Per_Day adalah\", round(T_hitung_x5,4))\n",
    "    print(\"Sehingga H0 ditolak yang artinya variabel Physical_Activity_Hours_Per_Day berpengaruh signifikan terhadap variabel GPA.\")\n",
    "else:\n",
    "    print(\"Nilai dari T hitung Physical_Activity_Hours_Per_Day adalah\", round(T_hitung_x5,4))\n",
    "    print(\"Sehingga H0 gagal tolak yang artinya variabel Physical_Activity_Hours_Per_Day tidak berpengaruh signifikan terhadap variabel GPA.\")\n",
    "\n",
    "# Keputusan Stress_Level Low\n",
    "T_hitung_x6_0 = model.tvalues['x6_0']\n",
    "if T_hitung_x6_0 > T_tabel:\n",
    "    print(\"Nilai dari T hitung Stress_Level Low adalah\", round(T_hitung_x6_0,4))\n",
    "    print(\"Sehingga H0 ditolak yang artinya variabel Stress_Level Low berpengaruh signifikan terhadap variabel GPA.\")\n",
    "else:\n",
    "    print(\"Nilai dari T hitung Stress_Level Low adalah\", round(T_hitung_x6_0,4))\n",
    "    print(\"Sehingga H0 gagal tolak yang artinya variabel Stress_Level Low tidak berpengaruh signifikan terhadap variabel GPA.\")\n",
    "\n",
    "# Keputusan Stress_Level Medium\n",
    "T_hitung_x6_1 = model.tvalues['x6_1']\n",
    "if T_hitung_x6_1 > T_tabel:\n",
    "    print(\"Nilai dari T hitung Stress_Level Medium adalah\", round(T_hitung_x6_1,4))\n",
    "    print(\"Sehingga H0 ditolak yang artinya variabel Stress_Level Medium berpengaruh signifikan terhadap variabel GPA.\")\n",
    "else:\n",
    "    print(\"Nilai dari T hitung Stress_Level Medium adalah\", round(T_hitung_x6_1,4))\n",
    "    print(\"Sehingga H0 gagal tolak yang artinya variabel Stress_Level Medium tidak berpengaruh signifikan terhadap variabel GPA.\")"
   ]
  },
  {
   "cell_type": "code",
   "execution_count": 88,
   "metadata": {
    "colab": {
     "base_uri": "https://localhost:8080/",
     "height": 105
    },
    "id": "EtC-L9ZT_BjK",
    "outputId": "91e33a1f-aecc-4aa9-a93b-d34c9fd48d83"
   },
   "outputs": [
    {
     "data": {
      "text/plain": [
       "'Disimpulkan bahwa T hitung Study_Hours_Per_Day didapatkan hasil yaitu 60.7938 dan T tabel didapatkan hasil yaitu 1.9612 sehingga T hitung lebih besar dari T tabel maka dapat disimpulkan bahwa H0 ditolak yang artinya lama jam belajar per hari berpengaruh secara signifikan terhadap GPA setiap mahasiswa.\\nDisimpulkan bahwa T hitung Extracurricular_Hours_Per_Day didapatkan hasil yaitu 18.9034 dan T tabel didapatkan hasil yaitu 1.9612 sehingga T hitung lebih besar dari T tabel maka dapat disimpulkan bahwa H0 ditolak yang artinya lama jam ekstrakulikuler per hari berpengaruh secara signifikan terhadap GPA setiap mahasiswa.\\nDisimpulkan bahwa T hitung Sleep_Hours_Per_Day didapatkan hasil yaitu 21.8269 dan T tabel didapatkan hasil yaitu 1.9612 sehingga T hitung lebih besar dari T tabel maka dapat disimpulkan bahwa H0 ditolak yang artinya lama jam tidur per hari berpengaruh secara signifikan terhadap GPA setiap mahasiswa.\\nDisimpulkan bahwa T hitung Social_Hours_Per_Day didapatkan hasil yaitu 30.7036 dan T tabel didapatkan hasil yaitu 1.9612 sehingga T hitung lebih besar dari T tabel maka dapat disimpulkan bahwa H0 ditolak yang artinya lama jam bersosialisasi per hari berpengaruh secara signifikan terhadap GPA setiap mahasiswa.\\nDisimpulkan bahwa T hitung Physical_Activity_Hours_Per_Day didapatkan hasil yaitu 44.5808 dan T tabel didapatkan hasil yaitu 1.9612 sehingga T hitung lebih besar dari T tabel maka dapat disimpulkan bahwa H0 ditolak yang artinya lama jam beraktivitas fisik per hari berpengaruh secara signifikan terhadap GPA setiap mahasiswa.\\nDisimpulkan bahwa T hitung Stress_Level Low didapatkan hasil yaitu 0.3092 dan T tabel didapatkan hasil yaitu 1.9612 sehingga T hitung lebih besar dari T tabel maka dapat disimpulkan bahwa H0 ditolak yang artinya tingkatan setres rendah berpengaruh secara signifikan terhadap GPA setiap mahasiswa.\\nDisimpulkan bahwa T hitung Stress_Level Medium didapatkan hasil yaitu -1.1731 dan T tabel didapatkan hasil yaitu 1.9612 sehingga T hitung lebih kecil dari T tabel maka dapat disimpulkan bahwa H0 gagal tolak yang artinya tingkatan setres sedang tidak berpengaruh secara signifikan terhadap GPA setiap mahasiswa.\\n'"
      ]
     },
     "execution_count": 88,
     "metadata": {},
     "output_type": "execute_result"
    }
   ],
   "source": [
    "# Kesimpulan\n",
    "f'''Disimpulkan bahwa T hitung Study_Hours_Per_Day didapatkan hasil yaitu {round(T_hitung_x1,4)} dan T tabel didapatkan hasil yaitu {round(T_tabel,4)} sehingga T hitung lebih besar dari T tabel maka dapat disimpulkan bahwa H0 ditolak yang artinya lama jam belajar per hari berpengaruh secara signifikan terhadap GPA setiap mahasiswa.\n",
    "Disimpulkan bahwa T hitung Extracurricular_Hours_Per_Day didapatkan hasil yaitu {round(T_hitung_x2,4)} dan T tabel didapatkan hasil yaitu {round(T_tabel,4)} sehingga T hitung lebih besar dari T tabel maka dapat disimpulkan bahwa H0 ditolak yang artinya lama jam ekstrakulikuler per hari berpengaruh secara signifikan terhadap GPA setiap mahasiswa.\n",
    "Disimpulkan bahwa T hitung Sleep_Hours_Per_Day didapatkan hasil yaitu {round(T_hitung_x3,4)} dan T tabel didapatkan hasil yaitu {round(T_tabel,4)} sehingga T hitung lebih besar dari T tabel maka dapat disimpulkan bahwa H0 ditolak yang artinya lama jam tidur per hari berpengaruh secara signifikan terhadap GPA setiap mahasiswa.\n",
    "Disimpulkan bahwa T hitung Social_Hours_Per_Day didapatkan hasil yaitu {round(T_hitung_x4,4)} dan T tabel didapatkan hasil yaitu {round(T_tabel,4)} sehingga T hitung lebih besar dari T tabel maka dapat disimpulkan bahwa H0 ditolak yang artinya lama jam bersosialisasi per hari berpengaruh secara signifikan terhadap GPA setiap mahasiswa.\n",
    "Disimpulkan bahwa T hitung Physical_Activity_Hours_Per_Day didapatkan hasil yaitu {round(T_hitung_x5,4)} dan T tabel didapatkan hasil yaitu {round(T_tabel,4)} sehingga T hitung lebih besar dari T tabel maka dapat disimpulkan bahwa H0 ditolak yang artinya lama jam beraktivitas fisik per hari berpengaruh secara signifikan terhadap GPA setiap mahasiswa.\n",
    "Disimpulkan bahwa T hitung Stress_Level Low didapatkan hasil yaitu {round(T_hitung_x6_0,4)} dan T tabel didapatkan hasil yaitu {round(T_tabel,4)} sehingga T hitung lebih besar dari T tabel maka dapat disimpulkan bahwa H0 ditolak yang artinya tingkatan setres rendah berpengaruh secara signifikan terhadap GPA setiap mahasiswa.\n",
    "Disimpulkan bahwa T hitung Stress_Level Medium didapatkan hasil yaitu {round(T_hitung_x6_1,4)} dan T tabel didapatkan hasil yaitu {round(T_tabel,4)} sehingga T hitung lebih kecil dari T tabel maka dapat disimpulkan bahwa H0 gagal tolak yang artinya tingkatan setres sedang tidak berpengaruh secara signifikan terhadap GPA setiap mahasiswa.\n",
    "'''"
   ]
  },
  {
   "cell_type": "markdown",
   "metadata": {
    "id": "YnhTNgNmIr5w"
   },
   "source": [
    "# Uji Asumsi Regresi"
   ]
  },
  {
   "cell_type": "markdown",
   "metadata": {
    "id": "I5aLadsxI1PM"
   },
   "source": [
    "## Memeriksa Asumsi Residual Berdistribusi Normal"
   ]
  },
  {
   "cell_type": "markdown",
   "metadata": {
    "id": "rl4CZUTPPGil"
   },
   "source": [
    "### Menggunakan Visualisasi"
   ]
  },
  {
   "cell_type": "code",
   "execution_count": 89,
   "metadata": {
    "colab": {
     "base_uri": "https://localhost:8080/",
     "height": 478
    },
    "id": "Fm9Lj1oRfdd6",
    "outputId": "8c96c9aa-a944-4956-d880-8dafe4e15a64"
   },
   "outputs": [
    {
     "data": {
      "image/png": "[encoded data removed]",
      "text/plain": [
       "<Figure size 640x480 with 1 Axes>"
      ]
     },
     "metadata": {},
     "output_type": "display_data"
    }
   ],
   "source": [
    "# Menggambar Plot QQ menggunakan package statmodels\n",
    "fig = sm.qqplot(residual, stats.t, fit=True, line=\"45\")\n",
    "plt.show()"
   ]
  },
  {
   "cell_type": "code",
   "execution_count": 90,
   "metadata": {
    "colab": {
     "base_uri": "https://localhost:8080/"
    },
    "id": "rbjUordPI4ba",
    "outputId": "5719dda1-5ab9-4aca-f695-df3351913e95"
   },
   "outputs": [
    {
     "name": "stdout",
     "output_type": "stream",
     "text": [
      "Pada gambar di atas dapat disimpulkan bahwa distribusi data residual mendekati garis linier sehingga data tersebut memenuhi asumsi berdistribusi normal\n"
     ]
    }
   ],
   "source": [
    "# Kesimpulan\n",
    "print(\"Pada gambar di atas dapat disimpulkan bahwa distribusi data residual mendekati garis linier sehingga data tersebut memenuhi asumsi berdistribusi normal\")"
   ]
  },
  {
   "cell_type": "markdown",
   "metadata": {
    "id": "V1T7UG5nPL-L"
   },
   "source": [
    "### Menggunakan Pengujian Statistika"
   ]
  },
  {
   "cell_type": "code",
   "execution_count": 91,
   "metadata": {
    "colab": {
     "base_uri": "https://localhost:8080/"
    },
    "id": "0wlF9y52PcZu",
    "outputId": "24a646de-bf47-4171-bde6-d1c5a471935e"
   },
   "outputs": [
    {
     "data": {
      "text/plain": [
       "[('Jarque-Bera', 0.6348465282293791),\n",
       " ('Chi^2 two-tail prob.', 0.7280225440853703),\n",
       " ('Skew', 0.025207673729686488),\n",
       " ('Kurtosis', 3.0712492180960833)]"
      ]
     },
     "execution_count": 91,
     "metadata": {},
     "output_type": "execute_result"
    }
   ],
   "source": [
    "# Pengujian Jarque\n",
    "from statsmodels.compat import lzip\n",
    "import statsmodels.formula.api as smf\n",
    "import statsmodels.stats.api as sms\n",
    "\n",
    "name = ['Jarque-Bera', 'Chi^2 two-tail prob.', 'Skew', 'Kurtosis']\n",
    "test = sms.jarque_bera(model.resid)\n",
    "lzip(name, test)"
   ]
  },
  {
   "cell_type": "code",
   "execution_count": 92,
   "metadata": {
    "colab": {
     "base_uri": "https://localhost:8080/"
    },
    "id": "soYxPbvRPgWK",
    "outputId": "f6c5a6c1-5390-46a1-abc8-08fa385f416f"
   },
   "outputs": [
    {
     "name": "stdout",
     "output_type": "stream",
     "text": [
      "Hasil dari Tabel Chi-Square adalah 12.5916\n",
      "Hasil dari Jarque-Bera adalah 0.6348\n",
      "Sehingga H0 gagal tolak yang artinya residual memenuhi asumsi berdistribusi normal.\n"
     ]
    }
   ],
   "source": [
    "## Menentukan Hipotesis null(H0) dan Hipotesis Alternatif(H1)\n",
    "# H₀ : β₁ = 0 (Populasi Berdistribusi Normal)\n",
    "# H₁ : β₁ != 0 (Populasi Tidak Berdistribusi Normal)\n",
    "\n",
    "## Menentukan Tingkat Signifikansi\n",
    "# α = 5%\n",
    "\n",
    "## Menentukan Uji Statistik\n",
    "alpha = 0.05\n",
    "DF = 6\n",
    "chi2_tabel = stats.chi2.ppf(1 - alpha, DF)\n",
    "print(\"Hasil dari Tabel Chi-Square adalah\", round(chi2_tabel,4))\n",
    "\n",
    "## Keputusan\n",
    "JB = 0.6348465282292955 # Didapatkan dari Pengujian Jarque\n",
    "if JB > chi2_tabel:\n",
    "    print(\"Hasil dari Jarque-Bera adalah\", round(JB,4))\n",
    "    print(\"Sehingga H0 ditolak yang artinya tidak memenuhi asumsi berdistribusi normal.\")\n",
    "\n",
    "else:\n",
    "    print(\"Hasil dari Jarque-Bera adalah\", round(JB,4))\n",
    "    print(\"Sehingga H0 gagal tolak yang artinya residual memenuhi asumsi berdistribusi normal.\")"
   ]
  },
  {
   "cell_type": "code",
   "execution_count": 93,
   "metadata": {
    "colab": {
     "base_uri": "https://localhost:8080/",
     "height": 53
    },
    "id": "YtslGarzP6uE",
    "outputId": "61d1e182-069b-490c-a76a-1ee12748da44"
   },
   "outputs": [
    {
     "data": {
      "text/plain": [
       "'Disimpulkan bahwa nilai Jarque-Bera didapatkan hasil yaitu 0.6348 dan T tabel didapatkan hasil yaitu 12.5916 sehingga nilai Jarque-Bera lebih kecil dari chi2 tabel maka dapat disimpulkan bahwa H0 gagal tolak yang artinya residual memenuhi asumsi berdistribusi normal.'"
      ]
     },
     "execution_count": 93,
     "metadata": {},
     "output_type": "execute_result"
    }
   ],
   "source": [
    "f'''Disimpulkan bahwa nilai Jarque-Bera didapatkan hasil yaitu {round(JB,4)} dan T tabel didapatkan hasil yaitu {round(chi2_tabel,4)} sehingga nilai Jarque-Bera lebih kecil dari chi2 tabel maka dapat disimpulkan bahwa H0 gagal tolak yang artinya residual memenuhi asumsi berdistribusi normal.'''\n"
   ]
  },
  {
   "cell_type": "markdown",
   "metadata": {
    "id": "cfbIHp1lJXh_"
   },
   "source": [
    "## Memeriksa Asumsi Residual Tidak Terjadi Autokorelasi"
   ]
  },
  {
   "cell_type": "markdown",
   "metadata": {
    "id": "R_QcOLS0ia8-"
   },
   "source": [
    "### Menggunakan Visualisasi"
   ]
  },
  {
   "cell_type": "code",
   "execution_count": 94,
   "metadata": {
    "colab": {
     "base_uri": "https://localhost:8080/",
     "height": 478
    },
    "id": "RBNQdW4yiYV1",
    "outputId": "e1af7525-c3e6-41f7-a44a-8883420d77fd"
   },
   "outputs": [
    {
     "data": {
      "image/png": "[encoded data removed]",
      "text/plain": [
       "<Figure size 640x480 with 1 Axes>"
      ]
     },
     "metadata": {},
     "output_type": "display_data"
    }
   ],
   "source": [
    "# Plot memeriksa asumsi residual tidak terjadi autokorelasi\n",
    "urutan_pengamatan = pd.Series(range(1,2001))\n",
    "plt.scatter(urutan_pengamatan, residual);\n",
    "plt.axhline(0, color='red')\n",
    "plt.xlabel('data urutan');\n",
    "plt.ylabel('Residual');\n",
    "plt.xlim([1,21]);"
   ]
  },
  {
   "cell_type": "code",
   "execution_count": 95,
   "metadata": {
    "colab": {
     "base_uri": "https://localhost:8080/"
    },
    "id": "I28yNVMfJOCH",
    "outputId": "79298c5f-ab79-429d-e10d-e4abb6b4d68e"
   },
   "outputs": [
    {
     "name": "stdout",
     "output_type": "stream",
     "text": [
      "Pada gambar di atas dapat disimpulkan bahwa distribusi data residual terhadap plot membentuk pola yang acak di sekitar garis nol sehingga dapat disimpulkan bahwa data residual tidak terjadi autokorelasi yang artinya residual ini memenuhi asumsi.\n"
     ]
    }
   ],
   "source": [
    "# Kesimpulan\n",
    "print(\"Pada gambar di atas dapat disimpulkan bahwa distribusi data residual terhadap plot membentuk pola yang acak di sekitar garis nol sehingga dapat disimpulkan bahwa data residual tidak terjadi autokorelasi yang artinya residual ini memenuhi asumsi.\")"
   ]
  },
  {
   "cell_type": "markdown",
   "metadata": {
    "id": "49eGRn2Oij_d"
   },
   "source": [
    "### Menggunakan Pengujian Statistika"
   ]
  },
  {
   "cell_type": "code",
   "execution_count": 96,
   "metadata": {
    "colab": {
     "base_uri": "https://localhost:8080/"
    },
    "id": "dgikARnQi0Yg",
    "outputId": "b503df08-ae67-43ac-87be-590204783d9d"
   },
   "outputs": [
    {
     "name": "stdout",
     "output_type": "stream",
     "text": [
      "Durbin-Watson: 2.003369670761739\n"
     ]
    }
   ],
   "source": [
    "# Pengujian Durbin-Watson\n",
    "from statsmodels.stats.stattools import durbin_watson\n",
    "dw = durbin_watson(model.resid)\n",
    "print(f\"Durbin-Watson: {dw}\")"
   ]
  },
  {
   "cell_type": "code",
   "execution_count": 97,
   "metadata": {
    "colab": {
     "base_uri": "https://localhost:8080/"
    },
    "id": "dL8dXgQZi4R_",
    "outputId": "24c83885-a5da-4a7c-eeda-00ed3c559276"
   },
   "outputs": [
    {
     "name": "stdout",
     "output_type": "stream",
     "text": [
      "Hasil dari dl adalah 1.9205\n",
      "Hasil dari du adalah 1.9325\n",
      "Hasil dari Durbin-Watson adalah 2.0034\n",
      "H0 gagal tolak yang artinya residual terjadi autokorelasi.\n"
     ]
    }
   ],
   "source": [
    "## Menentukan Hipotesis null(H0) dan Hipotesis Alternatif(H1)\n",
    "# H₀ : β₁ = 0 (Terjadi Autokorelasi)\n",
    "# H₁ : β₁ != 0 (Tidak Terjadi Autokorelasi)\n",
    "\n",
    "## Menentukan Tingkat Signifikansi\n",
    "# α = 5%\n",
    "\n",
    "## Menentukan Uji Statistik\n",
    "dw = 2.0033696707617374\n",
    "n = 2000\n",
    "k = 7\n",
    "\n",
    "# Nilai batas bawah (dl) dan batas atas (du) untuk sampel sebanyak 40 dan variabel sebanyak 3 dapat dilihat pada tabel Durbin Watson sehingga didapatkan nilai dl = 1.92046 dan du = 1.93249.\n",
    "dl = 1.92046\n",
    "du = 1.93249\n",
    "print(\"Hasil dari dl adalah\", round(dl,4))\n",
    "print(\"Hasil dari du adalah\", round(du,4))\n",
    "\n",
    "## Keputusan\n",
    "if dw < dl:\n",
    "    print(\"Hasil dari Durbin-Watson adalah\", round(dw,4))\n",
    "    print(\"sehingga H0 ditolak yang artinya residual tidak terjadi autokorelasi.\")\n",
    "elif dw > du:\n",
    "    print(\"Hasil dari Durbin-Watson adalah\", round(dw,4))\n",
    "    print(\"H0 gagal tolak yang artinya residual terjadi autokorelasi.\")\n",
    "elif dl <= dw <= du:\n",
    "    print(\"Hasil dari Durbin-Watson adalah\", round(dw,4))\n",
    "    print(\"Tidak dapat menarik kesimpulan dengan metode Durbin-Watson bahwa residual terjadi autokorelasi atau tidak\")\n",
    "else:\n",
    "    print(\"Hasil uji tidak konklusif.\")"
   ]
  },
  {
   "cell_type": "code",
   "execution_count": 98,
   "metadata": {
    "colab": {
     "base_uri": "https://localhost:8080/",
     "height": 53
    },
    "id": "9tTV3VDEkyJB",
    "outputId": "51c73bb7-b219-499c-dcbe-e10221455f23"
   },
   "outputs": [
    {
     "data": {
      "text/plain": [
       "'Disimpulkan bahwa nilai Durbin-Watson didapatkan hasil yaitu 2.0034, dl didapatkan hasil yaitu 1.9205, dan du didapatkan hasil yaitu 1.9325 sehingga nilai Durbin-Watson lebih besar dari du maka dapat disimpulkan bahwa H0 gagal tolak yang artinya residual terjadi autokorelasi.'"
      ]
     },
     "execution_count": 98,
     "metadata": {},
     "output_type": "execute_result"
    }
   ],
   "source": [
    "f'''Disimpulkan bahwa nilai Durbin-Watson didapatkan hasil yaitu {round(dw,4)}, dl didapatkan hasil yaitu {round(dl,4)}, dan du didapatkan hasil yaitu {round(du,4)} sehingga nilai Durbin-Watson lebih besar dari du maka dapat disimpulkan bahwa H0 gagal tolak yang artinya residual terjadi autokorelasi.'''"
   ]
  },
  {
   "cell_type": "markdown",
   "metadata": {
    "id": "JDrMmH3PmqUY"
   },
   "source": [
    "## Memeriksa Asumsi Residual Tidak Terjadi Heteroskedastisitas"
   ]
  },
  {
   "cell_type": "markdown",
   "metadata": {
    "id": "oafex-uom8sV"
   },
   "source": [
    "### Menggunakan Visualisasi"
   ]
  },
  {
   "cell_type": "code",
   "execution_count": 99,
   "metadata": {
    "colab": {
     "base_uri": "https://localhost:8080/",
     "height": 478
    },
    "id": "nlOgIcNJitQz",
    "outputId": "9e508507-5726-4f25-9bb1-f4967e554dfd"
   },
   "outputs": [
    {
     "data": {
      "image/png": "[encoded data removed]",
      "text/plain": [
       "<Figure size 640x480 with 1 Axes>"
      ]
     },
     "metadata": {},
     "output_type": "display_data"
    }
   ],
   "source": [
    "# Plot memeriksa asumsi residual tidak terjadi heteroskedastisitas\n",
    "influence = model.get_influence()\n",
    "\n",
    "# Menentukan standardized residualnya\n",
    "std_residual = influence.resid_studentized_internal\n",
    "plt.scatter(prediksi, std_residual);\n",
    "plt.axhline(0, color='red')\n",
    "plt.xlabel('prediksi');\n",
    "plt.ylabel('standardized residual');\n",
    "plt.xlim([2,5]);"
   ]
  },
  {
   "cell_type": "code",
   "execution_count": 100,
   "metadata": {
    "colab": {
     "base_uri": "https://localhost:8080/"
    },
    "id": "mVaBhV5hOQKZ",
    "outputId": "a51ea0ea-1643-42c5-bc31-cbddf6b4980f"
   },
   "outputs": [
    {
     "name": "stdout",
     "output_type": "stream",
     "text": [
      "Pada gambar di atas dapat disimpulkan bahwa data varians residual yang diwakili oleh standardized residualnya tidak membesar dan mengecil atau tersebar secara random sehingga dapat diartikan residual memenuhi asumsi tidak terjadi heteroskedastisitas.\n"
     ]
    }
   ],
   "source": [
    "# Kesimpulan\n",
    "print(\"Pada gambar di atas dapat disimpulkan bahwa data varians residual yang diwakili oleh standardized residualnya tidak membesar dan mengecil atau tersebar secara random sehingga dapat diartikan residual memenuhi asumsi tidak terjadi heteroskedastisitas.\")"
   ]
  },
  {
   "cell_type": "markdown",
   "metadata": {
    "id": "SnakfA0ynn7b"
   },
   "source": [
    "## Menggunakan Pengujian Statistika"
   ]
  },
  {
   "cell_type": "code",
   "execution_count": 101,
   "metadata": {
    "colab": {
     "base_uri": "https://localhost:8080/"
    },
    "id": "dgfuM9Btn8Kv",
    "outputId": "3b984e58-49b7-4b24-81d8-17a272cb7e89"
   },
   "outputs": [
    {
     "data": {
      "text/plain": [
       "[('Lagrange multiplier statistic', 3.1224261819327026),\n",
       " ('p-value', 0.8734504788741406),\n",
       " ('f-value', 0.5193938328338397),\n",
       " ('f p-value', 0.7940186647518108)]"
      ]
     },
     "execution_count": 101,
     "metadata": {},
     "output_type": "execute_result"
    }
   ],
   "source": [
    "# Pengujian Breush-Pagan\n",
    "from statsmodels.compat import lzip\n",
    "import statsmodels.formula.api as smf\n",
    "\n",
    "names = ['Lagrange multiplier statistic', 'p-value', 'f-value', 'f p-value']\n",
    "test = sms.het_breuschpagan(model.resid, model.model.exog)\n",
    "lzip(names, test)"
   ]
  },
  {
   "cell_type": "code",
   "execution_count": 102,
   "metadata": {
    "colab": {
     "base_uri": "https://localhost:8080/"
    },
    "id": "aqGqKslSoEYP",
    "outputId": "fc77b956-ab55-44f3-8d92-b9ab9a8efae7"
   },
   "outputs": [
    {
     "name": "stdout",
     "output_type": "stream",
     "text": [
      "Hasil dari Tabel Chi-Square adalah 12.591587243743977\n",
      "Hasil dari Breush-Pagan adalah 3.1224\n",
      "Sehingga H0 gagal tolak yang artinya asumsi residual tidak terjadi heteroskedastisitas.\n"
     ]
    }
   ],
   "source": [
    "## Menentukan Hipotesis null(H0) dan Hipotesis Alternatif(H1)\n",
    "# H₀ : β₁ = 0 (Terjadi Heteroskedastisitas)\n",
    "# H₁ : β₁ != 0 (Tidak Terjadi Heteroskedastisitas)\n",
    "\n",
    "## Menentukan Tingkat Signifikansi\n",
    "# α = 5%\n",
    "\n",
    "## Menentukan Uji Statistik\n",
    "BP = 3.1224261819329246\n",
    "alpha = 0.05\n",
    "DF = 6\n",
    "chi2_tabel = stats.chi2.ppf(1 - alpha, DF)\n",
    "print(\"Hasil dari Tabel Chi-Square adalah\", chi2_tabel)\n",
    "\n",
    "## Keputusan\n",
    "if BP > chi2_tabel:\n",
    "    print(\"Hasil dari Breush-Pagan adalah\", round(BP,4))\n",
    "    print(\"Sehingga  H0 ditolak yang artinya asumsi residual terjadi heteroskedastisitas.\")\n",
    "else:\n",
    "    print(\"Hasil dari Breush-Pagan adalah\", round(BP,4))\n",
    "    print(\"Sehingga H0 gagal tolak yang artinya asumsi residual tidak terjadi heteroskedastisitas.\")"
   ]
  },
  {
   "cell_type": "code",
   "execution_count": 103,
   "metadata": {
    "colab": {
     "base_uri": "https://localhost:8080/",
     "height": 53
    },
    "id": "FhYxjDThrWW6",
    "outputId": "c3c60e22-dfb6-46ae-ce44-3aa4268fcc3e"
   },
   "outputs": [
    {
     "data": {
      "text/plain": [
       "'Disimpulkan bahwa nilai Breush-Pagan didapatkan hasil yaitu 3.1224 dan chi2 tabel didapatkan hasil yaitu 3.1224 sehingga nilai Breush-Pagan lebih kecil dari chi2 tabel maka dapat disimpulkan bahwa H0 gagal tolak yang artinya residual tidak terjadi heteroskedastisitas.'"
      ]
     },
     "execution_count": 103,
     "metadata": {},
     "output_type": "execute_result"
    }
   ],
   "source": [
    "# Kesimpulan\n",
    "f'''Disimpulkan bahwa nilai Breush-Pagan didapatkan hasil yaitu {round(BP,4)} dan chi2 tabel didapatkan hasil yaitu {round(BP,4)} sehingga nilai Breush-Pagan lebih kecil dari chi2 tabel maka dapat disimpulkan bahwa H0 gagal tolak yang artinya residual tidak terjadi heteroskedastisitas.'''"
   ]
  },
  {
   "cell_type": "markdown",
   "metadata": {
    "id": "DCnlwZ8ko0HB"
   },
   "source": [
    "## Memeriksa Apakah Variabel Independen Memenuhi Asumsi Multikolinieritas"
   ]
  },
  {
   "cell_type": "code",
   "execution_count": 104,
   "metadata": {
    "colab": {
     "base_uri": "https://localhost:8080/"
    },
    "id": "Uo0lZzJumOG8",
    "outputId": "855e34fc-020f-41b6-fbd4-a142e13efec1"
   },
   "outputs": [
    {
     "name": "stdout",
     "output_type": "stream",
     "text": [
      "  feature        VIF\n",
      "0      x1  59.638404\n",
      "1      x2   3.847777\n",
      "2      x3  25.685562\n",
      "3      x4   3.197030\n",
      "4      x5   3.047199\n",
      "5      x6   2.838533\n"
     ]
    }
   ],
   "source": [
    "from statsmodels.stats.outliers_influence import variance_inflation_factor\n",
    "\n",
    "# Himpunan variabel Independen\n",
    "X = df_dummy[['x1', 'x2', 'x3', 'x4', 'x5', 'x6']]\n",
    "\n",
    "# VIF DataFrame\n",
    "vif_data = pd.DataFrame()\n",
    "vif_data[\"feature\"] = X.columns\n",
    "\n",
    "# Menghitung VIF untuk setiap variabel\n",
    "vif_data[\"VIF\"] = [variance_inflation_factor(X.values, i) for i in range(len(X.columns))]\n",
    "print(vif_data)"
   ]
  },
  {
   "cell_type": "code",
   "execution_count": 105,
   "metadata": {
    "colab": {
     "base_uri": "https://localhost:8080/",
     "height": 53
    },
    "id": "e9fn8VRDmV5f",
    "outputId": "35890055-8b35-490a-c784-226dd2367cf5"
   },
   "outputs": [
    {
     "data": {
      "text/plain": [
       "' Dapat disimpulkan bahwa variabel independen memenuhi asumsi multikolinieritas karena terdapat hasil VIF yang lebih dari 10 yaitu pada variabel x1(Study_Hours_Per_Day) yang bernilai 59.638404 dan x3(Sleep_Hours_Per_Day) yang bernilai 25.685562.'"
      ]
     },
     "execution_count": 105,
     "metadata": {},
     "output_type": "execute_result"
    }
   ],
   "source": [
    "# Kesimpulan\n",
    "\"\"\" Dapat disimpulkan bahwa variabel independen memenuhi asumsi multikolinieritas karena terdapat hasil VIF yang lebih dari 10 yaitu pada variabel x1(Study_Hours_Per_Day) yang bernilai 59.638404 dan x3(Sleep_Hours_Per_Day) yang bernilai 25.685562.\"\"\""
   ]
  },
  {
   "cell_type": "markdown",
   "metadata": {
    "id": "eZH39ZmL_c6z"
   },
   "source": [
    "# Analisis Regresi Polinomial"
   ]
  },
  {
   "cell_type": "code",
   "execution_count": 106,
   "metadata": {
    "colab": {
     "base_uri": "https://localhost:8080/",
     "height": 424
    },
    "id": "9bD-wup0_fWs",
    "outputId": "77ff10bb-3393-4041-c2df-d55edfd2bf60"
   },
   "outputs": [
    {
     "data": {
      "text/html": [
       "<div>\n",
       "<style scoped>\n",
       "    .dataframe tbody tr th:only-of-type {\n",
       "        vertical-align: middle;\n",
       "    }\n",
       "\n",
       "    .dataframe tbody tr th {\n",
       "        vertical-align: top;\n",
       "    }\n",
       "\n",
       "    .dataframe thead th {\n",
       "        text-align: right;\n",
       "    }\n",
       "</style>\n",
       "<table border=\"1\" class=\"dataframe\">\n",
       "  <thead>\n",
       "    <tr style=\"text-align: right;\">\n",
       "      <th></th>\n",
       "      <th>Extracurricular_Hours_Per_Day</th>\n",
       "      <th>GPA</th>\n",
       "    </tr>\n",
       "  </thead>\n",
       "  <tbody>\n",
       "    <tr>\n",
       "      <th>0</th>\n",
       "      <td>3.8</td>\n",
       "      <td>2.99</td>\n",
       "    </tr>\n",
       "    <tr>\n",
       "      <th>1</th>\n",
       "      <td>3.5</td>\n",
       "      <td>2.75</td>\n",
       "    </tr>\n",
       "    <tr>\n",
       "      <th>2</th>\n",
       "      <td>3.9</td>\n",
       "      <td>2.67</td>\n",
       "    </tr>\n",
       "    <tr>\n",
       "      <th>3</th>\n",
       "      <td>2.1</td>\n",
       "      <td>2.88</td>\n",
       "    </tr>\n",
       "    <tr>\n",
       "      <th>4</th>\n",
       "      <td>0.6</td>\n",
       "      <td>3.51</td>\n",
       "    </tr>\n",
       "    <tr>\n",
       "      <th>...</th>\n",
       "      <td>...</td>\n",
       "      <td>...</td>\n",
       "    </tr>\n",
       "    <tr>\n",
       "      <th>1995</th>\n",
       "      <td>0.2</td>\n",
       "      <td>3.32</td>\n",
       "    </tr>\n",
       "    <tr>\n",
       "      <th>1996</th>\n",
       "      <td>2.8</td>\n",
       "      <td>2.65</td>\n",
       "    </tr>\n",
       "    <tr>\n",
       "      <th>1997</th>\n",
       "      <td>0.0</td>\n",
       "      <td>3.14</td>\n",
       "    </tr>\n",
       "    <tr>\n",
       "      <th>1998</th>\n",
       "      <td>0.7</td>\n",
       "      <td>3.04</td>\n",
       "    </tr>\n",
       "    <tr>\n",
       "      <th>1999</th>\n",
       "      <td>1.7</td>\n",
       "      <td>3.58</td>\n",
       "    </tr>\n",
       "  </tbody>\n",
       "</table>\n",
       "<p>2000 rows × 2 columns</p>\n",
       "</div>"
      ],
      "text/plain": [
       "      Extracurricular_Hours_Per_Day   GPA\n",
       "0                               3.8  2.99\n",
       "1                               3.5  2.75\n",
       "2                               3.9  2.67\n",
       "3                               2.1  2.88\n",
       "4                               0.6  3.51\n",
       "...                             ...   ...\n",
       "1995                            0.2  3.32\n",
       "1996                            2.8  2.65\n",
       "1997                            0.0  3.14\n",
       "1998                            0.7  3.04\n",
       "1999                            1.7  3.58\n",
       "\n",
       "[2000 rows x 2 columns]"
      ]
     },
     "execution_count": 106,
     "metadata": {},
     "output_type": "execute_result"
    }
   ],
   "source": [
    "df_polinomial = df[['Extracurricular_Hours_Per_Day', 'GPA']]\n",
    "df_polinomial"
   ]
  },
  {
   "cell_type": "markdown",
   "metadata": {
    "id": "MJN5ILD8FC8k"
   },
   "source": [
    "## Membuat Scatter Plot Extracurricular_Hours_Per_Day vs GPA"
   ]
  },
  {
   "cell_type": "code",
   "execution_count": 107,
   "metadata": {
    "colab": {
     "base_uri": "https://localhost:8080/",
     "height": 466
    },
    "id": "RpRm2kO8AVLg",
    "outputId": "03180285-3897-438c-f4b6-a537168dc7e1"
   },
   "outputs": [
    {
     "data": {
      "text/plain": [
       "<matplotlib.collections.PathCollection at 0x1ba3b511790>"
      ]
     },
     "execution_count": 107,
     "metadata": {},
     "output_type": "execute_result"
    },
    {
     "data": {
      "image/png": "[encoded data removed]",
      "text/plain": [
       "<Figure size 640x480 with 1 Axes>"
      ]
     },
     "metadata": {},
     "output_type": "display_data"
    }
   ],
   "source": [
    "plt.scatter(x=df_polinomial.Extracurricular_Hours_Per_Day, y=df_polinomial.GPA)"
   ]
  },
  {
   "cell_type": "code",
   "execution_count": 108,
   "metadata": {
    "colab": {
     "base_uri": "https://localhost:8080/"
    },
    "id": "96rnW0LgLEhd",
    "outputId": "89de434c-832c-4c5a-b5a4-42bc740436db"
   },
   "outputs": [
    {
     "name": "stdout",
     "output_type": "stream",
     "text": [
      "Berdasarkan scatter plot di atas, pada sebaran titik-titik data tidak terlihat adanya hubungan linier yang jelas antara lama jam ekstrakulikuler per hari dan GPA.\n",
      "Namun, pola sebaran titik-titik data mengindikasikan kemungkinan adanya hubungan non-linier. Hubungan non-linier ini dapat berupa kurva, seperti semmisal, di mana\n",
      "GPA mungkin meningkat hingga titik tertentu dengan bertambahnya lama ekstrakulikuler per hari, lalu menurun setelahnya.\n"
     ]
    }
   ],
   "source": [
    "print(\"Berdasarkan scatter plot di atas, pada sebaran titik-titik data tidak terlihat adanya hubungan linier yang jelas antara lama jam ekstrakulikuler per hari dan GPA.\" +\n",
    "      \"\\nNamun, pola sebaran titik-titik data mengindikasikan kemungkinan adanya hubungan non-linier. Hubungan non-linier ini dapat berupa kurva, seperti semmisal, di mana\" +\n",
    "      \"\\nGPA mungkin meningkat hingga titik tertentu dengan bertambahnya lama ekstrakulikuler per hari, lalu menurun setelahnya.\")"
   ]
  },
  {
   "cell_type": "markdown",
   "metadata": {
    "id": "SZQ7IgphF42O"
   },
   "source": [
    "## Membuat Model Regresi Polinomial Orde 1"
   ]
  },
  {
   "cell_type": "code",
   "execution_count": 109,
   "metadata": {
    "colab": {
     "base_uri": "https://localhost:8080/"
    },
    "id": "cdH33mDmD72d",
    "outputId": "20eb2880-f04c-4c0f-a148-68d5aee0e1b1"
   },
   "outputs": [
    {
     "name": "stdout",
     "output_type": "stream",
     "text": [
      "                            OLS Regression Results                            \n",
      "==============================================================================\n",
      "Dep. Variable:                      y   R-squared:                       0.001\n",
      "Model:                            OLS   Adj. R-squared:                  0.001\n",
      "Method:                 Least Squares   F-statistic:                     2.070\n",
      "Date:                Sun, 24 Nov 2024   Prob (F-statistic):              0.150\n",
      "Time:                        22:40:33   Log-Likelihood:                -419.53\n",
      "No. Observations:                2000   AIC:                             843.1\n",
      "Df Residuals:                    1998   BIC:                             854.3\n",
      "Df Model:                           1                                         \n",
      "Covariance Type:            nonrobust                                         \n",
      "==============================================================================\n",
      "                 coef    std err          t      P>|t|      [0.025      0.975]\n",
      "------------------------------------------------------------------------------\n",
      "Intercept      3.1325      0.013    235.588      0.000       3.106       3.159\n",
      "x             -0.0083      0.006     -1.439      0.150      -0.020       0.003\n",
      "==============================================================================\n",
      "Omnibus:                       17.190   Durbin-Watson:                   2.002\n",
      "Prob(Omnibus):                  0.000   Jarque-Bera (JB):               11.694\n",
      "Skew:                           0.027   Prob(JB):                      0.00289\n",
      "Kurtosis:                       2.629   Cond. No.                         5.26\n",
      "==============================================================================\n",
      "\n",
      "Notes:\n",
      "[1] Standard Errors assume that the covariance matrix of the errors is correctly specified.\n"
     ]
    }
   ],
   "source": [
    "x = df_polinomial.Extracurricular_Hours_Per_Day\n",
    "y = df_polinomial.GPA\n",
    "reg_mod = 'y~x'\n",
    "model = smf.ols(formula = reg_mod, data=df).fit()\n",
    "print(model.summary())"
   ]
  },
  {
   "cell_type": "code",
   "execution_count": 110,
   "metadata": {
    "colab": {
     "base_uri": "https://localhost:8080/"
    },
    "id": "smOO0SU8Htcg",
    "outputId": "e9e23791-1cb2-43ef-f188-e1564372f710"
   },
   "outputs": [
    {
     "name": "stdout",
     "output_type": "stream",
     "text": [
      "Berdasarkan hasil model regresi polinomial orde 1 di atas didapatkan bahwa β₀ = 3.1325, β = -0.0083, sehingga didapatkan Ytopi = 3.1325 + (-0.0083)x.\n",
      "Namun untuk nilai p-value dari Uji F statistc sebesar 0.150 yang lebih besar dari α = 0.05, oleh karena itu variabel independennya belum signifikan\n",
      "terhadap hasil percobaan. Sehingga dilanjutkan dengan pemodelan orde ke-2 atau kuadratik.\n"
     ]
    }
   ],
   "source": [
    "print(\"Berdasarkan hasil model regresi polinomial orde 1 di atas didapatkan bahwa β₀ = 3.1325, β = -0.0083, sehingga didapatkan Ytopi = 3.1325 + (-0.0083)x.\" +\n",
    "      \"\\nNamun untuk nilai p-value dari Uji F statistc sebesar 0.150 yang lebih besar dari α = 0.05, oleh karena itu variabel independennya belum signifikan\" +\n",
    "      \"\\nterhadap hasil percobaan. Sehingga dilanjutkan dengan pemodelan orde ke-2 atau kuadratik.\")"
   ]
  },
  {
   "cell_type": "code",
   "execution_count": 111,
   "metadata": {
    "colab": {
     "base_uri": "https://localhost:8080/"
    },
    "id": "X2qj5lLzN7Zo",
    "outputId": "198ac41f-1021-4866-ce12-837f30e8a741"
   },
   "outputs": [
    {
     "name": "stdout",
     "output_type": "stream",
     "text": [
      "Untuk estimator β₀ tidak dapat diinterpretasikan karena tidak terdapat koefisien x seperti yang lain.\n",
      "Untuk estimator β, apabila ada pertambahan satu satuan nilai Extracurricular_Hours_Per_Day, maka akan menurunkan GPA setiap mahasiswa sebesar 0.0083.\n"
     ]
    }
   ],
   "source": [
    "#Interpretasi\n",
    "print(\"Untuk estimator β₀ tidak dapat diinterpretasikan karena tidak terdapat koefisien x seperti yang lain.\" +\n",
    "      \"\\nUntuk estimator β, apabila ada pertambahan satu satuan nilai Extracurricular_Hours_Per_Day, maka akan menurunkan GPA setiap mahasiswa sebesar 0.0083.\")"
   ]
  },
  {
   "cell_type": "markdown",
   "metadata": {
    "id": "BpqIgwBHGVgr"
   },
   "source": [
    "## Membuat Model Regresi Polinomial Orde 2"
   ]
  },
  {
   "cell_type": "code",
   "execution_count": 112,
   "metadata": {
    "colab": {
     "base_uri": "https://localhost:8080/"
    },
    "id": "oee937LfEPNd",
    "outputId": "d0e63a0e-94e4-41bf-94ec-8cb8a906ab4d"
   },
   "outputs": [
    {
     "name": "stdout",
     "output_type": "stream",
     "text": [
      "                            OLS Regression Results                            \n",
      "==============================================================================\n",
      "Dep. Variable:                      y   R-squared:                       0.001\n",
      "Model:                            OLS   Adj. R-squared:                  0.001\n",
      "Method:                 Least Squares   F-statistic:                     2.451\n",
      "Date:                Sun, 24 Nov 2024   Prob (F-statistic):              0.118\n",
      "Time:                        22:40:33   Log-Likelihood:                -419.34\n",
      "No. Observations:                2000   AIC:                             842.7\n",
      "Df Residuals:                    1998   BIC:                             853.9\n",
      "Df Model:                           1                                         \n",
      "Covariance Type:            nonrobust                                         \n",
      "==============================================================================\n",
      "                 coef    std err          t      P>|t|      [0.025      0.975]\n",
      "------------------------------------------------------------------------------\n",
      "Intercept      3.1276      0.010    313.052      0.000       3.108       3.147\n",
      "I(x ** 2)     -0.0022      0.001     -1.566      0.118      -0.005       0.001\n",
      "==============================================================================\n",
      "Omnibus:                       17.069   Durbin-Watson:                   2.003\n",
      "Prob(Omnibus):                  0.000   Jarque-Bera (JB):               11.628\n",
      "Skew:                           0.026   Prob(JB):                      0.00299\n",
      "Kurtosis:                       2.630   Cond. No.                         10.8\n",
      "==============================================================================\n",
      "\n",
      "Notes:\n",
      "[1] Standard Errors assume that the covariance matrix of the errors is correctly specified.\n"
     ]
    }
   ],
   "source": [
    "x = df_polinomial.Extracurricular_Hours_Per_Day\n",
    "y = df_polinomial.GPA\n",
    "reg_mod = 'y~I(x**2)'\n",
    "model = smf.ols(formula = reg_mod, data=df).fit()\n",
    "print(model.summary())"
   ]
  },
  {
   "cell_type": "code",
   "execution_count": 113,
   "metadata": {
    "colab": {
     "base_uri": "https://localhost:8080/"
    },
    "id": "SbU6ElMFJH2N",
    "outputId": "9d134d8c-f074-4fa0-9f3f-41cfc6a93620"
   },
   "outputs": [
    {
     "name": "stdout",
     "output_type": "stream",
     "text": [
      "Berdasarkan hasil model regresi polinomial orde 2 di atas didapatkan bahwa β₀ = 3.1276, β1 = -0.0022, sehingga didapatkan Ytopi = 3.1276 + (-0.0022)x.\n",
      "Namun untuk nilai p-value dari Uji F statistc sebesar 0.118 yang lebih besar dari α = 0.05, oleh karena itu variabel independennya belum signifikan\n",
      "terhadap hasil percobaan. Sehingga dilanjutkan dengan pemodelan orde ke-3 atau kubik.\n"
     ]
    }
   ],
   "source": [
    "print(\"Berdasarkan hasil model regresi polinomial orde 2 di atas didapatkan bahwa β₀ = 3.1276, β1 = -0.0022, sehingga didapatkan Ytopi = 3.1276 + (-0.0022)x.\" +\n",
    "      \"\\nNamun untuk nilai p-value dari Uji F statistc sebesar 0.118 yang lebih besar dari α = 0.05, oleh karena itu variabel independennya belum signifikan\" +\n",
    "      \"\\nterhadap hasil percobaan. Sehingga dilanjutkan dengan pemodelan orde ke-3 atau kubik.\")"
   ]
  },
  {
   "cell_type": "code",
   "execution_count": 114,
   "metadata": {
    "colab": {
     "base_uri": "https://localhost:8080/"
    },
    "id": "drmjcD4kPdrV",
    "outputId": "fdcfc6df-5620-41ec-fe77-b2cf9165a050"
   },
   "outputs": [
    {
     "name": "stdout",
     "output_type": "stream",
     "text": [
      "Untuk estimator β₀ tidak dapat diinterpretasikan karena tidak terdapat koefisien x seperti yang lain.\n",
      "Untuk estimator β, apabila ada pertambahan pangkat 2 dari satu satuan nilai Extracurricular_Hours_Per_Day, maka akan menurunkan GPA setiap mahasiswa sebesar 0.0022.\n"
     ]
    }
   ],
   "source": [
    "#Interpretasi\n",
    "print(\"Untuk estimator β₀ tidak dapat diinterpretasikan karena tidak terdapat koefisien x seperti yang lain.\" +\n",
    "      \"\\nUntuk estimator β, apabila ada pertambahan pangkat 2 dari satu satuan nilai Extracurricular_Hours_Per_Day, maka akan menurunkan GPA setiap mahasiswa sebesar 0.0022.\")"
   ]
  },
  {
   "cell_type": "markdown",
   "metadata": {
    "id": "qhEFiqy0GXkD"
   },
   "source": [
    "## Membuat Model Regresi Polinomial Orde 18"
   ]
  },
  {
   "cell_type": "code",
   "execution_count": 115,
   "metadata": {
    "colab": {
     "base_uri": "https://localhost:8080/"
    },
    "id": "ukCQLUbGEXcP",
    "outputId": "3ec2a79e-6940-4cd9-f04b-eb07140abbce"
   },
   "outputs": [
    {
     "name": "stdout",
     "output_type": "stream",
     "text": [
      "                            OLS Regression Results                            \n",
      "==============================================================================\n",
      "Dep. Variable:                      y   R-squared:                       0.002\n",
      "Model:                            OLS   Adj. R-squared:                  0.001\n",
      "Method:                 Least Squares   F-statistic:                     3.901\n",
      "Date:                Sun, 24 Nov 2024   Prob (F-statistic):             0.0484\n",
      "Time:                        22:40:33   Log-Likelihood:                -418.62\n",
      "No. Observations:                2000   AIC:                             841.2\n",
      "Df Residuals:                    1998   BIC:                             852.4\n",
      "Df Model:                           1                                         \n",
      "Covariance Type:            nonrobust                                         \n",
      "==============================================================================\n",
      "                 coef    std err          t      P>|t|      [0.025      0.975]\n",
      "------------------------------------------------------------------------------\n",
      "Intercept      3.1203      0.007    443.981      0.000       3.107       3.134\n",
      "I(x ** 18) -1.211e-12   6.13e-13     -1.975      0.048   -2.41e-12   -8.53e-15\n",
      "==============================================================================\n",
      "Omnibus:                       16.486   Durbin-Watson:                   2.000\n",
      "Prob(Omnibus):                  0.000   Jarque-Bera (JB):               11.336\n",
      "Skew:                           0.029   Prob(JB):                      0.00345\n",
      "Kurtosis:                       2.636   Cond. No.                     1.21e+10\n",
      "==============================================================================\n",
      "\n",
      "Notes:\n",
      "[1] Standard Errors assume that the covariance matrix of the errors is correctly specified.\n",
      "[2] The condition number is large, 1.21e+10. This might indicate that there are\n",
      "strong multicollinearity or other numerical problems.\n"
     ]
    }
   ],
   "source": [
    "x = df_polinomial.Extracurricular_Hours_Per_Day\n",
    "y = df_polinomial.GPA\n",
    "reg_mod = 'y~I(x**18)'\n",
    "model = smf.ols(formula = reg_mod, data=df).fit()\n",
    "print(model.summary())"
   ]
  },
  {
   "cell_type": "code",
   "execution_count": 116,
   "metadata": {
    "colab": {
     "base_uri": "https://localhost:8080/"
    },
    "id": "iX7mRfT6J6_-",
    "outputId": "c67c2c85-49fe-4a73-d34f-9bd5840ef307"
   },
   "outputs": [
    {
     "name": "stdout",
     "output_type": "stream",
     "text": [
      "Berdasarkan hasil model regresi polinomial orde 18 di atas didapatkan bahwa β₀ = 3.1203, β₁ = -0.0000000001211, sehingga didapatkan Ytopi =  3.1203 + (-0.0000000001211)x^18.\n",
      "Namun untuk nilai p-value dari Uji F statistc sebesar 0.0484 yang lebih kecil dari α = 0.05, oleh karena itu variabel independennya sudah signifikan.\n"
     ]
    }
   ],
   "source": [
    "print(\"Berdasarkan hasil model regresi polinomial orde 18 di atas didapatkan bahwa β₀ = 3.1203, β₁ = -0.0000000001211, sehingga didapatkan Ytopi =  3.1203 + (-0.0000000001211)x^18.\" +\n",
    "      \"\\nNamun untuk nilai p-value dari Uji F statistc sebesar 0.0484 yang lebih kecil dari α = 0.05, oleh karena itu variabel independennya sudah signifikan.\")"
   ]
  },
  {
   "cell_type": "code",
   "execution_count": 117,
   "metadata": {
    "colab": {
     "base_uri": "https://localhost:8080/"
    },
    "id": "vaXsvfGPPrEx",
    "outputId": "e06da7de-2ce3-4ec7-d392-c8596fff89c2"
   },
   "outputs": [
    {
     "name": "stdout",
     "output_type": "stream",
     "text": [
      "Untuk estimator β₀ tidak dapat diinterpretasikan karena tidak terdapat koefisien x seperti yang lain.\n",
      "Untuk estimator β, apabila ada pertambahan pangkat 3 dari satu satuan nilai Extracurricular_Hours_Per_Day, maka akan menurunkan GPA setiap mahasiswa sebesar 0.0000000001211.\n"
     ]
    }
   ],
   "source": [
    "#Interpretasi\n",
    "print(\"Untuk estimator β₀ tidak dapat diinterpretasikan karena tidak terdapat koefisien x seperti yang lain.\" +\n",
    "      \"\\nUntuk estimator β, apabila ada pertambahan pangkat 3 dari satu satuan nilai Extracurricular_Hours_Per_Day, maka akan menurunkan GPA setiap mahasiswa sebesar 0.0000000001211.\")"
   ]
  },
  {
   "cell_type": "code",
   "execution_count": 118,
   "metadata": {
    "colab": {
     "base_uri": "https://localhost:8080/",
     "height": 458
    },
    "id": "GZ19SCyIEg-h",
    "outputId": "24c04e28-3db9-45f2-bf25-01e0eb7c9cae"
   },
   "outputs": [
    {
     "data": {
      "text/plain": [
       "0       3.087257\n",
       "1       3.112790\n",
       "2       3.067554\n",
       "3       3.120311\n",
       "4       3.120312\n",
       "          ...   \n",
       "1995    3.120312\n",
       "1996    3.120176\n",
       "1997    3.120312\n",
       "1998    3.120312\n",
       "1999    3.120312\n",
       "Length: 2000, dtype: float64"
      ]
     },
     "execution_count": 118,
     "metadata": {},
     "output_type": "execute_result"
    }
   ],
   "source": [
    "# Nilai Prediksi Model Regresi Polinomial\n",
    "model.fittedvalues"
   ]
  },
  {
   "cell_type": "markdown",
   "metadata": {
    "id": "cujW7Q8pG3VF"
   },
   "source": [
    "## Membuat Scatter Plot Nilai Prediksi Model Regresi Polinomial vs GPA"
   ]
  },
  {
   "cell_type": "code",
   "execution_count": 119,
   "metadata": {
    "colab": {
     "base_uri": "https://localhost:8080/",
     "height": 466
    },
    "id": "1dlshtkQElrN",
    "outputId": "99d8693d-0e5c-47f1-9c46-ab65810a26dd"
   },
   "outputs": [
    {
     "data": {
      "text/plain": [
       "<matplotlib.collections.PathCollection at 0x1ba3b58f650>"
      ]
     },
     "execution_count": 119,
     "metadata": {},
     "output_type": "execute_result"
    },
    {
     "data": {
      "image/png": "[encoded data removed]",
      "text/plain": [
       "<Figure size 640x480 with 1 Axes>"
      ]
     },
     "metadata": {},
     "output_type": "display_data"
    }
   ],
   "source": [
    "plt.scatter(x=model.fittedvalues, y=y)"
   ]
  },
  {
   "cell_type": "code",
   "execution_count": 120,
   "metadata": {
    "colab": {
     "base_uri": "https://localhost:8080/"
    },
    "id": "CwLdu0btEpR1",
    "outputId": "ebc06cce-cc39-4f58-9919-f4eeb3cbaa91"
   },
   "outputs": [
    {
     "name": "stdout",
     "output_type": "stream",
     "text": [
      "Berdasarkan scatter plot di atas, terlihat titik-titik data tersebar dalam garis vertikal yang rapat, menunjukkan sedikit variasi pada nilai prediksi model regresi polinomial.\n",
      "Nilai prediksi model cenderung berkumpul pada rentang nilai yang sangat sempit. Hal ini mengindikasikan bahwa model regresi polinomial yang digunakan mungkin kurang\n",
      "mampu memberikan prediksi yang cukup akurat untuk nilai GPA.\n"
     ]
    }
   ],
   "source": [
    "print(\"Berdasarkan scatter plot di atas, terlihat titik-titik data tersebar dalam garis vertikal yang rapat, menunjukkan sedikit variasi pada nilai prediksi model regresi polinomial.\" +\n",
    "      \"\\nNilai prediksi model cenderung berkumpul pada rentang nilai yang sangat sempit. Hal ini mengindikasikan bahwa model regresi polinomial yang digunakan mungkin kurang\" +\n",
    "      \"\\nmampu memberikan prediksi yang cukup akurat untuk nilai GPA.\")"
   ]
  },
  {
   "cell_type": "markdown",
   "metadata": {
    "id": "lpkmRa3WXDPn"
   },
   "source": [
    "## Kesimpulan"
   ]
  },
  {
   "cell_type": "code",
   "execution_count": 121,
   "metadata": {
    "colab": {
     "base_uri": "https://localhost:8080/"
    },
    "id": "sfkqz7DFWYUM",
    "outputId": "ed266e39-c863-4583-a309-ad31bb3d70b6"
   },
   "outputs": [
    {
     "name": "stdout",
     "output_type": "stream",
     "text": [
      "Berdasarkan analisis regresi polinomial yang dilakukan, model regresi polinomial untuk variabel independen Extracurricular_Hours_Per Day baru signifikan pada orde ke-18.\n",
      "Analisis Regresi Polinomial kurang cocok untuk diterapkan pada data tersebut, sehingga tidak dapat memberikan prediksi yang akurat untuk nilai GPA dengan menggunakan Extracurricular_Hours_Per_Day\n",
      "dan kurang mampu menangkap variasi data dalam dataframe.\n"
     ]
    }
   ],
   "source": [
    "print(\"Berdasarkan analisis regresi polinomial yang dilakukan, model regresi polinomial untuk variabel independen Extracurricular_Hours_Per Day baru signifikan pada orde ke-18.\" +\n",
    "      \"\\nAnalisis Regresi Polinomial kurang cocok untuk diterapkan pada data tersebut, sehingga tidak dapat memberikan prediksi yang akurat untuk nilai GPA dengan menggunakan Extracurricular_Hours_Per_Day\" +\n",
    "      \"\\ndan kurang mampu menangkap variasi data dalam dataframe.\")"
   ]
  },
  {
   "cell_type": "code",
   "execution_count": null,
   "metadata": {
    "id": "kSArkxjRhANZ"
   },
   "outputs": [],
   "source": []
  }
 ],
 "metadata": {
  "colab": {
   "provenance": []
  },
  "kernelspec": {
   "display_name": "Python 3 (ipykernel)",
   "language": "python",
   "name": "python3"
  },
  "language_info": {
   "codemirror_mode": {
    "name": "ipython",
    "version": 3
   },
   "file_extension": ".py",
   "mimetype": "text/x-python",
   "name": "python",
   "nbconvert_exporter": "python",
   "pygments_lexer": "ipython3",
   "version": "3.11.3"
  }
 },
 "nbformat": 4,
 "nbformat_minor": 4
}
